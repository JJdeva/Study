{
 "cells": [
  {
   "cell_type": "code",
   "execution_count": 1,
   "id": "57defbb9-23e6-4bac-a4f5-f747c3c81f05",
   "metadata": {},
   "outputs": [
    {
     "name": "stdout",
     "output_type": "stream",
     "text": [
      "Unable to load extension: pydevd_plugins.extensions.types.pydevd_plugin_pandas_types\n",
      "Available kernels:\n",
      "  torch113    /Users/jay/Library/Jupyter/kernels/torch113\n",
      "  python3     /Users/jay/opt/anaconda3/envs/torch113/share/jupyter/kernels/python3\n"
     ]
    }
   ],
   "source": [
    "!jupyter kernelspec list"
   ]
  },
  {
   "cell_type": "code",
   "execution_count": 2,
   "id": "bd3b3815-bb50-4c10-a0df-e623ef709742",
   "metadata": {},
   "outputs": [
    {
     "name": "stdout",
     "output_type": "stream",
     "text": [
      "/Users/jay/.pyenv/shims/python\n",
      "/Users/jay/opt/anaconda3/envs/torch113/bin/python\n"
     ]
    }
   ],
   "source": [
    "!where python"
   ]
  },
  {
   "cell_type": "code",
   "execution_count": 3,
   "id": "d24a5667-91cb-46e4-89a7-8b43719ab9e3",
   "metadata": {},
   "outputs": [
    {
     "name": "stdout",
     "output_type": "stream",
     "text": [
      "/Users/jay/.pyenv/shims/python\n"
     ]
    }
   ],
   "source": [
    "!which python"
   ]
  },
  {
   "cell_type": "code",
   "execution_count": 4,
   "id": "15ce9918-74ed-4702-8993-438399c3f50f",
   "metadata": {},
   "outputs": [],
   "source": [
    "import sys"
   ]
  },
  {
   "cell_type": "code",
   "execution_count": 5,
   "id": "1ed3f42a-9144-44bd-ac23-86714d7ebb93",
   "metadata": {},
   "outputs": [
    {
     "name": "stdout",
     "output_type": "stream",
     "text": [
      "/Users/jay/.pyenv/shims/python\n"
     ]
    }
   ],
   "source": [
    "!which python"
   ]
  },
  {
   "cell_type": "code",
   "execution_count": 11,
   "id": "9bd17d6d-c225-4756-93c5-f6eff29b70c6",
   "metadata": {},
   "outputs": [
    {
     "name": "stdout",
     "output_type": "stream",
     "text": [
      "Package    Version\n",
      "---------- -------\n",
      "asgiref    3.5.2\n",
      "Django     4.0\n",
      "pip        21.2.4\n",
      "setuptools 58.1.0\n",
      "sqlparse   0.4.2\n",
      "\u001b[33mWARNING: You are using pip version 21.2.4; however, version 22.2.2 is available.\n",
      "You should consider upgrading via the '/Users/jay/.pyenv/versions/3.10.1/bin/python3.10 -m pip install --upgrade pip' command.\u001b[0m\n"
     ]
    }
   ],
   "source": [
    "!pip list"
   ]
  },
  {
   "cell_type": "code",
   "execution_count": 7,
   "id": "2223bcce-f08c-4541-ad5f-8280b29108f6",
   "metadata": {},
   "outputs": [],
   "source": [
    "# !conda list"
   ]
  },
  {
   "cell_type": "code",
   "execution_count": 8,
   "id": "680fe978-8ca0-4e04-b72a-8e382f33a552",
   "metadata": {},
   "outputs": [
    {
     "name": "stdout",
     "output_type": "stream",
     "text": [
      "['/Users/jay/Desktop/github/TIL/ML:DL/pytorch', '/Users/jay/opt/anaconda3/envs/torch113/lib/python39.zip', '/Users/jay/opt/anaconda3/envs/torch113/lib/python3.9', '/Users/jay/opt/anaconda3/envs/torch113/lib/python3.9/lib-dynload', '', '/Users/jay/opt/anaconda3/envs/torch113/lib/python3.9/site-packages']\n"
     ]
    }
   ],
   "source": [
    "print(sys.path)"
   ]
  },
  {
   "cell_type": "code",
   "execution_count": 9,
   "id": "ebc590a8-7bcd-41cc-ab16-19f3661cebf5",
   "metadata": {},
   "outputs": [
    {
     "name": "stdout",
     "output_type": "stream",
     "text": [
      "ipykernel not found\n",
      "torch113 not found\n"
     ]
    }
   ],
   "source": [
    "!which ipykernel torch113"
   ]
  },
  {
   "cell_type": "code",
   "execution_count": 10,
   "id": "c75b45d7-088d-4386-9b44-937b2d5755b9",
   "metadata": {},
   "outputs": [
    {
     "name": "stdout",
     "output_type": "stream",
     "text": [
      "/Users/jay/Desktop/github/TIL/ML:DL/pytorch\n"
     ]
    }
   ],
   "source": [
    "!pwd"
   ]
  },
  {
   "cell_type": "code",
   "execution_count": 9,
   "id": "230a78d7-faee-4d61-90e4-271daea242d6",
   "metadata": {},
   "outputs": [
    {
     "ename": "ModuleNotFoundError",
     "evalue": "No module named 'torch'",
     "output_type": "error",
     "traceback": [
      "\u001b[0;31m---------------------------------------------------------------------------\u001b[0m",
      "\u001b[0;31mModuleNotFoundError\u001b[0m                       Traceback (most recent call last)",
      "Input \u001b[0;32mIn [9]\u001b[0m, in \u001b[0;36m<cell line: 1>\u001b[0;34m()\u001b[0m\n\u001b[0;32m----> 1\u001b[0m \u001b[38;5;28;01mimport\u001b[39;00m \u001b[38;5;21;01mtorch\u001b[39;00m\n",
      "\u001b[0;31mModuleNotFoundError\u001b[0m: No module named 'torch'"
     ]
    }
   ],
   "source": [
    "import torch"
   ]
  },
  {
   "cell_type": "code",
   "execution_count": 3,
   "id": "648f08af-d30b-429d-9233-67b0c4c28811",
   "metadata": {},
   "outputs": [
    {
     "name": "stdout",
     "output_type": "stream",
     "text": [
      "1.13.0.dev20220815\n"
     ]
    }
   ],
   "source": [
    "print(torch.__version__)"
   ]
  },
  {
   "cell_type": "code",
   "execution_count": 5,
   "id": "0f44ef17-ddc6-41da-8542-200eaece77bb",
   "metadata": {},
   "outputs": [
    {
     "name": "stdout",
     "output_type": "stream",
     "text": [
      "True\n"
     ]
    }
   ],
   "source": [
    "print(torch.backends.mps.is_built())"
   ]
  },
  {
   "cell_type": "code",
   "execution_count": 6,
   "id": "d1ab75ed-e6ce-4af9-ab01-f39395b64a6a",
   "metadata": {},
   "outputs": [
    {
     "name": "stdout",
     "output_type": "stream",
     "text": [
      "True\n"
     ]
    }
   ],
   "source": [
    "print(torch.backends.mps.is_available())"
   ]
  },
  {
   "cell_type": "code",
   "execution_count": 7,
   "id": "3a192504-715f-47a7-b44a-1d765b318a0c",
   "metadata": {},
   "outputs": [],
   "source": [
    "mps_device = torch.device(\"mps\")"
   ]
  },
  {
   "cell_type": "code",
   "execution_count": null,
   "id": "145c3dfa-8a50-4236-9cfa-8e943becbfbf",
   "metadata": {},
   "outputs": [],
   "source": [
    "x = torch.ones(5, device=mps_device)\n"
   ]
  },
  {
   "cell_type": "code",
   "execution_count": 5,
   "id": "f0c7b433-e11a-4163-908c-2225f6d6b21c",
   "metadata": {},
   "outputs": [
    {
     "name": "stdout",
     "output_type": "stream",
     "text": [
      "Name: appnope\n",
      "Version: 0.1.3\n",
      "Summary: Disable App Nap on macOS >= 10.9\n",
      "Home-page: http://github.com/minrk/appnope\n",
      "Author: Min Ragan-Kelley\n",
      "Author-email: benjaminrk@gmail.com\n",
      "License: BSD\n",
      "Location: /Users/jay/.pyenv/versions/3.8.13/lib/python3.8/site-packages\n",
      "Requires: \n",
      "Required-by: ipykernel, ipython\n"
     ]
    }
   ],
   "source": [
    "!pip show appnope"
   ]
  },
  {
   "cell_type": "code",
   "execution_count": 3,
   "id": "cb0e86a7-3467-4fc9-b6e2-b47f7c17ab92",
   "metadata": {},
   "outputs": [
    {
     "name": "stdout",
     "output_type": "stream",
     "text": [
      "\n",
      "     active environment : base\n",
      "    active env location : /Users/jay/opt/anaconda3\n",
      "            shell level : 1\n",
      "       user config file : /Users/jay/.condarc\n",
      " populated config files : /Users/jay/.condarc\n",
      "          conda version : 4.13.0\n",
      "    conda-build version : 3.21.9\n",
      "         python version : 3.9.12.final.0\n",
      "       virtual packages : __osx=12.5=0\n",
      "                          __unix=0=0\n",
      "                          __archspec=1=arm64\n",
      "       base environment : /Users/jay/opt/anaconda3  (writable)\n",
      "      conda av data dir : /Users/jay/opt/anaconda3/etc/conda\n",
      "  conda av metadata url : None\n",
      "           channel URLs : https://repo.anaconda.com/pkgs/main/osx-arm64\n",
      "                          https://repo.anaconda.com/pkgs/main/noarch\n",
      "                          https://repo.anaconda.com/pkgs/r/osx-arm64\n",
      "                          https://repo.anaconda.com/pkgs/r/noarch\n",
      "          package cache : /Users/jay/opt/anaconda3/pkgs\n",
      "                          /Users/jay/.conda/pkgs\n",
      "       envs directories : /Users/jay/opt/anaconda3/envs\n",
      "                          /Users/jay/.conda/envs\n",
      "               platform : osx-arm64\n",
      "             user-agent : conda/4.13.0 requests/2.27.1 CPython/3.9.12 Darwin/21.6.0 OSX/12.5\n",
      "                UID:GID : 501:20\n",
      "             netrc file : None\n",
      "           offline mode : False\n",
      "\n"
     ]
    }
   ],
   "source": [
    "!conda info"
   ]
  },
  {
   "cell_type": "code",
   "execution_count": null,
   "id": "c07f45e2-48a3-4644-9382-d9f72a308988",
   "metadata": {},
   "outputs": [],
   "source": []
  }
 ],
 "metadata": {
  "kernelspec": {
   "display_name": "torch113",
   "language": "python",
   "name": "torch113"
  },
  "language_info": {
   "codemirror_mode": {
    "name": "ipython",
    "version": 3
   },
   "file_extension": ".py",
   "mimetype": "text/x-python",
   "name": "python",
   "nbconvert_exporter": "python",
   "pygments_lexer": "ipython3",
   "version": "3.9.12"
  }
 },
 "nbformat": 4,
 "nbformat_minor": 5
}
