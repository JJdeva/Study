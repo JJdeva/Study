{
 "cells": [
  {
   "cell_type": "code",
   "execution_count": 1,
   "id": "57defbb9-23e6-4bac-a4f5-f747c3c81f05",
   "metadata": {},
   "outputs": [
    {
     "name": "stdout",
     "output_type": "stream",
     "text": [
      "[ListKernelSpecs] WARNING | Config option `kernel_spec_manager_class` not recognized by `ListKernelSpecs`.\n",
      "Unable to load extension: pydevd_plugins.extensions.types.pydevd_plugin_pandas_types\n",
      "Available kernels:\n",
      "  torch113    /Users/jay/Library/Jupyter/kernels/torch113\n",
      "  python3     /Users/jay/opt/anaconda3/envs/torch113/share/jupyter/kernels/python3\n"
     ]
    }
   ],
   "source": [
    "!jupyter kernelspec list"
   ]
  },
  {
   "cell_type": "code",
   "execution_count": 2,
   "id": "bd3b3815-bb50-4c10-a0df-e623ef709742",
   "metadata": {},
   "outputs": [
    {
     "name": "stdout",
     "output_type": "stream",
     "text": [
      "/Users/jay/.pyenv/shims/python\n",
      "/Users/jay/opt/anaconda3/envs/torch113/bin/python\n"
     ]
    }
   ],
   "source": [
    "!where python"
   ]
  },
  {
   "cell_type": "code",
   "execution_count": 3,
   "id": "d24a5667-91cb-46e4-89a7-8b43719ab9e3",
   "metadata": {},
   "outputs": [
    {
     "name": "stdout",
     "output_type": "stream",
     "text": [
      "/Users/jay/.pyenv/shims/python\n"
     ]
    }
   ],
   "source": [
    "!which python"
   ]
  },
  {
   "cell_type": "code",
   "execution_count": 4,
   "id": "15ce9918-74ed-4702-8993-438399c3f50f",
   "metadata": {},
   "outputs": [],
   "source": [
    "import sys"
   ]
  },
  {
   "cell_type": "code",
   "execution_count": 5,
   "id": "1ed3f42a-9144-44bd-ac23-86714d7ebb93",
   "metadata": {},
   "outputs": [
    {
     "name": "stdout",
     "output_type": "stream",
     "text": [
      "/Users/jay/.pyenv/shims/python\n"
     ]
    }
   ],
   "source": [
    "!which python"
   ]
  },
  {
   "cell_type": "code",
   "execution_count": 8,
   "id": "9bd17d6d-c225-4756-93c5-f6eff29b70c6",
   "metadata": {},
   "outputs": [],
   "source": [
    "# !pip list"
   ]
  },
  {
   "cell_type": "code",
   "execution_count": 1,
   "id": "2223bcce-f08c-4541-ad5f-8280b29108f6",
   "metadata": {},
   "outputs": [
    {
     "name": "stdout",
     "output_type": "stream",
     "text": [
      "# packages in environment at /Users/jay/opt/anaconda3/envs/torch113:\n",
      "#\n",
      "# Name                    Version                   Build  Channel\n",
      "anyio                     3.5.0            py39hca03da5_0  \n",
      "appnope                   0.1.3                    pypi_0    pypi\n",
      "argon2-cffi               21.3.0             pyhd3eb1b0_0  \n",
      "argon2-cffi-bindings      21.2.0           py39h1a28f6b_0  \n",
      "asttokens                 2.0.8                    pypi_0    pypi\n",
      "attrs                     22.1.0                   pypi_0    pypi\n",
      "babel                     2.9.1              pyhd3eb1b0_0  \n",
      "backcall                  0.2.0              pyhd3eb1b0_0  \n",
      "beautifulsoup4            4.11.1           py39hca03da5_0  \n",
      "blas                      1.0                    openblas  \n",
      "bleach                    5.0.1                    pypi_0    pypi\n",
      "brotlipy                  0.7.0           py39h1a28f6b_1002  \n",
      "bzip2                     1.0.8                h620ffc9_4  \n",
      "ca-certificates           2022.07.19           hca03da5_0  \n",
      "certifi                   2022.6.15        py39hca03da5_0  \n",
      "cffi                      1.15.1           py39h22df2f2_0  \n",
      "charset-normalizer        2.0.4              pyhd3eb1b0_0  \n",
      "cryptography              37.0.1           py39h834c97f_0  \n",
      "cycler                    0.11.0                   pypi_0    pypi\n",
      "debugpy                   1.6.3                    pypi_0    pypi\n",
      "decorator                 5.1.1              pyhd3eb1b0_0  \n",
      "defusedxml                0.7.1              pyhd3eb1b0_0  \n",
      "entrypoints               0.4              py39hca03da5_0  \n",
      "executing                 0.10.0                   pypi_0    pypi\n",
      "fastjsonschema            2.16.1                   pypi_0    pypi\n",
      "ffmpeg                    4.2.2                h04105a8_0  \n",
      "fonttools                 4.35.0                   pypi_0    pypi\n",
      "freetype                  2.11.0               h1192e45_0  \n",
      "gettext                   0.21.0               h826f4ad_0  \n",
      "giflib                    5.2.1                h1a28f6b_0  \n",
      "glib                      2.69.1               h98b2900_1  \n",
      "gmp                       6.2.1                hc377ac9_3  \n",
      "gnutls                    3.6.15               h887c41c_0  \n",
      "gst-plugins-base          1.14.1               hf0a386a_0  \n",
      "gstreamer                 1.14.1               he09cfb7_0  \n",
      "icu                       68.1                 hc377ac9_0  \n",
      "idna                      3.3                pyhd3eb1b0_0  \n",
      "ipykernel                 6.15.1                   pypi_0    pypi\n",
      "ipython                   8.4.0            py39hca03da5_0  \n",
      "ipython_genutils          0.2.0              pyhd3eb1b0_1  \n",
      "ipywidgets                7.7.1                    pypi_0    pypi\n",
      "jedi                      0.18.1           py39hca03da5_1  \n",
      "jinja2                    3.1.2                    pypi_0    pypi\n",
      "jpeg                      9e                   h1a28f6b_0  \n",
      "json5                     0.9.6              pyhd3eb1b0_0  \n",
      "jsonschema                4.9.1                    pypi_0    pypi\n",
      "jupyter                   1.0.0            py39hca03da5_8  \n",
      "jupyter-client            7.3.4                    pypi_0    pypi\n",
      "jupyter-console           6.4.4                    pypi_0    pypi\n",
      "jupyter-core              4.11.1                   pypi_0    pypi\n",
      "jupyter_client            7.2.2            py39hca03da5_0  \n",
      "jupyter_console           6.4.3              pyhd3eb1b0_0  \n",
      "jupyter_core              4.10.0           py39hca03da5_0  \n",
      "jupyter_server            1.18.1           py39hca03da5_0  \n",
      "jupyterlab                3.4.4            py39hca03da5_0  \n",
      "jupyterlab-pygments       0.2.2                    pypi_0    pypi\n",
      "jupyterlab-widgets        1.1.1                    pypi_0    pypi\n",
      "jupyterlab_pygments       0.1.2                      py_0  \n",
      "jupyterlab_server         2.12.0           py39hca03da5_0  \n",
      "jupyterlab_widgets        1.0.0              pyhd3eb1b0_1  \n",
      "kiwisolver                1.4.4                    pypi_0    pypi\n",
      "krb5                      1.19.2               h3b8d789_0  \n",
      "lab                       7.1                      pypi_0    pypi\n",
      "lame                      3.100                h1a28f6b_0  \n",
      "lcms2                     2.12                 hba8e193_0  \n",
      "libclang                  12.0.0          default_hc321e17_4  \n",
      "libcxx                    12.0.0               hf6beb65_1  \n",
      "libedit                   3.1.20210910         h1a28f6b_0  \n",
      "libffi                    3.4.2                hc377ac9_4  \n",
      "libgfortran               5.0.0           11_2_0_he6877d6_26  \n",
      "libgfortran5              11.2.0              he6877d6_26  \n",
      "libiconv                  1.16                 h1a28f6b_2  \n",
      "libidn2                   2.3.1                h1a28f6b_0  \n",
      "libllvm12                 12.0.0               h12f7ac0_4  \n",
      "libopenblas               0.3.20               hea475bc_0  \n",
      "libopus                   1.3                  h1a28f6b_1  \n",
      "libpng                    1.6.37               hb8d0fd4_0  \n",
      "libpq                     12.9                 h65cfe13_3  \n",
      "libsodium                 1.0.18               h1a28f6b_0  \n",
      "libtasn1                  4.16.0               h1a28f6b_0  \n",
      "libtiff                   4.2.0                h01837e1_1  \n",
      "libunistring              0.9.10               h1a28f6b_0  \n",
      "libvpx                    1.10.0               hc377ac9_0  \n",
      "libwebp                   1.2.2                h68602c7_0  \n",
      "libwebp-base              1.2.2                h1a28f6b_0  \n",
      "libxml2                   2.9.14               h8c5e841_0  \n",
      "libxslt                   1.1.35               h9833966_0  \n",
      "llvm-openmp               12.0.0               haf9daa7_1  \n",
      "lxml                      4.9.1                    pypi_0    pypi\n",
      "lz4-c                     1.9.3                hc377ac9_0  \n",
      "markupsafe                2.1.1            py39h1a28f6b_0  \n",
      "matplotlib                3.5.3                    pypi_0    pypi\n",
      "matplotlib-inline         0.1.3                    pypi_0    pypi\n",
      "mistune                   0.8.4           py39h1a28f6b_1000  \n",
      "nb_conda_kernels          2.3.1            py39hca03da5_0  \n",
      "nbclassic                 0.3.5              pyhd3eb1b0_0  \n",
      "nbclient                  0.6.6                    pypi_0    pypi\n",
      "nbconvert                 6.5.3                    pypi_0    pypi\n",
      "nbformat                  5.4.0                    pypi_0    pypi\n",
      "ncurses                   6.3                  h1a28f6b_3  \n",
      "nest-asyncio              1.5.5            py39hca03da5_0  \n",
      "nettle                    3.7.3                h84b5d62_1  \n",
      "notebook                  6.4.12           py39hca03da5_0  \n",
      "nspr                      4.33                 hc377ac9_0  \n",
      "nss                       3.74                 h142855e_0  \n",
      "numpy                     1.23.2                   pypi_0    pypi\n",
      "numpy-base                1.23.1           py39hadd41eb_0  \n",
      "openh264                  1.8.0                h98b2900_0  \n",
      "openssl                   1.1.1q               h1a28f6b_0  \n",
      "packaging                 21.3               pyhd3eb1b0_0  \n",
      "pandocfilters             1.5.0              pyhd3eb1b0_0  \n",
      "parso                     0.8.3              pyhd3eb1b0_0  \n",
      "pcre                      8.45                 hc377ac9_0  \n",
      "pexpect                   4.8.0              pyhd3eb1b0_3  \n",
      "pickleshare               0.7.5           pyhd3eb1b0_1003  \n",
      "pillow                    9.2.0                    pypi_0    pypi\n",
      "pip                       22.1.2           py39hca03da5_0  \n",
      "ply                       3.11             py39hca03da5_0  \n",
      "prometheus_client         0.14.1           py39hca03da5_0  \n",
      "prompt-toolkit            3.0.30                   pypi_0    pypi\n",
      "prompt_toolkit            3.0.20               hd3eb1b0_0  \n",
      "psutil                    5.9.1                    pypi_0    pypi\n",
      "ptyprocess                0.7.0              pyhd3eb1b0_2  \n",
      "pure_eval                 0.2.2              pyhd3eb1b0_0  \n",
      "pycparser                 2.21               pyhd3eb1b0_0  \n",
      "pygments                  2.13.0                   pypi_0    pypi\n",
      "pyopenssl                 22.0.0             pyhd3eb1b0_0  \n",
      "pyparsing                 3.0.9                    pypi_0    pypi\n",
      "pyqt                      5.15.7           py39hc377ac9_0  \n",
      "pyqt5-sip                 12.11.0          py39hc377ac9_0  \n",
      "pyrsistent                0.18.1                   pypi_0    pypi\n",
      "pysocks                   1.7.1            py39hca03da5_0  \n",
      "python                    3.9.12               hbdb9e5c_1  \n",
      "python-dateutil           2.8.2              pyhd3eb1b0_0  \n",
      "python-fastjsonschema     2.15.1             pyhd3eb1b0_0  \n",
      "pytorch                   1.13.0.dev20220815         py3.9_0    pytorch-nightly\n",
      "pytz                      2022.1           py39hca03da5_0  \n",
      "pyzmq                     23.2.1                   pypi_0    pypi\n",
      "qt-main                   5.15.2               ha2d02b5_7  \n",
      "qt-webengine              5.15.9               h2903aaf_4  \n",
      "qtconsole                 5.3.1            py39hca03da5_1  \n",
      "qtpy                      2.2.0                    pypi_0    pypi\n",
      "qtwebkit                  5.212                h0f11f3c_4  \n",
      "readline                  8.1.2                h1a28f6b_1  \n",
      "requests                  2.28.1           py39hca03da5_0  \n",
      "send2trash                1.8.0              pyhd3eb1b0_1  \n",
      "setuptools                61.2.0           py39hca03da5_0  \n",
      "simplejson                3.17.6                   pypi_0    pypi\n",
      "sip                       6.6.2            py39hc377ac9_0  \n",
      "six                       1.16.0             pyhd3eb1b0_1  \n",
      "sniffio                   1.2.0            py39hca03da5_1  \n",
      "soupsieve                 2.3.2.post1              pypi_0    pypi\n",
      "sqlite                    3.39.2               h1058600_0  \n",
      "stack-data                0.4.0                    pypi_0    pypi\n",
      "stack_data                0.2.0              pyhd3eb1b0_0  \n",
      "terminado                 0.15.0                   pypi_0    pypi\n",
      "testpath                  0.6.0            py39hca03da5_0  \n",
      "tinycss2                  1.1.1                    pypi_0    pypi\n",
      "tk                        8.6.12               hb8d0fd4_0  \n",
      "toml                      0.10.2             pyhd3eb1b0_0  \n",
      "torchaudio                0.13.0.dev20220815        py39_cpu    pytorch-nightly\n",
      "torchvision               0.14.0.dev20220815        py39_cpu    pytorch-nightly\n",
      "tornado                   6.2                      pypi_0    pypi\n",
      "traitlets                 5.3.0                    pypi_0    pypi\n",
      "txt2tags                  3.7                      pypi_0    pypi\n",
      "typing-extensions         4.3.0            py39hca03da5_0  \n",
      "typing_extensions         4.3.0            py39hca03da5_0  \n",
      "tzdata                    2022a                hda174b7_0  \n",
      "urllib3                   1.26.11          py39hca03da5_0  \n",
      "wcwidth                   0.2.5              pyhd3eb1b0_0  \n",
      "webencodings              0.5.1                    pypi_0    pypi\n",
      "websocket-client          0.58.0           py39hca03da5_4  \n",
      "wheel                     0.37.1             pyhd3eb1b0_0  \n",
      "widgetsnbextension        3.6.1                    pypi_0    pypi\n",
      "x264                      1!152.20180806       h1a28f6b_0  \n",
      "xz                        5.2.5                h1a28f6b_1  \n",
      "zeromq                    4.3.4                hc377ac9_0  \n",
      "zlib                      1.2.12               h5a0b063_2  \n",
      "zstd                      1.5.2                h8574219_0  \n"
     ]
    }
   ],
   "source": [
    "!conda list"
   ]
  },
  {
   "cell_type": "code",
   "execution_count": 9,
   "id": "680fe978-8ca0-4e04-b72a-8e382f33a552",
   "metadata": {},
   "outputs": [
    {
     "name": "stdout",
     "output_type": "stream",
     "text": [
      "['/Users/jay/Desktop/github/TIL/ML:DL/pytorch', '/Users/jay/opt/anaconda3/envs/torch113/lib/python39.zip', '/Users/jay/opt/anaconda3/envs/torch113/lib/python3.9', '/Users/jay/opt/anaconda3/envs/torch113/lib/python3.9/lib-dynload', '', '/Users/jay/opt/anaconda3/envs/torch113/lib/python3.9/site-packages']\n"
     ]
    }
   ],
   "source": [
    "print(sys.path)"
   ]
  },
  {
   "cell_type": "code",
   "execution_count": 10,
   "id": "c75b45d7-088d-4386-9b44-937b2d5755b9",
   "metadata": {},
   "outputs": [
    {
     "name": "stdout",
     "output_type": "stream",
     "text": [
      "/Users/jay/Desktop/github/TIL/ML:DL/pytorch\n"
     ]
    }
   ],
   "source": [
    "!pwd"
   ]
  },
  {
   "cell_type": "code",
   "execution_count": 2,
   "id": "230a78d7-faee-4d61-90e4-271daea242d6",
   "metadata": {},
   "outputs": [],
   "source": [
    "import torch"
   ]
  },
  {
   "cell_type": "code",
   "execution_count": 12,
   "id": "648f08af-d30b-429d-9233-67b0c4c28811",
   "metadata": {},
   "outputs": [
    {
     "name": "stdout",
     "output_type": "stream",
     "text": [
      "1.13.0.dev20220815\n"
     ]
    }
   ],
   "source": [
    "print(torch.__version__)"
   ]
  },
  {
   "cell_type": "code",
   "execution_count": 17,
   "id": "0f44ef17-ddc6-41da-8542-200eaece77bb",
   "metadata": {},
   "outputs": [
    {
     "name": "stdout",
     "output_type": "stream",
     "text": [
      "True\n"
     ]
    }
   ],
   "source": [
    "print(torch.backends.mps.is_built())"
   ]
  },
  {
   "cell_type": "code",
   "execution_count": 18,
   "id": "d1ab75ed-e6ce-4af9-ab01-f39395b64a6a",
   "metadata": {},
   "outputs": [
    {
     "name": "stdout",
     "output_type": "stream",
     "text": [
      "True\n"
     ]
    }
   ],
   "source": [
    "print(torch.backends.mps.is_available())"
   ]
  },
  {
   "cell_type": "code",
   "execution_count": 19,
   "id": "3a192504-715f-47a7-b44a-1d765b318a0c",
   "metadata": {},
   "outputs": [],
   "source": [
    "mps_device = torch.device(\"mps\")"
   ]
  },
  {
   "cell_type": "code",
   "execution_count": 20,
   "id": "145c3dfa-8a50-4236-9cfa-8e943becbfbf",
   "metadata": {},
   "outputs": [],
   "source": [
    "x = torch.ones(5, device=mps_device)\n"
   ]
  },
  {
   "cell_type": "code",
   "execution_count": 2,
   "id": "c07f45e2-48a3-4644-9382-d9f72a308988",
   "metadata": {},
   "outputs": [
    {
     "name": "stdout",
     "output_type": "stream",
     "text": [
      "\n",
      "     active environment : base\n",
      "    active env location : /Users/jay/opt/anaconda3\n",
      "            shell level : 1\n",
      "       user config file : /Users/jay/.condarc\n",
      " populated config files : /Users/jay/.condarc\n",
      "          conda version : 4.13.0\n",
      "    conda-build version : 3.21.9\n",
      "         python version : 3.9.12.final.0\n",
      "       virtual packages : __osx=12.5=0\n",
      "                          __unix=0=0\n",
      "                          __archspec=1=arm64\n",
      "       base environment : /Users/jay/opt/anaconda3  (writable)\n",
      "      conda av data dir : /Users/jay/opt/anaconda3/etc/conda\n",
      "  conda av metadata url : None\n",
      "           channel URLs : https://repo.anaconda.com/pkgs/main/osx-arm64\n",
      "                          https://repo.anaconda.com/pkgs/main/noarch\n",
      "                          https://repo.anaconda.com/pkgs/r/osx-arm64\n",
      "                          https://repo.anaconda.com/pkgs/r/noarch\n",
      "          package cache : /Users/jay/opt/anaconda3/pkgs\n",
      "                          /Users/jay/.conda/pkgs\n",
      "       envs directories : /Users/jay/opt/anaconda3/envs\n",
      "                          /Users/jay/.conda/envs\n",
      "               platform : osx-arm64\n",
      "             user-agent : conda/4.13.0 requests/2.27.1 CPython/3.9.12 Darwin/21.6.0 OSX/12.5\n",
      "                UID:GID : 501:20\n",
      "             netrc file : None\n",
      "           offline mode : False\n",
      "\n"
     ]
    }
   ],
   "source": [
    "!conda info"
   ]
  },
  {
   "cell_type": "code",
   "execution_count": null,
   "id": "37def511-301c-46d9-a574-d67786f60ff9",
   "metadata": {},
   "outputs": [],
   "source": []
  }
 ],
 "metadata": {
  "kernelspec": {
   "display_name": "Python 3.9.12 ('torch113')",
   "language": "python",
   "name": "python3"
  },
  "language_info": {
   "codemirror_mode": {
    "name": "ipython",
    "version": 3
   },
   "file_extension": ".py",
   "mimetype": "text/x-python",
   "name": "python",
   "nbconvert_exporter": "python",
   "pygments_lexer": "ipython3",
   "version": "3.9.12"
  },
  "vscode": {
   "interpreter": {
    "hash": "50907e7bd3feb54f0a2ab6f3b97ef14ba4866553f31bd5c6dbeaa274e1aacfa0"
   }
  }
 },
 "nbformat": 4,
 "nbformat_minor": 5
}
