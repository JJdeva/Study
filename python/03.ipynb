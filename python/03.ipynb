{
 "cells": [
  {
   "cell_type": "markdown",
   "metadata": {},
   "source": [
    "# Day13\n",
    "1. OS모듈의 내용을 살펴보고 운영체제의 값을 구현하는 클래스와 메소드를 활용할 수 있다.\n",
    "2. 파일의 입출력을 구현할 수 있다.\n",
    "----\n",
    "팀별 플젝(금요일) : python  GUI application -> 웹 수집기 -> 파일처리"
   ]
  },
  {
   "cell_type": "markdown",
   "metadata": {},
   "source": [
    "# exam02.py"
   ]
  },
  {
   "cell_type": "markdown",
   "metadata": {},
   "source": [
    "### 지난시간들동안 배운 내용\n",
    "- int, float, str, list, tuple, dict\n",
    "- 연산자(오칙연산자, 비교연산자, 논리연산자, 비트연산자, in, not in, is, not is)\n",
    "- 제어문(if, while, for + else), continue, break, return\n",
    "- def function(일반변수, 초기화일반변수, \\*tuple, \\_\\_dict변수) : 명령;\n",
    "- 객체화 -> class -> 인스턴스"
   ]
  },
  {
   "cell_type": "code",
   "execution_count": 17,
   "metadata": {},
   "outputs": [],
   "source": [
    "### exam : 주사위를 10번 던져서 출력되는 눈을 확인 해보자\n",
    "# random 모듈을 써보자.\n",
    "import random"
   ]
  },
  {
   "cell_type": "code",
   "execution_count": 26,
   "metadata": {},
   "outputs": [
    {
     "name": "stdout",
     "output_type": "stream",
     "text": [
      "1 번째는 6\n",
      "2 번째는 6\n",
      "3 번째는 1\n",
      "4 번째는 6\n",
      "5 번째는 3\n",
      "6 번째는 4\n",
      "7 번째는 4\n",
      "8 번째는 6\n",
      "9 번째는 2\n",
      "10 번째는 4\n"
     ]
    }
   ],
   "source": [
    "def prn01() :\n",
    "    dice = [1,2,3,4,5,6]\n",
    "    for i in range(1,11) :\n",
    "        print('{} 번째는 {}'.format(i, random.choice(dice)))\n",
    "if __name__ == '__main__' :\n",
    "    prn01()"
   ]
  },
  {
   "cell_type": "code",
   "execution_count": 27,
   "metadata": {},
   "outputs": [
    {
     "name": "stdout",
     "output_type": "stream",
     "text": [
      "Help on method randint in module random:\n",
      "\n",
      "randint(a, b) method of random.Random instance\n",
      "    Return random integer in range [a, b], including both end points.\n",
      "\n"
     ]
    }
   ],
   "source": [
    "help(randint)"
   ]
  },
  {
   "cell_type": "code",
   "execution_count": 28,
   "metadata": {
    "scrolled": true
   },
   "outputs": [],
   "source": [
    "# import random\n",
    "# dir(random)"
   ]
  },
  {
   "cell_type": "code",
   "execution_count": 29,
   "metadata": {},
   "outputs": [
    {
     "name": "stdout",
     "output_type": "stream",
     "text": [
      "Help on method choice in module random:\n",
      "\n",
      "choice(seq) method of random.Random instance\n",
      "    Choose a random element from a non-empty sequence.\n",
      "\n"
     ]
    }
   ],
   "source": [
    "help(random.choice)"
   ]
  },
  {
   "cell_type": "code",
   "execution_count": 30,
   "metadata": {},
   "outputs": [
    {
     "data": {
      "text/plain": [
       "4"
      ]
     },
     "execution_count": 30,
     "metadata": {},
     "output_type": "execute_result"
    }
   ],
   "source": [
    "seq = [1,2,3,4,5,6]\n",
    "random.choice(seq)"
   ]
  },
  {
   "cell_type": "code",
   "execution_count": 31,
   "metadata": {},
   "outputs": [
    {
     "name": "stdout",
     "output_type": "stream",
     "text": [
      "뒷면\n"
     ]
    }
   ],
   "source": [
    "def prn():\n",
    "    # 동전을 던져서 앞면이 나오는지 뒷면이 나오는지 확인 해보자.\n",
    "    coin = ['앞면', '뒷면']\n",
    "    print(random.choice(coin))\n",
    "if __name__ == '__main__' :\n",
    "    prn()"
   ]
  },
  {
   "cell_type": "code",
   "execution_count": 34,
   "metadata": {},
   "outputs": [
    {
     "name": "stdout",
     "output_type": "stream",
     "text": [
      "1번 동전은 앞면\n",
      "2번 동전은 앞면\n",
      "3번 동전은 뒷면\n",
      "4번 동전은 뒷면\n",
      "5번 동전은 앞면\n",
      "6번 동전은 앞면\n",
      "7번 동전은 뒷면\n",
      "8번 동전은 앞면\n",
      "9번 동전은 앞면\n",
      "10번 동전은 앞면\n"
     ]
    }
   ],
   "source": [
    "# 동전을 10번 던져서 앞면이 나오는지 딧면이 나오는지 확인\n",
    "\n",
    "def prn02() :\n",
    "    coin = ['앞면', '뒷면']\n",
    "    for i in range(1,11) :\n",
    "        print('{}번 동전은 {}'.format(i, random.choice(coin)))\n",
    "if __name__ == '__main__' :\n",
    "    prn03()\n",
    "    "
   ]
  },
  {
   "cell_type": "code",
   "execution_count": 62,
   "metadata": {},
   "outputs": [
    {
     "name": "stdout",
     "output_type": "stream",
     "text": [
      "앞면의 횟수는  6\n"
     ]
    }
   ],
   "source": [
    "def prn03() :\n",
    "    # 동전을 10번 던졌을 때 앞면이 나오는 횟수가 어떻게 되는가?\n",
    "    coin = ['앞면', '뒷면']\n",
    "    count = 0\n",
    "    for i in range(1,11) :\n",
    "        if random.choice(coin) == '앞면' :\n",
    "            count += 1\n",
    "    else :\n",
    "        print('앞면의 횟수는 ',count)\n",
    "    \n",
    "if __name__ == '__main__' :\n",
    "    prn03()"
   ]
  },
  {
   "cell_type": "code",
   "execution_count": 104,
   "metadata": {},
   "outputs": [
    {
     "name": "stdout",
     "output_type": "stream",
     "text": [
      "17\n"
     ]
    }
   ],
   "source": [
    "def prn04() :\n",
    "    # 주사위를 100번 던져서 주사위의 눈이 3이 나오는 횟수를 출력하자.\n",
    "    dice = [1,2,3,4,5,6]\n",
    "    count = 0\n",
    "    \n",
    "    for i in range(1,101) :\n",
    "        if random.choice(dice) == 3 :\n",
    "            count += 1\n",
    "    else :\n",
    "        print(count)\n",
    "        \n",
    "if __name__ == '__main__' :\n",
    "    prn04()"
   ]
  },
  {
   "cell_type": "code",
   "execution_count": 116,
   "metadata": {},
   "outputs": [
    {
     "name": "stdout",
     "output_type": "stream",
     "text": [
      "5가 나올 확률은 0.155\n"
     ]
    }
   ],
   "source": [
    "def prn05() :\n",
    "    # 주사위를 1000번 던지고 주사위의 눈이 5가 나올 확률을 구하시오.\n",
    "    dice = [1,2,3,4,5,6]\n",
    "    count = 0\n",
    "    \n",
    "    for i in range(1,1001) :\n",
    "        if random.choice(dice) == 5 :\n",
    "            count += 1\n",
    "    else :\n",
    "        print('5가 나올 확률은',(count/1000))\n",
    "\n",
    "if __name__ == '__main__' :\n",
    "    prn05()"
   ]
  },
  {
   "cell_type": "code",
   "execution_count": 121,
   "metadata": {},
   "outputs": [
    {
     "name": "stdout",
     "output_type": "stream",
     "text": [
      "짝수가 나온 횟수는  5\n"
     ]
    }
   ],
   "source": [
    "def prn06() :\n",
    "    # 주사위를 10번 던졌을 때 짝수가 나올 횟수를 출력하라.\n",
    "    dice = [1,2,3,4,5,6]\n",
    "    count = 0\n",
    "    for i in range(1,11) :\n",
    "        if random.choice(dice) % 2 == 0 :\n",
    "            count += 1\n",
    "    else : \n",
    "        print('짝수가 나온 횟수는 ',count)\n",
    "    \n",
    "    \n",
    "if __name__ == '__main__' :\n",
    "    prn06()"
   ]
  },
  {
   "cell_type": "code",
   "execution_count": 127,
   "metadata": {},
   "outputs": [
    {
     "name": "stdout",
     "output_type": "stream",
     "text": [
      "4\n",
      "3\n",
      "4\n",
      "4\n",
      "5\n"
     ]
    }
   ],
   "source": [
    "def prn07() : # prn06()의 확장 문제\n",
    "    # 주사위를 10번 던졌을 때 짝수가 나오는 횟수를 확인하는 작업을 5번 반복해서 짝수가 나오는 횟수가 5개가 나오게 하시오.\n",
    "    dice = [1,2,3,4,5,6]\n",
    "    for j in range(5) :\n",
    "        count = 0\n",
    "        for i in range(1,11) :\n",
    "            if random.choice(dice) % 2 == 0 :\n",
    "                count += 1\n",
    "        else :\n",
    "            print(count)\n",
    "if __name__ == '__main__' :\n",
    "    prn07()\n",
    "    \n"
   ]
  },
  {
   "cell_type": "code",
   "execution_count": 129,
   "metadata": {},
   "outputs": [
    {
     "name": "stdout",
     "output_type": "stream",
     "text": [
      "앞면이 나올 확률 :  0.57\n"
     ]
    }
   ],
   "source": [
    "def prn08() :\n",
    "    # 동전을 100번 던져서 앞면이 나올 확률을 출력하시오.\n",
    "    coin = ['앞면', '뒷면']\n",
    "    count = 0\n",
    "    \n",
    "    for i in range(1,101) :\n",
    "        if random.choice(coin) == '앞면' :\n",
    "            count += 1\n",
    "    else :\n",
    "        print('앞면이 나올 확률 : ',count/100)\n",
    "\n",
    "if __name__ == '__main__' :\n",
    "    prn08()"
   ]
  },
  {
   "cell_type": "code",
   "execution_count": 130,
   "metadata": {},
   "outputs": [
    {
     "name": "stdout",
     "output_type": "stream",
     "text": [
      "횟수는 :  72\n"
     ]
    }
   ],
   "source": [
    "def prn09() :\n",
    "    # 두개의 동전을 300번 던져서 동시에 둘다 앞면이 나오는 횟수를 출력하시오.\n",
    "    coin1 = ['앞면', '뒷면']\n",
    "    coin2 = ['앞면', '뒷면']\n",
    "    count = 0\n",
    "    for i in range(1,301) :\n",
    "        if (random.choice(coin1) == '앞면') and (random.choice(coin2) == '앞면'):\n",
    "            count += 1\n",
    "    else :\n",
    "        print('횟수는 : ',count)\n",
    "\n",
    "if __name__ == '__main__' :\n",
    "    prn09()"
   ]
  },
  {
   "cell_type": "code",
   "execution_count": 134,
   "metadata": {},
   "outputs": [
    {
     "name": "stdout",
     "output_type": "stream",
     "text": [
      "[4, 4, 5, 11, 8, 10, 7, 6, 4, 7, 9, 6, 5, 6, 7, 11, 10, 8, 4, 11, 6, 8, 4, 5, 12, 8, 6, 8, 9, 5, 9, 6, 9, 9, 10, 8, 5, 8, 11, 5, 5, 7, 7, 8, 8, 11, 10, 4, 6, 7, 9, 7, 5, 10, 4, 6, 7, 9, 10, 9, 9, 4, 4, 5, 7, 11, 7, 8, 5, 6, 7, 5, 10, 10, 2, 6, 7, 7, 5, 9, 6, 7, 12, 8, 10, 4, 5, 8, 11, 4, 6, 7, 7, 7, 5, 2, 8, 2, 10, 8, 7, 8, 10, 7, 6, 7, 6, 12, 8, 2, 9, 8, 7, 6, 5, 2, 5, 6, 4, 6, 11, 3, 8, 8, 5, 8, 6, 5, 4, 5, 8, 7, 11, 8, 7, 11, 8, 2, 6, 7, 5, 5, 4, 6, 10, 9, 5, 6, 8, 4, 6, 4, 7, 10, 4, 8, 4, 9, 7, 2, 8, 6, 11, 4, 9, 8, 7, 8, 8, 10, 4, 8, 8, 5, 5, 7, 9, 11, 8, 4, 8, 7, 3, 9, 7, 8, 4, 5, 12, 6, 11, 10, 4, 8, 7, 10, 4, 12, 4, 12, 6, 7, 7, 3, 5, 4, 7, 4, 4, 10, 5, 10, 10, 9, 8, 8, 10, 5, 7, 9, 10, 4, 9, 12, 7, 6, 5, 3, 6, 8, 8, 7, 5, 6, 5, 6, 12, 5, 4, 9, 9, 4, 8, 6, 7, 8, 3, 11, 5, 5, 6, 9, 5, 5, 7, 6, 7, 8, 4, 8, 9, 5, 5, 3, 6, 7, 3, 5, 6, 5, 7, 9, 8, 7, 3, 9, 11, 8, 5, 3, 10, 5, 6, 9, 6, 4, 6, 5, 9, 4, 6, 4, 9, 8, 2, 10, 9, 9, 10, 7, 3, 5, 7, 3, 8, 3, 9, 5, 4, 7, 11, 4, 11, 7, 6, 5, 6, 8, 6, 11, 9, 7, 8, 7, 10, 6, 11, 12, 3, 8, 9, 9, 8, 5, 10, 7, 10, 2, 7, 7, 6, 3, 4, 3, 5, 9, 5, 5, 5, 4, 2, 7, 5, 5, 7, 7, 3, 4, 9, 2, 3, 9, 4, 11, 5, 12, 3, 9, 5, 10, 10, 6, 8, 5, 8, 8, 10, 6, 10, 7, 8, 8, 7, 5, 8, 10, 6, 11, 3, 11, 4, 6, 6, 6, 11, 3, 3, 5, 7, 8, 7, 7, 8, 6, 7, 10, 8, 3, 11, 10, 10, 6, 9, 9, 10, 5, 6, 9, 7, 9, 12, 3, 8, 12, 3, 11, 11, 9, 7, 12, 7, 4, 8, 9, 4, 6, 7, 8, 4, 7, 12, 6, 5, 8, 8, 10, 10, 2, 6, 10, 6, 8, 9, 9, 9, 8, 9, 6, 7, 9, 5, 7, 7, 8, 11, 8, 7, 4, 11, 10, 10, 10, 10, 8, 10, 10, 7, 6, 5, 4, 11, 10, 6, 6, 9, 2, 11, 10, 2, 6, 8, 7, 7, 8, 5, 9, 10, 7, 4, 4, 6, 7, 5, 8, 12, 5, 7, 7, 6, 6, 5, 11, 11, 9, 9, 6, 10, 8, 11, 10, 11, 7, 7, 7, 4, 6, 8, 7, 8, 10, 5, 11, 5, 7, 7, 7, 7, 6, 11, 4, 8, 8, 10, 8, 5, 6, 5, 12, 6, 9, 9, 11, 8, 4, 8, 7, 8, 8, 6, 9, 7, 7, 6, 8, 6, 6, 10, 4, 7, 4, 3, 6, 7, 8, 7, 5, 5, 8, 2, 6, 5, 7, 7, 4, 5, 10, 8, 6, 7, 6, 6, 8, 4, 8, 4, 6, 4, 8, 8, 3, 8, 12, 9, 10, 7, 5, 6, 3, 5, 7, 5, 10, 8, 6, 5, 9, 5, 9, 12, 8, 11, 9, 5, 9, 5, 10, 12, 7, 2, 9, 7, 6, 3, 7, 9, 7, 3, 8, 7, 7, 4, 6, 10, 10, 2, 7, 8, 6, 9, 4, 10, 6, 7, 10, 7, 11, 10, 7, 5, 6, 4, 2, 4, 9, 6, 7, 4, 5, 11, 10, 6, 5, 12, 10, 9, 5, 6, 10, 7, 2, 5, 8, 7, 9, 5, 5, 8, 5, 11, 9, 9, 6, 7, 9, 8, 11, 6, 8, 8, 5, 11, 5, 7, 9, 2, 3, 4, 4, 11, 8, 6, 9, 6, 3, 8, 6, 9, 9, 5, 7, 7, 6, 4, 5, 6, 5, 7, 9, 5, 5, 6, 6, 5, 12, 10, 10, 2, 11, 10, 9, 4, 3, 9, 8, 8, 9, 9, 4, 9, 6, 11, 8, 8, 10, 10, 12, 7, 6, 5, 7, 9, 6, 3, 8, 8, 10, 8, 4, 9, 6, 9, 6, 3, 10, 7, 7, 5, 7, 9, 4, 7, 7, 3, 5, 11, 5, 8, 9, 7, 3, 12, 12, 9, 5, 6, 6, 2, 5, 6, 6, 10, 6, 6, 7, 6, 9, 7, 8, 12, 5, 10, 8, 4, 6, 4, 2, 12, 7, 4, 3, 7, 10, 4, 8, 4, 3, 8, 7, 6, 7, 9, 8, 7, 4, 8, 8, 7, 4, 7, 7, 9, 9, 4, 6, 4, 9, 6, 9, 4, 9, 9, 7, 6, 7, 4, 4, 5, 10, 12, 4, 6, 10, 10, 5, 10, 8, 10, 7, 4, 5, 7, 6, 6, 8, 7, 9, 5, 8, 3, 6, 4, 7, 7, 9, 10, 8, 8, 6, 8, 12, 10, 10, 9, 4, 4, 6, 8, 11, 3, 7, 9, 8, 6, 6, 9, 7, 7, 11, 6, 5, 6, 9, 7, 5, 6, 8, 12, 9, 8, 5, 12, 7, 8, 2, 5, 12, 6, 7, 11, 8, 12, 7, 11, 7, 7, 9, 8, 8, 6, 8, 4, 6, 4, 9, 3, 2, 5, 4, 5, 6, 9, 7, 7, 8, 7, 4, 3, 12, 9, 9, 5, 7, 3, 5, 4, 12, 11, 7, 9, 7, 8, 5, 8, 9, 10, 6, 7, 4, 11, 6, 6, 2, 7, 6, 8, 6, 11, 12, 11, 4, 8, 9, 3, 7, 7, 3, 9, 8, 5, 5]\n"
     ]
    }
   ],
   "source": [
    "def prn10() :\n",
    "    # 주사위 2개를 동시에 던졌을 때 두개의 주사위의 눈의 합을 구하는 실행문을 1000번 반복해서 합의 결과를 list객체에 저장하자.\n",
    "    # 단, while문으로 써라.\n",
    "    dice = [1,2,3,4,5,6]\n",
    "    ls = []\n",
    "    count = 0\n",
    "    while count < 1000 :\n",
    "        result = random.choice(dice) + random.choice(dice)\n",
    "        ls.append(result)\n",
    "        count += 1\n",
    "    print(ls)\n",
    "    \n",
    "if __name__ == '__main__' :\n",
    "    prn10()"
   ]
  },
  {
   "cell_type": "code",
   "execution_count": 135,
   "metadata": {},
   "outputs": [
    {
     "name": "stdout",
     "output_type": "stream",
     "text": [
      "합이 10이 되는 확률은 :  0.085\n"
     ]
    }
   ],
   "source": [
    "# 두개의 주사위의 합이 10이 되는 확률을 구하시오. 단, 1000번을 던졌을 때, while문으로 구하자.\n",
    "def prn11() :\n",
    "    dice = [1,2,3,4,5,6]\n",
    "    count = 0\n",
    "    sum_count = 0\n",
    "    while count < 1000 :\n",
    "        if (random.choice(dice) + random.choice(dice)) == 10 :\n",
    "            sum_count += 1\n",
    "        count += 1\n",
    "    else :\n",
    "        print('합이 10이 되는 확률은 : ', sum_count/1000)\n",
    "        \n",
    "if __name__ == '__main__' :\n",
    "    prn11()"
   ]
  },
  {
   "cell_type": "code",
   "execution_count": 142,
   "metadata": {},
   "outputs": [
    {
     "name": "stdout",
     "output_type": "stream",
     "text": [
      "합이 10이 되는 확률은 :  0.069\n"
     ]
    }
   ],
   "source": [
    "# 두개의 주사위의 합이 10이 되는 확률을 구하시오. 단, 1000번을 던졌을 때, while문으로 구하자. (같은문제, 리스트객체이용)\n",
    "def prn11() :\n",
    "    dice = [1,2,3,4,5,6]\n",
    "    count = 0\n",
    "    sum_count = []\n",
    "    while count < 1000 :\n",
    "        result = (random.choice(dice) + random.choice(dice))\n",
    "        if result == 10 :\n",
    "            sum_count.append(result)\n",
    "        count += 1\n",
    "    else :\n",
    "        print('합이 10이 되는 확률은 : ', len(sum_count)/1000)\n",
    "#         print(sum_count)\n",
    "        \n",
    "if __name__ == '__main__' :\n",
    "    prn11()"
   ]
  },
  {
   "cell_type": "code",
   "execution_count": 148,
   "metadata": {},
   "outputs": [
    {
     "name": "stdout",
     "output_type": "stream",
     "text": [
      "20\n"
     ]
    }
   ],
   "source": [
    "def prn12():\n",
    "    #주사위를 20번 던져서 주사위의 눈이 4이상 나오는 횟수를 출력하시오.\n",
    "    dice = [1,2,3,4,5,6]\n",
    "    count = 0\n",
    "    for i in range(20) :\n",
    "        if random.choice(dice) + random.choice(dice) >= 4:\n",
    "            count += 1\n",
    "    else :\n",
    "        print(count)\n",
    "    \n",
    "if __name__ == '__main__' :\n",
    "    prn12()"
   ]
  },
  {
   "cell_type": "code",
   "execution_count": 150,
   "metadata": {
    "scrolled": true
   },
   "outputs": [
    {
     "name": "stdout",
     "output_type": "stream",
     "text": [
      "3\n",
      "3\n",
      "3\n",
      "3\n",
      "3\n",
      "3\n",
      "3\n",
      "3\n",
      "3\n",
      "3\n",
      "3\n",
      "3\n",
      "3\n",
      "3\n",
      "3\n",
      "3\n",
      "3\n",
      "3\n",
      "3\n",
      "3\n",
      "3\n",
      "3\n",
      "3\n",
      "3\n",
      "3\n",
      "3\n",
      "3\n",
      "3\n",
      "3\n",
      "3\n",
      "3\n",
      "3\n",
      "3\n",
      "3\n",
      "3\n",
      "3\n",
      "3\n",
      "3\n",
      "3\n",
      "3\n",
      "3\n",
      "3\n",
      "3\n",
      "3\n",
      "3\n",
      "3\n",
      "3\n",
      "3\n",
      "3\n",
      "3\n"
     ]
    }
   ],
   "source": [
    "def prn13() :\n",
    "    # 동전 한개와 주사위 한개를 동시에 100번 던져서 동전이 앞면이 나오고 주사위의 눈이 5가 나오는 횟수를 출력을 50번 하자.\n",
    "    dice = [1,2,3,4,5,6]\n",
    "    coin = ['앞면', '뒷면']\n",
    "    count = 0\n",
    "    for i in range(100) :\n",
    "        if (random.choice(dice) == 5) and (random.choice(coin) == '앞면') :\n",
    "            count += 1\n",
    "    else :\n",
    "        for j in range(50) :\n",
    "            print(count)\n",
    "\n",
    "if __name__ == '__main__' :\n",
    "    prn13()"
   ]
  },
  {
   "cell_type": "markdown",
   "metadata": {},
   "source": [
    "# OS 모듈"
   ]
  },
  {
   "cell_type": "code",
   "execution_count": 153,
   "metadata": {},
   "outputs": [],
   "source": [
    "import os # 운영체제 관련 정보 (탐색기)\n",
    "import sys # 시스템관련 정보"
   ]
  },
  {
   "cell_type": "code",
   "execution_count": 152,
   "metadata": {},
   "outputs": [
    {
     "data": {
      "text/plain": [
       "['DirEntry',\n",
       " 'F_OK',\n",
       " 'MutableMapping',\n",
       " 'O_APPEND',\n",
       " 'O_BINARY',\n",
       " 'O_CREAT',\n",
       " 'O_EXCL',\n",
       " 'O_NOINHERIT',\n",
       " 'O_RANDOM',\n",
       " 'O_RDONLY',\n",
       " 'O_RDWR',\n",
       " 'O_SEQUENTIAL',\n",
       " 'O_SHORT_LIVED',\n",
       " 'O_TEMPORARY',\n",
       " 'O_TEXT',\n",
       " 'O_TRUNC',\n",
       " 'O_WRONLY',\n",
       " 'P_DETACH',\n",
       " 'P_NOWAIT',\n",
       " 'P_NOWAITO',\n",
       " 'P_OVERLAY',\n",
       " 'P_WAIT',\n",
       " 'PathLike',\n",
       " 'R_OK',\n",
       " 'SEEK_CUR',\n",
       " 'SEEK_END',\n",
       " 'SEEK_SET',\n",
       " 'TMP_MAX',\n",
       " 'W_OK',\n",
       " 'X_OK',\n",
       " '_AddedDllDirectory',\n",
       " '_Environ',\n",
       " '__all__',\n",
       " '__builtins__',\n",
       " '__cached__',\n",
       " '__doc__',\n",
       " '__file__',\n",
       " '__loader__',\n",
       " '__name__',\n",
       " '__package__',\n",
       " '__spec__',\n",
       " '_check_methods',\n",
       " '_execvpe',\n",
       " '_exists',\n",
       " '_exit',\n",
       " '_fspath',\n",
       " '_get_exports_list',\n",
       " '_putenv',\n",
       " '_unsetenv',\n",
       " '_wrap_close',\n",
       " 'abc',\n",
       " 'abort',\n",
       " 'access',\n",
       " 'add_dll_directory',\n",
       " 'altsep',\n",
       " 'chdir',\n",
       " 'chmod',\n",
       " 'close',\n",
       " 'closerange',\n",
       " 'cpu_count',\n",
       " 'curdir',\n",
       " 'defpath',\n",
       " 'device_encoding',\n",
       " 'devnull',\n",
       " 'dup',\n",
       " 'dup2',\n",
       " 'environ',\n",
       " 'error',\n",
       " 'execl',\n",
       " 'execle',\n",
       " 'execlp',\n",
       " 'execlpe',\n",
       " 'execv',\n",
       " 'execve',\n",
       " 'execvp',\n",
       " 'execvpe',\n",
       " 'extsep',\n",
       " 'fdopen',\n",
       " 'fsdecode',\n",
       " 'fsencode',\n",
       " 'fspath',\n",
       " 'fstat',\n",
       " 'fsync',\n",
       " 'ftruncate',\n",
       " 'get_exec_path',\n",
       " 'get_handle_inheritable',\n",
       " 'get_inheritable',\n",
       " 'get_terminal_size',\n",
       " 'getcwd',\n",
       " 'getcwdb',\n",
       " 'getenv',\n",
       " 'getlogin',\n",
       " 'getpid',\n",
       " 'getppid',\n",
       " 'isatty',\n",
       " 'kill',\n",
       " 'linesep',\n",
       " 'link',\n",
       " 'listdir',\n",
       " 'lseek',\n",
       " 'lstat',\n",
       " 'makedirs',\n",
       " 'mkdir',\n",
       " 'name',\n",
       " 'open',\n",
       " 'pardir',\n",
       " 'path',\n",
       " 'pathsep',\n",
       " 'pipe',\n",
       " 'popen',\n",
       " 'putenv',\n",
       " 'read',\n",
       " 'readlink',\n",
       " 'remove',\n",
       " 'removedirs',\n",
       " 'rename',\n",
       " 'renames',\n",
       " 'replace',\n",
       " 'rmdir',\n",
       " 'scandir',\n",
       " 'sep',\n",
       " 'set_handle_inheritable',\n",
       " 'set_inheritable',\n",
       " 'spawnl',\n",
       " 'spawnle',\n",
       " 'spawnv',\n",
       " 'spawnve',\n",
       " 'st',\n",
       " 'startfile',\n",
       " 'stat',\n",
       " 'stat_result',\n",
       " 'statvfs_result',\n",
       " 'strerror',\n",
       " 'supports_bytes_environ',\n",
       " 'supports_dir_fd',\n",
       " 'supports_effective_ids',\n",
       " 'supports_fd',\n",
       " 'supports_follow_symlinks',\n",
       " 'symlink',\n",
       " 'sys',\n",
       " 'system',\n",
       " 'terminal_size',\n",
       " 'times',\n",
       " 'times_result',\n",
       " 'truncate',\n",
       " 'umask',\n",
       " 'uname_result',\n",
       " 'unlink',\n",
       " 'urandom',\n",
       " 'utime',\n",
       " 'waitpid',\n",
       " 'walk',\n",
       " 'write']"
      ]
     },
     "execution_count": 152,
     "metadata": {},
     "output_type": "execute_result"
    }
   ],
   "source": [
    "dir(os)"
   ]
  },
  {
   "cell_type": "markdown",
   "metadata": {},
   "source": [
    "- 운영체제에서 제공되는 기본 적인 기능들을 제공하는 메소드\n",
    "- os.getcwd() : 현재 작업하고 있는 디렉토리를 반환\n",
    "- os.chdir(path) : 디렉토리 변경\n",
    "- os.access(path, mode) : F_OK, R_OK, W_OK, X_OK\n",
    "- os.listdir()\n",
    "- os.mkdir() / mkdirs()\n",
    "- os.remove()\n",
    "- os.unlink()\n",
    "- os.rmdir() : 비어있는 디렉토리 삭제\n",
    "- os.removedirs() : 경로를 서브디렉토리 부터 재귀적으로 삭제\n",
    "- os.rename(old, new)\n",
    "- os.stat(path, \\*, dir_fd=None, follow_symlinks=True) : path에 대한 정보를 리턴\n",
    "- os.utime() : 파일에 대한 엑세스 수정시간 등\n",
    "- os.walk(top, topdown=Ture, onerror=None, followlinks=False) : Top으로 지정한 디렉토리를 순회하면서 경로 또는 디렉토리 명을 순차적으로 반환"
   ]
  },
  {
   "cell_type": "markdown",
   "metadata": {},
   "source": [
    "os모듈관련 정보\n",
    "http://www.w3big.com/ko/python/os-file-methods.html"
   ]
  },
  {
   "cell_type": "code",
   "execution_count": null,
   "metadata": {},
   "outputs": [],
   "source": [
    "# 1. C:Test04\\a, b,c 디렉토리를 만들어자.\n",
    "# 2. c -> myc\n",
    "# 3. b -> myb\n",
    "# 4. C:Test04\\a를 c:test02\\mya라는 이름으로 변경해보자. (move인지 새로 생성된건지)\n",
    "# 5. 다 삭제 해보자."
   ]
  },
  {
   "cell_type": "code",
   "execution_count": 177,
   "metadata": {},
   "outputs": [],
   "source": [
    "os.mkdir('C:\\\\test02')"
   ]
  },
  {
   "cell_type": "code",
   "execution_count": 186,
   "metadata": {},
   "outputs": [],
   "source": [
    "os.mkdir('C:\\\\Test04')\n",
    "os.mkdir('C:\\\\Test04\\\\a')\n",
    "os.mkdir('C:\\\\Test04\\\\b')\n",
    "os.mkdir('C:\\\\Test04\\\\c')\n",
    "os.rename('C:\\\\Test04\\\\c', 'C:\\\\Test04\\\\myc') # 이름변경\n",
    "os.rename('C:\\\\Test04\\\\b', 'C:\\\\Test04\\\\myb') # 이름변경\n",
    "os.rename('C:\\\\Test04\\\\a', 'C:\\\\test02\\\\mya') # test04에서 test02로 a에서 mya로 이름이 바껴서 이동한다(move기능?)"
   ]
  },
  {
   "cell_type": "code",
   "execution_count": 187,
   "metadata": {},
   "outputs": [
    {
     "ename": "FileNotFoundError",
     "evalue": "[WinError 2] 지정된 파일을 찾을 수 없습니다: 'C:\\\\Test04\\\\a'",
     "output_type": "error",
     "traceback": [
      "\u001b[1;31m---------------------------------------------------------------------------\u001b[0m",
      "\u001b[1;31mFileNotFoundError\u001b[0m                         Traceback (most recent call last)",
      "\u001b[1;32m<ipython-input-187-d6ced8ba9258>\u001b[0m in \u001b[0;36m<module>\u001b[1;34m\u001b[0m\n\u001b[1;32m----> 1\u001b[1;33m \u001b[0mos\u001b[0m\u001b[1;33m.\u001b[0m\u001b[0mremovedirs\u001b[0m\u001b[1;33m(\u001b[0m\u001b[1;34m'C:\\\\Test04\\\\a'\u001b[0m\u001b[1;33m)\u001b[0m\u001b[1;33m\u001b[0m\u001b[1;33m\u001b[0m\u001b[0m\n\u001b[0m\u001b[0;32m      2\u001b[0m \u001b[0mos\u001b[0m\u001b[1;33m.\u001b[0m\u001b[0mremovedirs\u001b[0m\u001b[1;33m(\u001b[0m\u001b[1;34m'C:\\\\Test04\\\\myb'\u001b[0m\u001b[1;33m)\u001b[0m\u001b[1;33m\u001b[0m\u001b[1;33m\u001b[0m\u001b[0m\n\u001b[0;32m      3\u001b[0m \u001b[0mos\u001b[0m\u001b[1;33m.\u001b[0m\u001b[0mremovedirs\u001b[0m\u001b[1;33m(\u001b[0m\u001b[1;34m'C:\\\\Test04\\\\myc'\u001b[0m\u001b[1;33m)\u001b[0m\u001b[1;33m\u001b[0m\u001b[1;33m\u001b[0m\u001b[0m\n",
      "\u001b[1;32m~\\anaconda3\\lib\\os.py\u001b[0m in \u001b[0;36mremovedirs\u001b[1;34m(name)\u001b[0m\n\u001b[0;32m    239\u001b[0m \u001b[1;33m\u001b[0m\u001b[0m\n\u001b[0;32m    240\u001b[0m     \"\"\"\n\u001b[1;32m--> 241\u001b[1;33m     \u001b[0mrmdir\u001b[0m\u001b[1;33m(\u001b[0m\u001b[0mname\u001b[0m\u001b[1;33m)\u001b[0m\u001b[1;33m\u001b[0m\u001b[1;33m\u001b[0m\u001b[0m\n\u001b[0m\u001b[0;32m    242\u001b[0m     \u001b[0mhead\u001b[0m\u001b[1;33m,\u001b[0m \u001b[0mtail\u001b[0m \u001b[1;33m=\u001b[0m \u001b[0mpath\u001b[0m\u001b[1;33m.\u001b[0m\u001b[0msplit\u001b[0m\u001b[1;33m(\u001b[0m\u001b[0mname\u001b[0m\u001b[1;33m)\u001b[0m\u001b[1;33m\u001b[0m\u001b[1;33m\u001b[0m\u001b[0m\n\u001b[0;32m    243\u001b[0m     \u001b[1;32mif\u001b[0m \u001b[1;32mnot\u001b[0m \u001b[0mtail\u001b[0m\u001b[1;33m:\u001b[0m\u001b[1;33m\u001b[0m\u001b[1;33m\u001b[0m\u001b[0m\n",
      "\u001b[1;31mFileNotFoundError\u001b[0m: [WinError 2] 지정된 파일을 찾을 수 없습니다: 'C:\\\\Test04\\\\a'"
     ]
    }
   ],
   "source": [
    "os.removedirs('C:\\\\Test04\\\\a')\n",
    "os.removedirs('C:\\\\Test04\\\\myb')\n",
    "os.removedirs('C:\\\\Test04\\\\myc')"
   ]
  },
  {
   "cell_type": "code",
   "execution_count": 161,
   "metadata": {},
   "outputs": [
    {
     "name": "stdout",
     "output_type": "stream",
     "text": [
      "Help on built-in function remove in module nt:\n",
      "\n",
      "remove(path, *, dir_fd=None)\n",
      "    Remove a file (same as unlink()).\n",
      "    \n",
      "    If dir_fd is not None, it should be a file descriptor open to a directory,\n",
      "      and path should be relative; path will then be relative to that directory.\n",
      "    dir_fd may not be implemented on your platform.\n",
      "      If it is unavailable, using it will raise a NotImplementedError.\n",
      "\n"
     ]
    }
   ],
   "source": [
    "help(os.remove)"
   ]
  },
  {
   "cell_type": "markdown",
   "metadata": {},
   "source": [
    "# Test_os01.py"
   ]
  },
  {
   "cell_type": "code",
   "execution_count": 192,
   "metadata": {},
   "outputs": [
    {
     "name": "stdout",
     "output_type": "stream",
     "text": [
      "Help on built-in function ctime in module time:\n",
      "\n",
      "ctime(...)\n",
      "    ctime(seconds) -> string\n",
      "    \n",
      "    Convert a time in seconds since the Epoch to a string in local time.\n",
      "    This is equivalent to asctime(localtime(seconds)). When the time tuple is\n",
      "    not present, current time as returned by localtime() is used.\n",
      "\n"
     ]
    }
   ],
   "source": [
    "# 지정된 디렉토리가 가진 하위 목록과 파일의 크기 및 사이즈 생성 시간을 출력해보자.\n",
    "# join()를 사용해서 디렉토리와 파일을 조인해보자.\n",
    "# os, time 모듈을 사용\n",
    "import time\n",
    "# dir(time) -> ctime, time\n",
    "help(time.ctime)"
   ]
  },
  {
   "cell_type": "code",
   "execution_count": 199,
   "metadata": {},
   "outputs": [
    {
     "data": {
      "text/plain": [
       "os.stat_result(st_mode=33206, st_ino=5910974511433774, st_dev=2664987636, st_nlink=1, st_uid=0, st_gid=0, st_size=16, st_atime=1620013398, st_mtime=1620013398, st_ctime=1620013340)"
      ]
     },
     "execution_count": 199,
     "metadata": {},
     "output_type": "execute_result"
    }
   ],
   "source": [
    "os.stat('c:\\\\Test\\\\a.txt')"
   ]
  },
  {
   "cell_type": "code",
   "execution_count": 200,
   "metadata": {},
   "outputs": [
    {
     "data": {
      "text/plain": [
       "1620013340.5964706"
      ]
     },
     "execution_count": 200,
     "metadata": {},
     "output_type": "execute_result"
    }
   ],
   "source": [
    "os.stat('c:\\\\Test\\\\a.txt').st_ctime"
   ]
  },
  {
   "cell_type": "code",
   "execution_count": 201,
   "metadata": {},
   "outputs": [
    {
     "data": {
      "text/plain": [
       "1620013398.9276843"
      ]
     },
     "execution_count": 201,
     "metadata": {},
     "output_type": "execute_result"
    }
   ],
   "source": [
    "os.stat('c:\\\\Test\\\\a.txt').st_mtime"
   ]
  },
  {
   "cell_type": "code",
   "execution_count": 202,
   "metadata": {},
   "outputs": [
    {
     "data": {
      "text/plain": [
       "16"
      ]
     },
     "execution_count": 202,
     "metadata": {},
     "output_type": "execute_result"
    }
   ],
   "source": [
    "os.stat('c:\\\\Test\\\\a.txt').st_size"
   ]
  },
  {
   "cell_type": "code",
   "execution_count": 198,
   "metadata": {
    "scrolled": true
   },
   "outputs": [
    {
     "data": {
      "text/plain": [
       "['$Recycle.Bin',\n",
       " '$WinREAgent',\n",
       " '.CDN',\n",
       " '3uTools',\n",
       " 'bootTel.dat',\n",
       " 'Config.Msi',\n",
       " 'Documents and Settings',\n",
       " 'DRIVERS',\n",
       " 'DumpStack.log.tmp',\n",
       " 'end',\n",
       " 'hiberfil.sys',\n",
       " 'jdk1.8',\n",
       " 'MinGW',\n",
       " 'MSOCache',\n",
       " 'MyWork',\n",
       " 'Neople',\n",
       " 'NIA',\n",
       " 'nsispromotion_log.txt',\n",
       " 'NVIDIA',\n",
       " 'pagefile.sys',\n",
       " 'PerfLogs',\n",
       " 'Program Files',\n",
       " 'Program Files (x86)',\n",
       " 'ProgramData',\n",
       " 'Recovery',\n",
       " 'rwork',\n",
       " 'SMYSoft',\n",
       " 'swapfile.sys',\n",
       " 'System Volume Information',\n",
       " 'Temp',\n",
       " 'Test',\n",
       " 'test02',\n",
       " 'Test04',\n",
       " 'Users',\n",
       " 'Windows']"
      ]
     },
     "execution_count": 198,
     "metadata": {},
     "output_type": "execute_result"
    }
   ],
   "source": [
    "os.listdir('c:\\\\')"
   ]
  },
  {
   "cell_type": "code",
   "execution_count": 191,
   "metadata": {},
   "outputs": [
    {
     "name": "stdout",
     "output_type": "stream",
     "text": [
      "Help on function join in module ntpath:\n",
      "\n",
      "join(path, *paths)\n",
      "    # Join two (or more) paths.\n",
      "\n"
     ]
    }
   ],
   "source": [
    "help(os.path.join)"
   ]
  },
  {
   "cell_type": "code",
   "execution_count": 209,
   "metadata": {},
   "outputs": [
    {
     "name": "stdout",
     "output_type": "stream",
     "text": [
      "['$Recycle.Bin', '$WinREAgent', '.CDN', '3uTools', 'bootTel.dat', 'Config.Msi', 'Documents and Settings', 'DRIVERS', 'DumpStack.log.tmp', 'end', 'hiberfil.sys', 'jdk1.8', 'MinGW', 'MSOCache', 'MyWork', 'Neople', 'NIA', 'nsispromotion_log.txt', 'NVIDIA', 'pagefile.sys', 'PerfLogs', 'Program Files', 'Program Files (x86)', 'ProgramData', 'Recovery', 'rwork', 'SMYSoft', 'swapfile.sys', 'System Volume Information', 'Temp', 'Test', 'test02', 'Test04', 'Users', 'Windows']\n",
      "\n",
      "c:\\test\\a.txt 16 Mon May  3 12:43:18 2021 1620013398.9276843\n"
     ]
    }
   ],
   "source": [
    "import os, time\n",
    "\n",
    "def test01() :\n",
    "    print(os.listdir('c:\\\\'))\n",
    "    print()\n",
    "    path = 'c:\\\\test'\n",
    "    file_list = os.listdir(path)\n",
    "    \n",
    "    for file in file_list : # c:\\\\test 하위 파일 목록을 리턴 받게 된다.\n",
    "        file = os.path.join(path, file) # 패스와 파일이름을 조인시킴\n",
    "        print(file, os.stat(file).st_size, time.ctime(os.stat(file).st_mtime), os.stat(file).st_mtime)\n",
    "        \n",
    "if __name__ == '__main__' :\n",
    "    test01()"
   ]
  },
  {
   "cell_type": "code",
   "execution_count": 210,
   "metadata": {},
   "outputs": [],
   "source": [
    "import os.path"
   ]
  },
  {
   "cell_type": "code",
   "execution_count": 212,
   "metadata": {},
   "outputs": [
    {
     "ename": "SyntaxError",
     "evalue": "unexpected character after line continuation character (<ipython-input-212-410695c05fd0>, line 1)",
     "output_type": "error",
     "traceback": [
      "\u001b[1;36m  File \u001b[1;32m\"<ipython-input-212-410695c05fd0>\"\u001b[1;36m, line \u001b[1;32m1\u001b[0m\n\u001b[1;33m    c:\\\\Test > echo b.txt >> abcdef\u001b[0m\n\u001b[1;37m                                   ^\u001b[0m\n\u001b[1;31mSyntaxError\u001b[0m\u001b[1;31m:\u001b[0m unexpected character after line continuation character\n"
     ]
    }
   ],
   "source": [
    "c:\\\\Test > echo b.txt >> abcdef"
   ]
  },
  {
   "cell_type": "code",
   "execution_count": 213,
   "metadata": {},
   "outputs": [
    {
     "data": {
      "text/plain": [
       "'C:\\\\Users\\\\JAY\\\\Desktop\\\\플레이데이터\\\\데일리파일'"
      ]
     },
     "execution_count": 213,
     "metadata": {},
     "output_type": "execute_result"
    }
   ],
   "source": [
    "pwd"
   ]
  },
  {
   "cell_type": "code",
   "execution_count": 222,
   "metadata": {},
   "outputs": [
    {
     "name": "stdout",
     "output_type": "stream",
     "text": [
      "C:\\Test\n"
     ]
    }
   ],
   "source": [
    "cd Test"
   ]
  },
  {
   "cell_type": "code",
   "execution_count": 223,
   "metadata": {},
   "outputs": [],
   "source": [
    "echo c.txt>123456789"
   ]
  },
  {
   "cell_type": "code",
   "execution_count": 224,
   "metadata": {},
   "outputs": [
    {
     "data": {
      "text/plain": [
       "'C:\\\\Test'"
      ]
     },
     "execution_count": 224,
     "metadata": {},
     "output_type": "execute_result"
    }
   ],
   "source": [
    "pwd"
   ]
  },
  {
   "cell_type": "code",
   "execution_count": 225,
   "metadata": {},
   "outputs": [],
   "source": [
    "echo tttt>c.txt"
   ]
  },
  {
   "cell_type": "code",
   "execution_count": 231,
   "metadata": {},
   "outputs": [
    {
     "name": "stdout",
     "output_type": "stream",
     "text": [
      "Help on function basename in module ntpath:\n",
      "\n",
      "basename(p)\n",
      "    Returns the final component of a pathname\n",
      "\n"
     ]
    }
   ],
   "source": [
    "help(os.path.basename)"
   ]
  },
  {
   "cell_type": "code",
   "execution_count": 232,
   "metadata": {},
   "outputs": [
    {
     "data": {
      "text/plain": [
       "'b.txt'"
      ]
     },
     "execution_count": 232,
     "metadata": {},
     "output_type": "execute_result"
    }
   ],
   "source": [
    "os.path.basename('C:\\\\Test\\\\b.txt')"
   ]
  },
  {
   "cell_type": "code",
   "execution_count": 234,
   "metadata": {},
   "outputs": [
    {
     "data": {
      "text/plain": [
       "'c'"
      ]
     },
     "execution_count": 234,
     "metadata": {},
     "output_type": "execute_result"
    }
   ],
   "source": [
    "os.path.basename('C:\\\\Test\\\\a\\\\b\\\\c')"
   ]
  },
  {
   "cell_type": "code",
   "execution_count": 235,
   "metadata": {},
   "outputs": [
    {
     "name": "stdout",
     "output_type": "stream",
     "text": [
      "Help on function normpath in module ntpath:\n",
      "\n",
      "normpath(path)\n",
      "    Normalize path, eliminating double slashes, etc.\n",
      "\n"
     ]
    }
   ],
   "source": [
    "help(os.path.normpath)"
   ]
  },
  {
   "cell_type": "code",
   "execution_count": 236,
   "metadata": {},
   "outputs": [
    {
     "data": {
      "text/plain": [
       "'c:\\\\test'"
      ]
     },
     "execution_count": 236,
     "metadata": {},
     "output_type": "execute_result"
    }
   ],
   "source": [
    "os.path.normpath('c:\\\\test')"
   ]
  },
  {
   "cell_type": "code",
   "execution_count": 237,
   "metadata": {},
   "outputs": [
    {
     "data": {
      "text/plain": [
       "'c:\\\\test\\\\a.txt'"
      ]
     },
     "execution_count": 237,
     "metadata": {},
     "output_type": "execute_result"
    }
   ],
   "source": [
    "os.path.normpath('c:\\\\test\\\\a.txt')"
   ]
  },
  {
   "cell_type": "code",
   "execution_count": 238,
   "metadata": {},
   "outputs": [
    {
     "data": {
      "text/plain": [
       "'c:\\\\test\\\\a\\\\b\\\\cc'"
      ]
     },
     "execution_count": 238,
     "metadata": {},
     "output_type": "execute_result"
    }
   ],
   "source": [
    "os.path.normpath('c:\\\\test\\\\a\\\\b\\\\cc')"
   ]
  },
  {
   "cell_type": "code",
   "execution_count": 239,
   "metadata": {},
   "outputs": [
    {
     "data": {
      "text/plain": [
       "'c:\\\\test\\\\a.txt'"
      ]
     },
     "execution_count": 239,
     "metadata": {},
     "output_type": "execute_result"
    }
   ],
   "source": [
    "os.path.abspath('c:\\\\test\\\\a.txt')"
   ]
  },
  {
   "cell_type": "code",
   "execution_count": 245,
   "metadata": {},
   "outputs": [
    {
     "name": "stdout",
     "output_type": "stream",
     "text": [
      "b.txt\n",
      "('c:\\\\test', 'b.txt')\n",
      "c:\\test\\b.txt\n"
     ]
    }
   ],
   "source": [
    "def test02() :\n",
    "    # 파일이름을 구성요소(디렉토리와 파일)로 분할 할때는 os.path모듈을 사용\n",
    "    # basename() -> 경로, 파일이름 split()에 사용한다. os.path.normpath('.')\n",
    "    \n",
    "    file = 'c:\\\\test\\\\b.txt'\n",
    "    if os.path.isfile(file) :\n",
    "        a = os.path.basename(file)\n",
    "        b = os.path.split(file)\n",
    "        c = os.path.normpath(file)\n",
    "        print(a)\n",
    "        print(b)\n",
    "        print(c)\n",
    "        \n",
    "if __name__ == '__main__' :\n",
    "    test02()"
   ]
  },
  {
   "cell_type": "code",
   "execution_count": 247,
   "metadata": {},
   "outputs": [
    {
     "name": "stdout",
     "output_type": "stream",
     "text": [
      "b.txt\n",
      "('c:/test', 'b.txt')\n",
      "c:\\test\\b.txt\n"
     ]
    }
   ],
   "source": [
    "def test02() :\n",
    "    # 파일이름을 구성요소(디렉토리와 파일)로 분할 할때는 os.path모듈을 사용\n",
    "    # basename() -> 경로, 파일이름 split()에 사용한다. os.path.normpath('.')\n",
    "    \n",
    "    file = 'c:/test/b.txt'\n",
    "    if os.path.isfile(file) :\n",
    "        a = os.path.basename(file)\n",
    "        b = os.path.split(file)\n",
    "        c = os.path.normpath(file) # 리눅스, 윈도우에서 경로로 인지한다. (노말패스)\n",
    "        print(a)\n",
    "        print(b)\n",
    "        print(c)\n",
    "        \n",
    "if __name__ == '__main__' :\n",
    "    test02()"
   ]
  },
  {
   "cell_type": "code",
   "execution_count": 248,
   "metadata": {
    "scrolled": true
   },
   "outputs": [
    {
     "data": {
      "text/plain": [
       "['__breakpointhook__',\n",
       " '__displayhook__',\n",
       " '__doc__',\n",
       " '__excepthook__',\n",
       " '__interactivehook__',\n",
       " '__loader__',\n",
       " '__name__',\n",
       " '__package__',\n",
       " '__spec__',\n",
       " '__stderr__',\n",
       " '__stdin__',\n",
       " '__stdout__',\n",
       " '__unraisablehook__',\n",
       " '_base_executable',\n",
       " '_clear_type_cache',\n",
       " '_current_frames',\n",
       " '_debugmallocstats',\n",
       " '_enablelegacywindowsfsencoding',\n",
       " '_framework',\n",
       " '_getframe',\n",
       " '_git',\n",
       " '_home',\n",
       " '_xoptions',\n",
       " 'addaudithook',\n",
       " 'api_version',\n",
       " 'argv',\n",
       " 'audit',\n",
       " 'base_exec_prefix',\n",
       " 'base_prefix',\n",
       " 'breakpointhook',\n",
       " 'builtin_module_names',\n",
       " 'byteorder',\n",
       " 'call_tracing',\n",
       " 'callstats',\n",
       " 'copyright',\n",
       " 'displayhook',\n",
       " 'dllhandle',\n",
       " 'dont_write_bytecode',\n",
       " 'exc_info',\n",
       " 'excepthook',\n",
       " 'exec_prefix',\n",
       " 'executable',\n",
       " 'exit',\n",
       " 'flags',\n",
       " 'float_info',\n",
       " 'float_repr_style',\n",
       " 'get_asyncgen_hooks',\n",
       " 'get_coroutine_origin_tracking_depth',\n",
       " 'getallocatedblocks',\n",
       " 'getcheckinterval',\n",
       " 'getdefaultencoding',\n",
       " 'getfilesystemencodeerrors',\n",
       " 'getfilesystemencoding',\n",
       " 'getprofile',\n",
       " 'getrecursionlimit',\n",
       " 'getrefcount',\n",
       " 'getsizeof',\n",
       " 'getswitchinterval',\n",
       " 'gettrace',\n",
       " 'getwindowsversion',\n",
       " 'hash_info',\n",
       " 'hexversion',\n",
       " 'implementation',\n",
       " 'int_info',\n",
       " 'intern',\n",
       " 'is_finalizing',\n",
       " 'last_traceback',\n",
       " 'last_type',\n",
       " 'last_value',\n",
       " 'maxsize',\n",
       " 'maxunicode',\n",
       " 'meta_path',\n",
       " 'modules',\n",
       " 'path',\n",
       " 'path_hooks',\n",
       " 'path_importer_cache',\n",
       " 'platform',\n",
       " 'prefix',\n",
       " 'ps1',\n",
       " 'ps2',\n",
       " 'ps3',\n",
       " 'pycache_prefix',\n",
       " 'set_asyncgen_hooks',\n",
       " 'set_coroutine_origin_tracking_depth',\n",
       " 'setcheckinterval',\n",
       " 'setprofile',\n",
       " 'setrecursionlimit',\n",
       " 'setswitchinterval',\n",
       " 'settrace',\n",
       " 'stderr',\n",
       " 'stdin',\n",
       " 'stdout',\n",
       " 'thread_info',\n",
       " 'unraisablehook',\n",
       " 'version',\n",
       " 'version_info',\n",
       " 'warnoptions',\n",
       " 'winver']"
      ]
     },
     "execution_count": 248,
     "metadata": {},
     "output_type": "execute_result"
    }
   ],
   "source": [
    "import sys\n",
    "dir(sys)"
   ]
  },
  {
   "cell_type": "code",
   "execution_count": 249,
   "metadata": {},
   "outputs": [
    {
     "data": {
      "text/plain": [
       "'3.8.3 (default, Jul  2 2020, 17:30:36) [MSC v.1916 64 bit (AMD64)]'"
      ]
     },
     "execution_count": 249,
     "metadata": {},
     "output_type": "execute_result"
    }
   ],
   "source": [
    "sys.version"
   ]
  },
  {
   "cell_type": "code",
   "execution_count": 250,
   "metadata": {},
   "outputs": [
    {
     "data": {
      "text/plain": [
       "\"'3.8.3 (default, Jul  2 2020, 17:30:36) [MSC v.1916 64 bit (AMD64)]'\""
      ]
     },
     "execution_count": 250,
     "metadata": {},
     "output_type": "execute_result"
    }
   ],
   "source": [
    "repr(sys.version)"
   ]
  },
  {
   "cell_type": "code",
   "execution_count": 251,
   "metadata": {},
   "outputs": [
    {
     "data": {
      "text/plain": [
       "sys.version_info(major=3, minor=8, micro=3, releaselevel='final', serial=0)"
      ]
     },
     "execution_count": 251,
     "metadata": {},
     "output_type": "execute_result"
    }
   ],
   "source": [
    "sys.version_info"
   ]
  },
  {
   "cell_type": "code",
   "execution_count": 252,
   "metadata": {},
   "outputs": [
    {
     "data": {
      "text/plain": [
       "1013"
      ]
     },
     "execution_count": 252,
     "metadata": {},
     "output_type": "execute_result"
    }
   ],
   "source": [
    "sys.api_version"
   ]
  },
  {
   "cell_type": "code",
   "execution_count": 253,
   "metadata": {},
   "outputs": [
    {
     "data": {
      "text/plain": [
       "'win32'"
      ]
     },
     "execution_count": 253,
     "metadata": {},
     "output_type": "execute_result"
    }
   ],
   "source": [
    "sys.platform"
   ]
  },
  {
   "cell_type": "code",
   "execution_count": 254,
   "metadata": {},
   "outputs": [
    {
     "data": {
      "text/plain": [
       "'cpython'"
      ]
     },
     "execution_count": 254,
     "metadata": {},
     "output_type": "execute_result"
    }
   ],
   "source": [
    "sys.implementation.name"
   ]
  },
  {
   "cell_type": "code",
   "execution_count": 255,
   "metadata": {},
   "outputs": [
    {
     "data": {
      "text/plain": [
       "'C:\\\\Users\\\\JAY\\\\anaconda3\\\\python.exe'"
      ]
     },
     "execution_count": 255,
     "metadata": {},
     "output_type": "execute_result"
    }
   ],
   "source": [
    "sys.executable"
   ]
  },
  {
   "cell_type": "code",
   "execution_count": 257,
   "metadata": {},
   "outputs": [
    {
     "data": {
      "text/plain": [
       "'C:\\\\Users\\\\JAY\\\\anaconda3'"
      ]
     },
     "execution_count": 257,
     "metadata": {},
     "output_type": "execute_result"
    }
   ],
   "source": [
    "sys.prefix"
   ]
  },
  {
   "cell_type": "code",
   "execution_count": 258,
   "metadata": {},
   "outputs": [
    {
     "data": {
      "text/plain": [
       "['__breakpointhook__',\n",
       " '__displayhook__',\n",
       " '__doc__',\n",
       " '__excepthook__',\n",
       " '__interactivehook__',\n",
       " '__loader__',\n",
       " '__name__',\n",
       " '__package__',\n",
       " '__spec__',\n",
       " '__stderr__',\n",
       " '__stdin__',\n",
       " '__stdout__',\n",
       " '__unraisablehook__',\n",
       " '_base_executable',\n",
       " '_clear_type_cache',\n",
       " '_current_frames',\n",
       " '_debugmallocstats',\n",
       " '_enablelegacywindowsfsencoding',\n",
       " '_framework',\n",
       " '_getframe',\n",
       " '_git',\n",
       " '_home',\n",
       " '_xoptions',\n",
       " 'addaudithook',\n",
       " 'api_version',\n",
       " 'argv',\n",
       " 'audit',\n",
       " 'base_exec_prefix',\n",
       " 'base_prefix',\n",
       " 'breakpointhook',\n",
       " 'builtin_module_names',\n",
       " 'byteorder',\n",
       " 'call_tracing',\n",
       " 'callstats',\n",
       " 'copyright',\n",
       " 'displayhook',\n",
       " 'dllhandle',\n",
       " 'dont_write_bytecode',\n",
       " 'exc_info',\n",
       " 'excepthook',\n",
       " 'exec_prefix',\n",
       " 'executable',\n",
       " 'exit',\n",
       " 'flags',\n",
       " 'float_info',\n",
       " 'float_repr_style',\n",
       " 'get_asyncgen_hooks',\n",
       " 'get_coroutine_origin_tracking_depth',\n",
       " 'getallocatedblocks',\n",
       " 'getcheckinterval',\n",
       " 'getdefaultencoding',\n",
       " 'getfilesystemencodeerrors',\n",
       " 'getfilesystemencoding',\n",
       " 'getprofile',\n",
       " 'getrecursionlimit',\n",
       " 'getrefcount',\n",
       " 'getsizeof',\n",
       " 'getswitchinterval',\n",
       " 'gettrace',\n",
       " 'getwindowsversion',\n",
       " 'hash_info',\n",
       " 'hexversion',\n",
       " 'implementation',\n",
       " 'int_info',\n",
       " 'intern',\n",
       " 'is_finalizing',\n",
       " 'last_traceback',\n",
       " 'last_type',\n",
       " 'last_value',\n",
       " 'maxsize',\n",
       " 'maxunicode',\n",
       " 'meta_path',\n",
       " 'modules',\n",
       " 'path',\n",
       " 'path_hooks',\n",
       " 'path_importer_cache',\n",
       " 'platform',\n",
       " 'prefix',\n",
       " 'ps1',\n",
       " 'ps2',\n",
       " 'ps3',\n",
       " 'pycache_prefix',\n",
       " 'set_asyncgen_hooks',\n",
       " 'set_coroutine_origin_tracking_depth',\n",
       " 'setcheckinterval',\n",
       " 'setprofile',\n",
       " 'setrecursionlimit',\n",
       " 'setswitchinterval',\n",
       " 'settrace',\n",
       " 'stderr',\n",
       " 'stdin',\n",
       " 'stdout',\n",
       " 'thread_info',\n",
       " 'unraisablehook',\n",
       " 'version',\n",
       " 'version_info',\n",
       " 'warnoptions',\n",
       " 'winver']"
      ]
     },
     "execution_count": 258,
     "metadata": {},
     "output_type": "execute_result"
    }
   ],
   "source": [
    "dir(sys)"
   ]
  },
  {
   "cell_type": "code",
   "execution_count": 259,
   "metadata": {},
   "outputs": [
    {
     "data": {
      "text/plain": [
       "['C:\\\\Users\\\\JAY\\\\Desktop\\\\플레이데이터\\\\데일리파일',\n",
       " 'C:\\\\Users\\\\JAY\\\\anaconda3\\\\python38.zip',\n",
       " 'C:\\\\Users\\\\JAY\\\\anaconda3\\\\DLLs',\n",
       " 'C:\\\\Users\\\\JAY\\\\anaconda3\\\\lib',\n",
       " 'C:\\\\Users\\\\JAY\\\\anaconda3',\n",
       " '',\n",
       " 'C:\\\\Users\\\\JAY\\\\anaconda3\\\\lib\\\\site-packages',\n",
       " 'C:\\\\Users\\\\JAY\\\\anaconda3\\\\lib\\\\site-packages\\\\win32',\n",
       " 'C:\\\\Users\\\\JAY\\\\anaconda3\\\\lib\\\\site-packages\\\\win32\\\\lib',\n",
       " 'C:\\\\Users\\\\JAY\\\\anaconda3\\\\lib\\\\site-packages\\\\Pythonwin',\n",
       " 'C:\\\\Users\\\\JAY\\\\anaconda3\\\\lib\\\\site-packages\\\\IPython\\\\extensions',\n",
       " 'C:\\\\Users\\\\JAY\\\\.ipython']"
      ]
     },
     "execution_count": 259,
     "metadata": {},
     "output_type": "execute_result"
    }
   ],
   "source": [
    "sys.path"
   ]
  },
  {
   "cell_type": "markdown",
   "metadata": {},
   "source": [
    "clud?"
   ]
  },
  {
   "cell_type": "code",
   "execution_count": 261,
   "metadata": {},
   "outputs": [],
   "source": [
    "# dir(__builtins__)"
   ]
  },
  {
   "cell_type": "code",
   "execution_count": 263,
   "metadata": {
    "scrolled": true
   },
   "outputs": [
    {
     "name": "stdout",
     "output_type": "stream",
     "text": [
      "Help on built-in function open in module io:\n",
      "\n",
      "open(file, mode='r', buffering=-1, encoding=None, errors=None, newline=None, closefd=True, opener=None)\n",
      "    Open file and return a stream.  Raise OSError upon failure.\n",
      "    \n",
      "    file is either a text or byte string giving the name (and the path\n",
      "    if the file isn't in the current working directory) of the file to\n",
      "    be opened or an integer file descriptor of the file to be\n",
      "    wrapped. (If a file descriptor is given, it is closed when the\n",
      "    returned I/O object is closed, unless closefd is set to False.)\n",
      "    \n",
      "    mode is an optional string that specifies the mode in which the file\n",
      "    is opened. It defaults to 'r' which means open for reading in text\n",
      "    mode.  Other common values are 'w' for writing (truncating the file if\n",
      "    it already exists), 'x' for creating and writing to a new file, and\n",
      "    'a' for appending (which on some Unix systems, means that all writes\n",
      "    append to the end of the file regardless of the current seek position).\n",
      "    In text mode, if encoding is not specified the encoding used is platform\n",
      "    dependent: locale.getpreferredencoding(False) is called to get the\n",
      "    current locale encoding. (For reading and writing raw bytes use binary\n",
      "    mode and leave encoding unspecified.) The available modes are:\n",
      "    \n",
      "    ========= ===============================================================\n",
      "    Character Meaning\n",
      "    --------- ---------------------------------------------------------------\n",
      "    'r'       open for reading (default)\n",
      "    'w'       open for writing, truncating the file first\n",
      "    'x'       create a new file and open it for writing\n",
      "    'a'       open for writing, appending to the end of the file if it exists\n",
      "    'b'       binary mode\n",
      "    't'       text mode (default)\n",
      "    '+'       open a disk file for updating (reading and writing)\n",
      "    'U'       universal newline mode (deprecated)\n",
      "    ========= ===============================================================\n",
      "    \n",
      "    The default mode is 'rt' (open for reading text). For binary random\n",
      "    access, the mode 'w+b' opens and truncates the file to 0 bytes, while\n",
      "    'r+b' opens the file without truncation. The 'x' mode implies 'w' and\n",
      "    raises an `FileExistsError` if the file already exists.\n",
      "    \n",
      "    Python distinguishes between files opened in binary and text modes,\n",
      "    even when the underlying operating system doesn't. Files opened in\n",
      "    binary mode (appending 'b' to the mode argument) return contents as\n",
      "    bytes objects without any decoding. In text mode (the default, or when\n",
      "    't' is appended to the mode argument), the contents of the file are\n",
      "    returned as strings, the bytes having been first decoded using a\n",
      "    platform-dependent encoding or using the specified encoding if given.\n",
      "    \n",
      "    'U' mode is deprecated and will raise an exception in future versions\n",
      "    of Python.  It has no effect in Python 3.  Use newline to control\n",
      "    universal newlines mode.\n",
      "    \n",
      "    buffering is an optional integer used to set the buffering policy.\n",
      "    Pass 0 to switch buffering off (only allowed in binary mode), 1 to select\n",
      "    line buffering (only usable in text mode), and an integer > 1 to indicate\n",
      "    the size of a fixed-size chunk buffer.  When no buffering argument is\n",
      "    given, the default buffering policy works as follows:\n",
      "    \n",
      "    * Binary files are buffered in fixed-size chunks; the size of the buffer\n",
      "      is chosen using a heuristic trying to determine the underlying device's\n",
      "      \"block size\" and falling back on `io.DEFAULT_BUFFER_SIZE`.\n",
      "      On many systems, the buffer will typically be 4096 or 8192 bytes long.\n",
      "    \n",
      "    * \"Interactive\" text files (files for which isatty() returns True)\n",
      "      use line buffering.  Other text files use the policy described above\n",
      "      for binary files.\n",
      "    \n",
      "    encoding is the name of the encoding used to decode or encode the\n",
      "    file. This should only be used in text mode. The default encoding is\n",
      "    platform dependent, but any encoding supported by Python can be\n",
      "    passed.  See the codecs module for the list of supported encodings.\n",
      "    \n",
      "    errors is an optional string that specifies how encoding errors are to\n",
      "    be handled---this argument should not be used in binary mode. Pass\n",
      "    'strict' to raise a ValueError exception if there is an encoding error\n",
      "    (the default of None has the same effect), or pass 'ignore' to ignore\n",
      "    errors. (Note that ignoring encoding errors can lead to data loss.)\n",
      "    See the documentation for codecs.register or run 'help(codecs.Codec)'\n",
      "    for a list of the permitted encoding error strings.\n",
      "    \n",
      "    newline controls how universal newlines works (it only applies to text\n",
      "    mode). It can be None, '', '\\n', '\\r', and '\\r\\n'.  It works as\n",
      "    follows:\n",
      "    \n",
      "    * On input, if newline is None, universal newlines mode is\n",
      "      enabled. Lines in the input can end in '\\n', '\\r', or '\\r\\n', and\n",
      "      these are translated into '\\n' before being returned to the\n",
      "      caller. If it is '', universal newline mode is enabled, but line\n",
      "      endings are returned to the caller untranslated. If it has any of\n",
      "      the other legal values, input lines are only terminated by the given\n",
      "      string, and the line ending is returned to the caller untranslated.\n",
      "    \n",
      "    * On output, if newline is None, any '\\n' characters written are\n",
      "      translated to the system default line separator, os.linesep. If\n",
      "      newline is '' or '\\n', no translation takes place. If newline is any\n",
      "      of the other legal values, any '\\n' characters written are translated\n",
      "      to the given string.\n",
      "    \n",
      "    If closefd is False, the underlying file descriptor will be kept open\n",
      "    when the file is closed. This does not work when a file name is given\n",
      "    and must be True in that case.\n",
      "    \n",
      "    A custom opener can be used by passing a callable as *opener*. The\n",
      "    underlying file descriptor for the file object is then obtained by\n",
      "    calling *opener* with (*file*, *flags*). *opener* must return an open\n",
      "    file descriptor (passing os.open as *opener* results in functionality\n",
      "    similar to passing None).\n",
      "    \n",
      "    open() returns a file object whose type depends on the mode, and\n",
      "    through which the standard file operations such as reading and writing\n",
      "    are performed. When open() is used to open a file in a text mode ('w',\n",
      "    'r', 'wt', 'rt', etc.), it returns a TextIOWrapper. When used to open\n",
      "    a file in a binary mode, the returned class varies: in read binary\n",
      "    mode, it returns a BufferedReader; in write binary and append binary\n",
      "    modes, it returns a BufferedWriter, and in read/write mode, it returns\n",
      "    a BufferedRandom.\n",
      "    \n",
      "    It is also possible to use a string or bytearray as a file for both\n",
      "    reading and writing. For strings StringIO can be used like a file\n",
      "    opened in a text mode, and for bytes a BytesIO can be used like a file\n",
      "    opened in a binary mode.\n",
      "\n"
     ]
    }
   ],
   "source": [
    "help(open)"
   ]
  },
  {
   "cell_type": "markdown",
   "metadata": {},
   "source": [
    "# I/O\n",
    "- 파일처리\n",
    "    1. byte = 이미지, 동영상, 음성...\n",
    "    2. 문자처리 = txt\n",
    "    3. object처리 = 동일한 패턴, 자주사용하는 패턴 -> class -> 객체생성 -> 입, 출력"
   ]
  },
  {
   "cell_type": "markdown",
   "metadata": {},
   "source": [
    "[형식]\\\n",
    "파일객체 = open(file, mode)"
   ]
  },
  {
   "cell_type": "markdown",
   "metadata": {},
   "source": [
    "ex) \n",
    "- open('a.txt') # 텍스트 읽기 모드 rt\n",
    "- open('a.txt', 'w') # 쓰기전용\n",
    "- open('apple.bmp', 'r+b') # 바이너리 읽기, 쓰기 모드\n",
    "- open('a.txt', encoding='utf-8')\n",
    "\n",
    "open() -> write()/ read() -> close()\n"
   ]
  },
  {
   "cell_type": "code",
   "execution_count": 332,
   "metadata": {},
   "outputs": [],
   "source": [
    "str = '''mode is an optional string that specifies the mode in which the file\n",
    "    is opened. It defaults to 'r' which means open for reading in text\n",
    "    mode.  Other common values are 'w' for writing (truncating the file if\n",
    "    it already exists), 'x' for creating and writing to a new file, and\n",
    "    'a' for appending (which on some Unix systems, means that all writes\n",
    "    append to the end of the file regardless of the current seek position).\n",
    "    In text mode, if encoding is not specified the encoding used is platform\n",
    "    dependent: locale.getpreferredencoding(False) is called to get the\n",
    "    current locale encoding. (For reading and writing raw bytes use binary'''"
   ]
  },
  {
   "cell_type": "code",
   "execution_count": 333,
   "metadata": {},
   "outputs": [],
   "source": [
    "f=open('data.txt', 'w') #현재 패키지 하위에 data.txt파일을 쓰기전용으로 생성 후 내용 저장\n",
    "f.write(str)\n",
    "f.close()"
   ]
  },
  {
   "cell_type": "code",
   "execution_count": 334,
   "metadata": {},
   "outputs": [
    {
     "name": "stdout",
     "output_type": "stream",
     "text": [
      "mode is an optional string that specifies the mode in which the file\n",
      "    is opened. It defaults to 'r' which means open for reading in text\n",
      "    mode.  Other common values are 'w' for writing (truncating the file if\n",
      "    it already exists), 'x' for creating and writing to a new file, and\n",
      "    'a' for appending (which on some Unix systems, means that all writes\n",
      "    append to the end of the file regardless of the current seek position).\n",
      "    In text mode, if encoding is not specified the encoding used is platform\n",
      "    dependent: locale.getpreferredencoding(False) is called to get the\n",
      "    current locale encoding. (For reading and writing raw bytes use binary\n"
     ]
    }
   ],
   "source": [
    "f=open('data.txt', 'r')\n",
    "print(f.read())\n",
    "f.close()"
   ]
  },
  {
   "cell_type": "code",
   "execution_count": null,
   "metadata": {},
   "outputs": [],
   "source": []
  },
  {
   "cell_type": "code",
   "execution_count": 276,
   "metadata": {},
   "outputs": [
    {
     "name": "stdout",
     "output_type": "stream",
     "text": [
      "mode is an optional string that specifies the mode in which the file\n",
      "    is opened. It defaults to 'r' which means open for reading in text\n",
      "    modmode is an optional string that specifies the mode in which the file\n",
      "    is opened. It defaults to 'r' which means open for reading in text\n",
      "    mode.  Other common values are 'w' for writing (truncating the file if\n",
      "    it already exists), 'x' for creating and writing to a new file, and\n",
      "    'a' for appending (which on some Unix systems, means that all writes\n",
      "    append to the end of the file regardless of the current seek position).\n",
      "    In text mode, if encoding is not specified the encoding used is platform\n",
      "    dependent: locale.getpreferredencoding(False) is called to get the\n"
     ]
    }
   ],
   "source": [
    "# 함수로 코드를 변환해 보자.\n",
    "def My_write(str, mypath) :\n",
    "    f=open(mypath, 'a')\n",
    "    f.write(str)\n",
    "    f.close()\n",
    "\n",
    "def My_read(mypath):\n",
    "    f=open(mypath, 'r')\n",
    "    print(f.read())\n",
    "    f.close()\n",
    "    \n",
    "if __name__ =='__main__' :\n",
    "    str = '''mode is an optional string that specifies the mode in which the file\n",
    "    is opened. It defaults to 'r' which means open for reading in text\n",
    "    mode.  Other common values are 'w' for writing (truncating the file if\n",
    "    it already exists), 'x' for creating and writing to a new file, and\n",
    "    'a' for appending (which on some Unix systems, means that all writes\n",
    "    append to the end of the file regardless of the current seek position).\n",
    "    In text mode, if encoding is not specified the encoding used is platform\n",
    "    dependent: locale.getpreferredencoding(False) is called to get the'''\n",
    "    \n",
    "    mypath = 'C:\\\\Users\\\\JAY\\\\Desktop\\\\플레이데이터\\\\데일리파일\\\\data.txt'\n",
    "    My_write(str, mypath)\n",
    "    My_read(mypath)"
   ]
  },
  {
   "cell_type": "code",
   "execution_count": null,
   "metadata": {},
   "outputs": [],
   "source": []
  },
  {
   "cell_type": "code",
   "execution_count": 279,
   "metadata": {},
   "outputs": [
    {
     "name": "stdout",
     "output_type": "stream",
     "text": [
      "mode is an optional string that specifies the mode in which the file\n",
      "    is opened. It defaults to 'r' which means open for reading in text\n",
      "    modmode is an optional string that specifies the mode in which the file\n",
      "    is opened. It defaults to 'r' which means open for reading in text\n",
      "    mode.  Other common values are 'w' for writing (truncating the file if\n",
      "    it already exists), 'x' for creating and writing to a new file, and\n",
      "    'a' for appending (which on some Unix systems, means that all writes\n",
      "    append to the end of the file regardless of the current seek position).\n",
      "    In text mode, if encoding is not specified the encoding used is platform\n",
      "    dependent: locale.getpreferredencoding(False) is called to get themode is an optional string that specifies the mode in which the file\n",
      "    is opened. It defaults to 'r' which means open for reading in text\n",
      "    mode.  Other common values are 'w' for writing (truncating the file if\n",
      "    it already exists), 'x' for creating and writing to a new file, and\n",
      "    'a' for appending (which on some Unix systems, means that all writes\n",
      "    append to the end of the file regardless of the current seek position).\n",
      "    In text mode, if encoding is not specified the encoding used is platform\n",
      "    dependent: locale.getpreferredencoding(False) is called to get the\n"
     ]
    }
   ],
   "source": [
    "class MyFile :\n",
    "    def __init__(self, mypath, str) :\n",
    "        self.mypath = mypath\n",
    "        self.str = str\n",
    "        \n",
    "    def My_write(self) :\n",
    "        f=open(self.mypath, 'a')\n",
    "        f.write(self.str)\n",
    "        f.close()\n",
    "\n",
    "    def My_read(self):\n",
    "        f=open(self.mypath, 'r')\n",
    "        print(f.read())\n",
    "        f.close()\n",
    "    \n",
    "    \n",
    "    \n",
    "if __name__ == '__main__' :\n",
    "    str = '''mode is an optional string that specifies the mode in which the file\n",
    "    is opened. It defaults to 'r' which means open for reading in text\n",
    "    mode.  Other common values are 'w' for writing (truncating the file if\n",
    "    it already exists), 'x' for creating and writing to a new file, and\n",
    "    'a' for appending (which on some Unix systems, means that all writes\n",
    "    append to the end of the file regardless of the current seek position).\n",
    "    In text mode, if encoding is not specified the encoding used is platform\n",
    "    dependent: locale.getpreferredencoding(False) is called to get the'''\n",
    "    \n",
    "    mypath = 'C:\\\\Users\\\\JAY\\\\Desktop\\\\플레이데이터\\\\데일리파일\\\\data.txt'\n",
    "    m1 = MyFile(mypath, str)\n",
    "    m1.My_write()\n",
    "    m1.My_read()\n",
    "    \n",
    "#     My_write(str, mypath)\n",
    "#     My_read(mypath)"
   ]
  },
  {
   "cell_type": "markdown",
   "metadata": {},
   "source": [
    "# test_file04.py"
   ]
  },
  {
   "cell_type": "code",
   "execution_count": 327,
   "metadata": {},
   "outputs": [
    {
     "data": {
      "text/plain": [
       "_io.TextIOWrapper"
      ]
     },
     "execution_count": 327,
     "metadata": {},
     "output_type": "execute_result"
    }
   ],
   "source": [
    "type(open('C:\\\\Users\\\\JAY\\\\Desktop\\\\플레이데이터\\\\데일리파일\\\\data.txt', 'r'))"
   ]
  },
  {
   "cell_type": "code",
   "execution_count": 328,
   "metadata": {},
   "outputs": [],
   "source": [
    "f=open('C:\\\\Users\\\\JAY\\\\Desktop\\\\플레이데이터\\\\데일리파일\\\\data.txt','r')"
   ]
  },
  {
   "cell_type": "code",
   "execution_count": 329,
   "metadata": {},
   "outputs": [
    {
     "data": {
      "text/plain": [
       "''"
      ]
     },
     "execution_count": 329,
     "metadata": {},
     "output_type": "execute_result"
    }
   ],
   "source": [
    "f.read()"
   ]
  },
  {
   "cell_type": "code",
   "execution_count": 330,
   "metadata": {},
   "outputs": [
    {
     "data": {
      "text/plain": [
       "''"
      ]
     },
     "execution_count": 330,
     "metadata": {},
     "output_type": "execute_result"
    }
   ],
   "source": [
    "f.readline() # 한줄씩 읽기"
   ]
  },
  {
   "cell_type": "code",
   "execution_count": 331,
   "metadata": {},
   "outputs": [
    {
     "data": {
      "text/plain": [
       "[]"
      ]
     },
     "execution_count": 331,
     "metadata": {},
     "output_type": "execute_result"
    }
   ],
   "source": [
    "f.readlines() #줄별로 리스트 단위로 리턴"
   ]
  },
  {
   "cell_type": "code",
   "execution_count": 298,
   "metadata": {},
   "outputs": [
    {
     "data": {
      "text/plain": [
       "0"
      ]
     },
     "execution_count": 298,
     "metadata": {},
     "output_type": "execute_result"
    }
   ],
   "source": [
    "len(f.readlines())"
   ]
  },
  {
   "cell_type": "code",
   "execution_count": 306,
   "metadata": {},
   "outputs": [],
   "source": [
    "f.close()"
   ]
  },
  {
   "cell_type": "code",
   "execution_count": 301,
   "metadata": {},
   "outputs": [
    {
     "name": "stdout",
     "output_type": "stream",
     "text": [
      "Help on built-in function read:\n",
      "\n",
      "read(size=-1, /) method of _io.TextIOWrapper instance\n",
      "    Read at most n characters from stream.\n",
      "    \n",
      "    Read from underlying buffer until we have n characters or we hit EOF.\n",
      "    If n is negative or omitted, read until EOF.\n",
      "\n"
     ]
    }
   ],
   "source": [
    "help(f.read) # EOF : End of File"
   ]
  },
  {
   "cell_type": "code",
   "execution_count": 302,
   "metadata": {},
   "outputs": [
    {
     "data": {
      "text/plain": [
       "\"mode is an optional string that specifies the mode in which the file\\n    is opened. It defaults to '\""
      ]
     },
     "execution_count": 302,
     "metadata": {},
     "output_type": "execute_result"
    }
   ],
   "source": [
    "f.read(100)"
   ]
  },
  {
   "cell_type": "code",
   "execution_count": 308,
   "metadata": {},
   "outputs": [
    {
     "data": {
      "text/plain": [
       "\"mode is an optional string that specifies the mode in which the file\\n    is opened. It defaults to 'r' which means open for reading in text\\n    modmode is an optional string that specifies the mode in which the file\\n    is opened. It defaults to 'r' which means open for reading in text\\n    mode.  Other common values are 'w' for writing (truncating the file if\\n    it already exists), 'x' for creating and writing to a new file, and\\n    'a' for appending (which on some Unix systems, means that all writes\\n    append to the end of the file regardless of the current seek position).\\n    In text mode, if encoding is not specified the encoding used is platform\\n    dependent: locale.getpreferredencoding(False) is called to get themode is an optional string that specifies the mode in which the file\\n    is opened. It defaults to 'r' which means open for reading in text\\n    mode.  Other common values are 'w' for writing (truncating the file if\\n    it already exists), 'x' for creating and writing to a new file, and\\n    'a' for appending (which on some Unix systems, means that all writes\\n    append to the end of the file regardless of the current seek position).\\n    In text mode, if encoding is not specified the encoding used is platform\\n    dependent: locale.getpreferredencoding(False) is called to get the\""
      ]
     },
     "execution_count": 308,
     "metadata": {},
     "output_type": "execute_result"
    }
   ],
   "source": [
    "f.read() # 모두 read로 불러오고 읽고난뒤 빈 값 리턴(EOF가 0)"
   ]
  },
  {
   "cell_type": "code",
   "execution_count": 304,
   "metadata": {},
   "outputs": [
    {
     "data": {
      "text/plain": [
       "''"
      ]
     },
     "execution_count": 304,
     "metadata": {},
     "output_type": "execute_result"
    }
   ],
   "source": [
    "f.read()"
   ]
  },
  {
   "cell_type": "code",
   "execution_count": 336,
   "metadata": {},
   "outputs": [
    {
     "name": "stdout",
     "output_type": "stream",
     "text": [
      "mode is an optional string that specifies the mode in which the file\n",
      "    is opened. It defaults to 'r' which means open for reading in text\n",
      "    mode.  Other common values are 'w' for writing (truncating the file if\n",
      "    it already exists), 'x' for creating and writing to a new file, and\n",
      "    'a' for appending (which on some Unix systems, means that all writes\n",
      "    append to the end of the file regardless of the current seek position).\n",
      "    In text mode, if encoding is not specified the encoding used is platform\n",
      "    dependent: locale.getpreferredencoding(False) is called to get the\n",
      "    current locale encoding. (For reading and writing raw bytes use binary\n",
      "mode is an optional string that specifies the mode in which the file\n",
      "\n",
      "['mode is an optional string that specifies the mode in which the file\\n', \"    is opened. It defaults to 'r' which means open for reading in text\\n\", \"    mode.  Other common values are 'w' for writing (truncating the file if\\n\", \"    it already exists), 'x' for creating and writing to a new file, and\\n\", \"    'a' for appending (which on some Unix systems, means that all writes\\n\", '    append to the end of the file regardless of the current seek position).\\n', '    In text mode, if encoding is not specified the encoding used is platform\\n', '    dependent: locale.getpreferredencoding(False) is called to get the\\n', '    current locale encoding. (For reading and writing raw bytes use binary']\n"
     ]
    }
   ],
   "source": [
    "f=open('C:\\\\Users\\\\JAY\\\\Desktop\\\\플레이데이터\\\\데일리파일\\\\data.txt','w')\n",
    "with open('data.txt', 'w') as f:\n",
    "    f.write(str)\n",
    "\n",
    "with open('data.txt', 'r') as f:\n",
    "    print(f.read())\n",
    "    \n",
    "with open('data.txt', 'r') as f :\n",
    "    print(f.readline())\n",
    "    \n",
    "with open('data.txt', 'r') as f :\n",
    "    print(f.readlines())"
   ]
  },
  {
   "cell_type": "code",
   "execution_count": 339,
   "metadata": {},
   "outputs": [],
   "source": [
    "# f = open('data.txt', 'r')\n",
    "# while True :\n",
    "#     print(f.readline())"
   ]
  },
  {
   "cell_type": "code",
   "execution_count": 340,
   "metadata": {},
   "outputs": [
    {
     "name": "stdout",
     "output_type": "stream",
     "text": [
      "mode is an optional string that specifies the mode in which the file\n",
      "\n"
     ]
    }
   ],
   "source": [
    "with open('data.txt', 'r') as f :\n",
    "    print(f.readline())"
   ]
  },
  {
   "cell_type": "code",
   "execution_count": 348,
   "metadata": {},
   "outputs": [],
   "source": [
    "str = '''mode is an optional string that specifies the mode in which the file\n",
    "    is opened. It defaults to 'r' which means open for reading in text\n",
    "    mode.  Other common values are 'w' for writing (truncating the file if\n",
    "    it already exists), 'x' for creating and writing to a new file, and\n",
    "    'a' for appending (which on some Unix systems, means that all writes\n",
    "    append to the end of the file regardless of the current seek position).\n",
    "    In text mode, if encoding is not specified the encoding used is platform\n",
    "    dependent: locale.getpreferredencoding(False) is called to get the\n",
    "    current locale encoding. (For reading and writing raw bytes use binary'''"
   ]
  },
  {
   "cell_type": "code",
   "execution_count": 349,
   "metadata": {},
   "outputs": [],
   "source": [
    "ff = open('data00.txt', 'w')\n",
    "ff.write(str)\n",
    "ff.close()"
   ]
  },
  {
   "cell_type": "code",
   "execution_count": 350,
   "metadata": {},
   "outputs": [
    {
     "data": {
      "text/plain": [
       "\"mode is an optional string that specifies the mode in which the file\\n    is opened. It defaults to 'r' which means open for reading in text\\n    mode.  Other common values are 'w' for writing (truncating the file if\\n    it already exists), 'x' for creating and writing to a new file, and\\n    'a' for appending (which on some Unix systems, means that all writes\\n    append to the end of the file regardless of the current seek position).\\n    In text mode, if encoding is not specified the encoding used is platform\\n    dependent: locale.getpreferredencoding(False) is called to get the\\n    current locale encoding. (For reading and writing raw bytes use binary\""
      ]
     },
     "execution_count": 350,
     "metadata": {},
     "output_type": "execute_result"
    }
   ],
   "source": [
    "ff=open('data00.txt', 'r')\n",
    "ff.read()"
   ]
  },
  {
   "cell_type": "markdown",
   "metadata": {},
   "source": [
    "# test_file05.py"
   ]
  },
  {
   "cell_type": "markdown",
   "metadata": {},
   "source": [
    "### 전체출력 readline을 이용해서"
   ]
  },
  {
   "cell_type": "code",
   "execution_count": 2,
   "metadata": {},
   "outputs": [
    {
     "name": "stdout",
     "output_type": "stream",
     "text": [
      "mode is an optional string that specifies the mode in which the file\n",
      "\n"
     ]
    }
   ],
   "source": [
    "# 파일을 readline() 메소드를 읽어 보자.\n",
    "\n",
    "# Case 01\n",
    "f=open('data00.txt', 'r')\n",
    "line = f.readline() # 하나의 라인만 리턴 받는다.\n",
    "print(line)\n",
    "f.close()"
   ]
  },
  {
   "cell_type": "code",
   "execution_count": 354,
   "metadata": {},
   "outputs": [
    {
     "name": "stdout",
     "output_type": "stream",
     "text": [
      "mode is an optional string that specifies the mode in which the file\n",
      "\n",
      "    is opened. It defaults to 'r' which means open for reading in text\n",
      "\n",
      "    mode.  Other common values are 'w' for writing (truncating the file if\n",
      "\n",
      "    it already exists), 'x' for creating and writing to a new file, and\n",
      "\n",
      "    'a' for appending (which on some Unix systems, means that all writes\n",
      "\n",
      "    append to the end of the file regardless of the current seek position).\n",
      "\n",
      "    In text mode, if encoding is not specified the encoding used is platform\n",
      "\n",
      "    dependent: locale.getpreferredencoding(False) is called to get the\n",
      "\n",
      "    current locale encoding. (For reading and writing raw bytes use binary\n"
     ]
    }
   ],
   "source": [
    "# Case 02\n",
    "f=open('data00.txt', 'r')\n",
    "line = f.readline() # 하나의 라인만 리턴 받는다.\n",
    "while line :\n",
    "    print(line)\n",
    "    line = f.readline()\n",
    "f.close()"
   ]
  },
  {
   "cell_type": "code",
   "execution_count": 355,
   "metadata": {},
   "outputs": [
    {
     "name": "stdout",
     "output_type": "stream",
     "text": [
      "mode is an optional string that specifies the mode in which the file\n",
      "\n",
      "    is opened. It defaults to 'r' which means open for reading in text\n",
      "\n",
      "    mode.  Other common values are 'w' for writing (truncating the file if\n",
      "\n",
      "    it already exists), 'x' for creating and writing to a new file, and\n",
      "\n",
      "    'a' for appending (which on some Unix systems, means that all writes\n",
      "\n",
      "    append to the end of the file regardless of the current seek position).\n",
      "\n",
      "    In text mode, if encoding is not specified the encoding used is platform\n",
      "\n",
      "    dependent: locale.getpreferredencoding(False) is called to get the\n",
      "\n",
      "    current locale encoding. (For reading and writing raw bytes use binary\n"
     ]
    }
   ],
   "source": [
    "# Case 03\n",
    "f=open('data00.txt', 'r')\n",
    "while True :\n",
    "    line = f.readline()\n",
    "    if not line :\n",
    "        break\n",
    "    print(line)\n",
    "f.close()"
   ]
  },
  {
   "cell_type": "code",
   "execution_count": 1,
   "metadata": {},
   "outputs": [
    {
     "name": "stdout",
     "output_type": "stream",
     "text": [
      "mode is an optional string that specifies the mode in which the file\n",
      "\n",
      "    is opened. It defaults to 'r' which means open for reading in text\n",
      "\n",
      "    mode.  Other common values are 'w' for writing (truncating the file if\n",
      "\n",
      "    it already exists), 'x' for creating and writing to a new file, and\n",
      "\n",
      "    'a' for appending (which on some Unix systems, means that all writes\n",
      "\n",
      "    append to the end of the file regardless of the current seek position).\n",
      "\n",
      "    In text mode, if encoding is not specified the encoding used is platform\n",
      "\n",
      "    dependent: locale.getpreferredencoding(False) is called to get the\n",
      "\n",
      "    current locale encoding. (For reading and writing raw bytes use binarymode is an optional string that specifies the mode in which the file\n",
      "\n",
      "    is opened. It defaults to 'r' which means open for reading in text\n",
      "\n",
      "    mode.  Other common values are 'w' for writing (truncating the file if\n",
      "\n",
      "    it already exists), 'x' for creating and writing to a new file, and\n",
      "\n",
      "    'a' for appending (which on some Unix systems, means that all writes\n",
      "\n",
      "    append to the end of the file regardless of the current seek position).\n",
      "\n",
      "    In text mode, if encoding is not specified the encoding used is platform\n",
      "\n",
      "    dependent: locale.getpreferredencoding(False) is called to get the\n",
      "\n",
      "    current locale encoding. (For reading and writing raw bytes use binary\n"
     ]
    }
   ],
   "source": [
    "# Case 04\n",
    "f=open('data00.txt', 'r')\n",
    "for line in f :\n",
    "    print(line)\n",
    "f.close()"
   ]
  },
  {
   "cell_type": "code",
   "execution_count": null,
   "metadata": {},
   "outputs": [],
   "source": []
  }
 ],
 "metadata": {
  "kernelspec": {
   "display_name": "Python 3",
   "language": "python",
   "name": "python3"
  },
  "language_info": {
   "codemirror_mode": {
    "name": "ipython",
    "version": 3
   },
   "file_extension": ".py",
   "mimetype": "text/x-python",
   "name": "python",
   "nbconvert_exporter": "python",
   "pygments_lexer": "ipython3",
   "version": "3.8.3"
  }
 },
 "nbformat": 4,
 "nbformat_minor": 4
}
