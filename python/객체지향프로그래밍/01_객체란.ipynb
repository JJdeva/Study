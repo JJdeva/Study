{
 "cells": [
  {
   "cell_type": "markdown",
   "id": "ef8bca76-d9e0-4193-991b-378897e7608f",
   "metadata": {},
   "source": [
    "# 객체지향 프로그래밍"
   ]
  },
  {
   "cell_type": "markdown",
   "id": "80a36f03-dd86-479f-a735-197ff0303338",
   "metadata": {},
   "source": [
    "## 객체란?\n",
    "- 객체란 **속성**과 **행동**으로 이루어진 존재이다.\n",
    "- 우리가 살아가면서 보는 모든 존재라고 생각하면 된다."
   ]
  },
  {
   "cell_type": "markdown",
   "id": "6170792b-b8ee-4f02-aab0-c1d98dd8c4a6",
   "metadata": {},
   "source": [
    "## 객체 지향 프로그래밍이란?"
   ]
  },
  {
   "cell_type": "markdown",
   "id": "84a599f1-742f-4fe5-bd8e-62653c84c8ac",
   "metadata": {},
   "source": [
    "프로그램을 여러 개의 독립된 <u>객체들과 그 객체들 간의 상호작용</u>으로 파악하는 프로그래밍 접근법이다.\\\n",
    "프로그램을 <font color=\"blue\">객체들과 객체들 간의 소통</font>으로 바라보는 것!"
   ]
  },
  {
   "cell_type": "markdown",
   "id": "63514bbe-e5e7-481c-8e9a-6167f056ecd8",
   "metadata": {},
   "source": [
    "- 객체 지향 프로그램으로 프로그램을 만들려면?\n",
    "    1. 프로그램에 어떤 객체들이 필요할지 정한다.\n",
    "    2. 객체들의 속성과 행동을 정한다.\n",
    "    3. 객체들이 서로 어떻게 소통할지 정한다."
   ]
  },
  {
   "cell_type": "markdown",
   "id": "579bab8f-f81a-4e13-a26a-b99596635fcf",
   "metadata": {},
   "source": [
    "## 파이썬에서 객체지향을 하려면?"
   ]
  },
  {
   "cell_type": "markdown",
   "id": "7adc9585-5015-4bd5-988e-92ecb5509444",
   "metadata": {},
   "source": [
    "객체를 만들려면 우선 객체를 만들 수 있는 **객체의 틀**이 필요하다.\\\n",
    "이 객체의 틀을 **클래스(class)** 라고 한다."
   ]
  },
  {
   "cell_type": "markdown",
   "id": "3fd2de03-4e75-4723-99c2-fd7700903f4e",
   "metadata": {},
   "source": [
    "---\n",
    "예를 들어 User객체를 만든다고 하면, User 객체를 정의하는 속성과 행동을 먼저 정의해야 한다.\n",
    "- 속성\n",
    "    - 이름, 이메일주소, 비밀번호, 팔로우 목록, 팔로워 목록, ... 등\n",
    "- 행동\n",
    "    - 자기소개하기, 팔로우하기, DM보내기, ... 등\n",
    "    \n",
    "기본적으로 속성과 행동을 정의하고 추가적인 속성, 행동이 필요하면 상속을 통해 새로운 클래스를 정의하거나 하면 된다.\n",
    "\n",
    "---"
   ]
  },
  {
   "cell_type": "markdown",
   "id": "a2eadf21-8875-4f27-9730-b7086e753222",
   "metadata": {},
   "source": [
    "`클래스로 객체를 만든다` == `클래스로 인스턴스를 만든다`\n",
    "\n",
    "엄밀히 말하면 객체와 인스턴스를 동일하다 하긴 힘들지만 일단 같다고 하자."
   ]
  },
  {
   "cell_type": "markdown",
   "id": "d92d2ccf-e362-4b8c-9660-d150eafa757e",
   "metadata": {},
   "source": [
    "- 정리\n",
    "    - 객체는 속성과 행동을 갖는다.\n",
    "    - 속성은 변수로 나타낸다.\n",
    "    - 행동은 메소드(함수)로 나타낸다."
   ]
  },
  {
   "cell_type": "markdown",
   "id": "317caad3-2512-4536-a996-16646e52afa7",
   "metadata": {},
   "source": [
    "## 빈 클래스"
   ]
  },
  {
   "cell_type": "code",
   "execution_count": 2,
   "id": "6a34be17-f70d-4906-95af-f4a4f715e823",
   "metadata": {},
   "outputs": [],
   "source": [
    "# 클래스 이름은 대문자로 시작한다.\n",
    "class User:\n",
    "    pass"
   ]
  },
  {
   "cell_type": "code",
   "execution_count": 19,
   "id": "2e2813bd-8168-47ce-9e67-9c23cd4dd32a",
   "metadata": {},
   "outputs": [],
   "source": [
    "# 같은 클래스로 인스턴스 생성해도 서로 다 다른 인스턴스다.\n",
    "user1 = User()\n",
    "user2 = User()\n",
    "user3 = User()"
   ]
  },
  {
   "cell_type": "code",
   "execution_count": 4,
   "id": "87ca527f-f612-47e7-ac92-47ef5caf40b1",
   "metadata": {},
   "outputs": [
    {
     "name": "stdout",
     "output_type": "stream",
     "text": [
      "4385049376 4385047744 4385049424\n"
     ]
    }
   ],
   "source": [
    "print(id(user1), id(user2), id(user3))"
   ]
  },
  {
   "cell_type": "markdown",
   "id": "f11bf5d8-71d7-46d9-9278-82e03a8757b4",
   "metadata": {},
   "source": [
    "## 인스턴스 변수\n",
    "- 속성 추가"
   ]
  },
  {
   "cell_type": "markdown",
   "id": "d5cab66d-283e-447e-951e-ab1ee9550609",
   "metadata": {},
   "source": [
    "인스턴스 변수 정의하기\\\n",
    "`인스턴스 이름.속성이름(인스턴스 변수) = \"속성에 넣을 값\"`"
   ]
  },
  {
   "cell_type": "code",
   "execution_count": 20,
   "id": "bb4bf519-2aed-453e-b0da-8a238a04e19a",
   "metadata": {},
   "outputs": [],
   "source": [
    "user1.name = \"제이제이\"\n",
    "user1.email = \"jj@example.com\"\n",
    "user1.password = \"12345\""
   ]
  },
  {
   "cell_type": "code",
   "execution_count": 21,
   "id": "44ff9940-66d4-4ffe-8c84-9b701f28d245",
   "metadata": {},
   "outputs": [],
   "source": [
    "user2.name = \"케이케이\"\n",
    "user2.email = \"kk@example.com\"\n",
    "user2.password = \"98765\"\n",
    "\n",
    "user3.name = \"에이에이\"\n",
    "user3.email = \"aa@example.com\"\n",
    "user3.password = \"13579\""
   ]
  },
  {
   "cell_type": "markdown",
   "id": "52d59389-7029-4a46-9622-f78339698c54",
   "metadata": {},
   "source": [
    "각각의 user1, 2, 3은 서로 각각의 속성을 가지고 있다. 이렇게 인스턴스가 개인적으로 가지고 있는 속성을 **인스턴스 변수**라고 한다. "
   ]
  },
  {
   "cell_type": "markdown",
   "id": "be842ed7-f156-4435-9e18-10c7cbc88585",
   "metadata": {},
   "source": [
    "인스턴스 변수 사용하기\\\n",
    "`인스턴스 이름.인스턴스 변수 이름`"
   ]
  },
  {
   "cell_type": "code",
   "execution_count": 11,
   "id": "4d583fbc-da08-42b2-9a4b-11b1851a86f7",
   "metadata": {},
   "outputs": [
    {
     "name": "stdout",
     "output_type": "stream",
     "text": [
      "jj@example.com\n",
      "98765\n"
     ]
    }
   ],
   "source": [
    "print(user1.email)\n",
    "print(user2.password)"
   ]
  },
  {
   "cell_type": "code",
   "execution_count": 13,
   "id": "4006735d-17ae-4614-9674-b221e2417d5f",
   "metadata": {},
   "outputs": [
    {
     "ename": "AttributeError",
     "evalue": "'User' object has no attribute 'age'",
     "output_type": "error",
     "traceback": [
      "\u001b[0;31m---------------------------------------------------------------------------\u001b[0m",
      "\u001b[0;31mAttributeError\u001b[0m                            Traceback (most recent call last)",
      "Input \u001b[0;32mIn [13]\u001b[0m, in \u001b[0;36m<cell line: 2>\u001b[0;34m()\u001b[0m\n\u001b[1;32m      1\u001b[0m \u001b[38;5;66;03m# 추가하지 않은 인스턴스 변수를 쓰면?\u001b[39;00m\n\u001b[0;32m----> 2\u001b[0m \u001b[38;5;28mprint\u001b[39m(\u001b[43muser1\u001b[49m\u001b[38;5;241;43m.\u001b[39;49m\u001b[43mage\u001b[49m)\n",
      "\u001b[0;31mAttributeError\u001b[0m: 'User' object has no attribute 'age'"
     ]
    }
   ],
   "source": [
    "# 추가하지 않은 인스턴스 변수를 쓰면?\n",
    "print(user1.age)\n",
    "# 'User' object has no attribute 'age'"
   ]
  },
  {
   "cell_type": "markdown",
   "id": "7a86ff4c-e25c-497f-8b98-965cb2a75f4b",
   "metadata": {},
   "source": [
    "**인스턴스 변수를 사용하려면 꼭! 그전에 미리 정의해 놔야 한다.**"
   ]
  },
  {
   "cell_type": "markdown",
   "id": "de2f4b27-1cf2-43bb-97bf-cb3899207cc2",
   "metadata": {},
   "source": [
    "## 인스턴스 메소드\n",
    "- 객체의 행동을 나타내는 함수"
   ]
  },
  {
   "cell_type": "markdown",
   "id": "ee084e35-ebb1-4040-8882-4f39499d49bd",
   "metadata": {},
   "source": [
    "- 메소드의 종류\n",
    "    - 인스턴스 메소드\n",
    "    - 클래스 메소드\n",
    "    - 정적 메소드"
   ]
  },
  {
   "cell_type": "code",
   "execution_count": 14,
   "id": "434737f4-828f-4d6e-826b-781a8795464a",
   "metadata": {},
   "outputs": [],
   "source": [
    "class User:\n",
    "    def say_hello(some_user):\n",
    "        # 인사 메시지 출력 메소드\n",
    "        print(f\"안녕하세요. 저는 {some_user.name}입니다.\")"
   ]
  },
  {
   "cell_type": "markdown",
   "id": "13779293-3fff-41c4-8927-864eb7b2def7",
   "metadata": {},
   "source": [
    "위에 메소드 `say_hello`는 `name`이라는 `인스턴스 변수`를 사용하기에 `인스턴스 메소드` 라고 할 수 있다."
   ]
  },
  {
   "cell_type": "code",
   "execution_count": 15,
   "id": "57ed87f1-364a-4baf-90be-a34aa4420a0f",
   "metadata": {},
   "outputs": [
    {
     "name": "stdout",
     "output_type": "stream",
     "text": [
      "안녕하세요. 저는 제이제이입니다.\n"
     ]
    }
   ],
   "source": [
    "User.say_hello(user1)"
   ]
  },
  {
   "cell_type": "code",
   "execution_count": 16,
   "id": "cb1ce7af-3148-477b-aab2-5ad5a3413e82",
   "metadata": {},
   "outputs": [
    {
     "name": "stdout",
     "output_type": "stream",
     "text": [
      "안녕하세요. 저는 케이케이입니다.\n"
     ]
    }
   ],
   "source": [
    "User.say_hello(user2)"
   ]
  },
  {
   "cell_type": "code",
   "execution_count": 17,
   "id": "3196c6f9-5690-4737-aac7-7d1c890c020d",
   "metadata": {},
   "outputs": [
    {
     "name": "stdout",
     "output_type": "stream",
     "text": [
      "안녕하세요. 저는 에이에이입니다.\n"
     ]
    }
   ],
   "source": [
    "User.say_hello(user3)"
   ]
  },
  {
   "cell_type": "markdown",
   "id": "95ec1609-6b92-42ef-b1c7-d8e118d2243f",
   "metadata": {},
   "source": [
    "인스턴스 메소드 사용법\\\n",
    "`클래스 이름.메소드 이름(인스턴스)`"
   ]
  },
  {
   "cell_type": "code",
   "execution_count": 22,
   "id": "b7860716-7435-4bf7-b6e6-54ba74b8cd70",
   "metadata": {},
   "outputs": [
    {
     "name": "stdout",
     "output_type": "stream",
     "text": [
      "안녕하세요. 저는 제이제이입니다.\n"
     ]
    }
   ],
   "source": [
    "# 위에서 인스턴스 메소드를 쓰려고 User.say_hello(user1)이라고 썼다.\n",
    "user1.say_hello()"
   ]
  },
  {
   "cell_type": "markdown",
   "id": "86315635-bfd8-4bb6-acd0-059307c2e70f",
   "metadata": {},
   "source": [
    "인스턴스 메소드를 정의할 때 `some_user`라는 파라미터를 써줘야 한다고 정의했다.\\\n",
    "그러나 위에선 user1.say_hello()라고 아무 파라미터도 전달을 안해줬는데 에러가 안났다. 왜그럴까?\\\n",
    "인스턴스 메소드의 특별한 규칙이 있기 떄문이다."
   ]
  },
  {
   "cell_type": "markdown",
   "id": "5564aab8-62e1-4948-8bd4-726a42203130",
   "metadata": {},
   "source": [
    "```python\n",
    "User.say_hello(user1) # 클래스에서 메소드를 호출\n",
    "user1.say_hello() # 인스턴스에서 메소드를 호출\n",
    "```"
   ]
  },
  {
   "cell_type": "markdown",
   "id": "7de194ec-454f-4afa-8d1f-ff8e5b4da402",
   "metadata": {},
   "source": [
    "인스턴스에서 메소드를 호출하면 user1, 즉 인스턴스 자체가 say_hello의 첫번째 파라미터로 자동으로 전달된다."
   ]
  },
  {
   "cell_type": "code",
   "execution_count": 23,
   "id": "1c30feae-248d-4342-a685-e8c60bc3eb2f",
   "metadata": {},
   "outputs": [
    {
     "ename": "TypeError",
     "evalue": "say_hello() takes 1 positional argument but 2 were given",
     "output_type": "error",
     "traceback": [
      "\u001b[0;31m---------------------------------------------------------------------------\u001b[0m",
      "\u001b[0;31mTypeError\u001b[0m                                 Traceback (most recent call last)",
      "Input \u001b[0;32mIn [23]\u001b[0m, in \u001b[0;36m<cell line: 1>\u001b[0;34m()\u001b[0m\n\u001b[0;32m----> 1\u001b[0m \u001b[43muser1\u001b[49m\u001b[38;5;241;43m.\u001b[39;49m\u001b[43msay_hello\u001b[49m\u001b[43m(\u001b[49m\u001b[43muser1\u001b[49m\u001b[43m)\u001b[49m\n",
      "\u001b[0;31mTypeError\u001b[0m: say_hello() takes 1 positional argument but 2 were given"
     ]
    }
   ],
   "source": [
    "user1.say_hello(user1)"
   ]
  },
  {
   "cell_type": "markdown",
   "id": "5ebf9efb-d045-4de8-9ade-787e1733d344",
   "metadata": {},
   "source": [
    "위의 표현은 User.say_hello(user1, user1)과 동일한 표현이다. 그래서 에러가 난다."
   ]
  },
  {
   "cell_type": "code",
   "execution_count": 24,
   "id": "017989f5-c73b-4cd6-8354-98f488c4b934",
   "metadata": {},
   "outputs": [],
   "source": [
    "class User:\n",
    "    def say_hello(some_user):\n",
    "        # 인사 메시지 출력 메소드\n",
    "        print(f\"안녕하세요. 저는 {some_user.name}입니다.\")\n",
    "        \n",
    "    def login(some_user, my_email, my_password):\n",
    "        # 로그인 메소드\n",
    "        if (some_user.email == my_email and some_user.password == my_password):\n",
    "            print('로그인 성공, 환영합니다')\n",
    "        else:\n",
    "            print('로그인 실패, 없는 아이디거나 잘못된 비밀번호입니다.')"
   ]
  },
  {
   "cell_type": "code",
   "execution_count": 25,
   "id": "feb20526-496d-4cf3-8965-b00cb0adad67",
   "metadata": {},
   "outputs": [],
   "source": [
    "user1 = User()\n",
    "user2 = User()\n",
    "user3 = User()\n",
    "\n",
    "user1.name = \"제이제이\"\n",
    "user1.email = \"jj@example.com\"\n",
    "user1.password = \"12345\"\n",
    "\n",
    "user2.name = \"케이케이\"\n",
    "user2.email = \"kk@example.com\"\n",
    "user2.password = \"98765\"\n",
    "\n",
    "user3.name = \"에이에이\"\n",
    "user3.email = \"aa@example.com\"\n",
    "user3.password = \"13579\""
   ]
  },
  {
   "cell_type": "code",
   "execution_count": 26,
   "id": "3fd4fe76-f33d-4b6c-a205-7fe8a91c72a7",
   "metadata": {},
   "outputs": [
    {
     "name": "stdout",
     "output_type": "stream",
     "text": [
      "로그인 성공, 환영합니다\n"
     ]
    }
   ],
   "source": [
    "user1.login('jj@example.com', '12345')"
   ]
  },
  {
   "cell_type": "markdown",
   "id": "6b86a6c2-a180-4ad0-9e0b-cf192304d672",
   "metadata": {},
   "source": [
    "### self"
   ]
  },
  {
   "cell_type": "markdown",
   "id": "a7c03dae-7a44-41d5-9b8f-029111e9856f",
   "metadata": {},
   "source": [
    "인스턴스 메소드는 첫번째 파라미터로 자기 자신의 인스턴스를 받는다고 했다.\\\n",
    "위에서 메소드를 정의할 땐 `some_user`라고 해줬으나 파이썬에선 인스턴스 메소드의 첫번째 파라미터 이름을 `self`로 정의하는 규칙이 있다.\\\n",
    "물론 self말고 다른 단어를 써도 실행에는 아무 문제가 없으나, 관습상 self로 쓰는게 당연하기에 self로 쓰자."
   ]
  },
  {
   "cell_type": "code",
   "execution_count": 27,
   "id": "6987eb16-fb01-41fc-a673-36850767027c",
   "metadata": {},
   "outputs": [],
   "source": [
    "class User:\n",
    "    def say_hello(self):\n",
    "        # 인사 메시지 출력 메소드\n",
    "        print(f\"안녕하세요. 저는 {self.name}입니다.\")\n",
    "        \n",
    "    def login(self, my_email, my_password):\n",
    "        # 로그인 메소드\n",
    "        if (self.email == my_email and self.password == my_password):\n",
    "            print('로그인 성공, 환영합니다')\n",
    "        else:\n",
    "            print('로그인 실패, 없는 아이디거나 잘못된 비밀번호입니다.')"
   ]
  },
  {
   "cell_type": "markdown",
   "id": "c5833889-4e9b-47d4-85fe-394b12ab8d9f",
   "metadata": {},
   "source": [
    "## 인스턴스 변수와 같은 이름을 갖는 파라미터"
   ]
  },
  {
   "cell_type": "code",
   "execution_count": 28,
   "id": "7b62de3f-677a-42b8-a265-8db1efe82519",
   "metadata": {},
   "outputs": [],
   "source": [
    "class User:\n",
    "    def say_hello(self):\n",
    "        # 인사 메시지 출력 메소드\n",
    "        print(f\"안녕하세요. 저는 {self.name}입니다.\")\n",
    "    \n",
    "    def check_name(self, name):\n",
    "        # 파라미터로 받는 name이 유저의 이름과 같은지 불린으로 리턴하는 메소드\n",
    "        return self.name == name\n",
    "    \n",
    "\n",
    "user1 = User()\n",
    "\n",
    "user1.name = \"제이제이\"\n",
    "user1.email = \"jj@example.com\"\n",
    "user1.password = \"12345\""
   ]
  },
  {
   "cell_type": "markdown",
   "id": "8407f767-93b3-4781-9de8-31fd414db2e5",
   "metadata": {},
   "source": [
    "인스턴스 변수 이름과 파라미터 이름이 같은건 상관이 없다.\\\n",
    "name과 self.name은 확연히 구분이 되기 때문이다."
   ]
  },
  {
   "cell_type": "code",
   "execution_count": 30,
   "id": "ff1f165f-2d90-40ce-814f-74e9c13a2d92",
   "metadata": {},
   "outputs": [
    {
     "name": "stdout",
     "output_type": "stream",
     "text": [
      "True\n"
     ]
    }
   ],
   "source": [
    "print(user1.check_name('제이제이'))"
   ]
  },
  {
   "cell_type": "code",
   "execution_count": 31,
   "id": "2b2086e1-58e7-4371-b819-0208a03f15dd",
   "metadata": {},
   "outputs": [
    {
     "name": "stdout",
     "output_type": "stream",
     "text": [
      "False\n"
     ]
    }
   ],
   "source": [
    "print(user1.check_name('케이케이'))"
   ]
  },
  {
   "cell_type": "code",
   "execution_count": null,
   "id": "26fcbb50-0405-4d4d-a877-e73a2cee7486",
   "metadata": {},
   "outputs": [],
   "source": []
  },
  {
   "cell_type": "markdown",
   "id": "4a367c00-57a8-4b35-b435-5dcc795d02ba",
   "metadata": {},
   "source": [
    "## 실습과제\n",
    "인스턴스 변수는 항상 사용하기 전에 미리 설정해야 한다.\\\n",
    "`User` 클래스의 인스턴스를 4개 만들고 각 인스턴스에 인스턴스 변수를 설정해보자."
   ]
  },
  {
   "cell_type": "code",
   "execution_count": 32,
   "id": "3fd4c60e-40b0-4765-9250-575dda546e4f",
   "metadata": {},
   "outputs": [
    {
     "name": "stdout",
     "output_type": "stream",
     "text": [
      "Young young@example.com 123456\n",
      "Yoonsoo yoonsoo@example.com abcdef\n",
      "Taeho taeho@example.com 123abc\n",
      "Lisa lisa@example.com abc123\n"
     ]
    }
   ],
   "source": [
    "class User:\n",
    "    pass\n",
    "\n",
    "user1 = User()\n",
    "user1.name = \"Young\"\n",
    "user1.email = \"young@example.com\"\n",
    "user1.password = \"123456\"\n",
    "    \n",
    "user2 = User()\n",
    "user2.name = \"Yoonsoo\"\n",
    "user2.email = \"yoonsoo@example.com\"\n",
    "user2.password = \"abcdef\"\n",
    "    \n",
    "user3 = User()\n",
    "user3.name = \"Taeho\"\n",
    "user3.email = \"taeho@example.com\"\n",
    "user3.password = \"123abc\"\n",
    "    \n",
    "user4 = User()\n",
    "user4.name = \"Lisa\"\n",
    "user4.email = \"lisa@example.com\"\n",
    "user4.password = \"abc123\"\n",
    "\n",
    "\n",
    "print(user1.name, user1.email, user1.password)\n",
    "print(user2.name, user2.email, user2.password)\n",
    "print(user3.name, user3.email, user3.password)\n",
    "print(user4.name, user4.email, user4.password)"
   ]
  },
  {
   "cell_type": "markdown",
   "id": "7421c5d8-2000-4520-9885-e52467e28392",
   "metadata": {},
   "source": [
    "위에 처럼 인스턴스 변수를 하나씩 설정하니 코드가 너무 길어진다. 이를 해결하기 위해서 `initialize`라는 이름의 인스턴스 메소드를 작성해보자."
   ]
  },
  {
   "cell_type": "code",
   "execution_count": 35,
   "id": "4d110b70-a63c-4c1b-bdfb-d5123619705d",
   "metadata": {},
   "outputs": [],
   "source": [
    "class User:\n",
    "    def initialize(self, name, email, password):\n",
    "        self.name = name\n",
    "        self.email = email\n",
    "        self.password = password"
   ]
  },
  {
   "cell_type": "code",
   "execution_count": 37,
   "id": "df02d9ed-2483-4fbe-b878-6043af45029e",
   "metadata": {},
   "outputs": [
    {
     "name": "stdout",
     "output_type": "stream",
     "text": [
      "Young young@example.com 123456\n",
      "Yoonsoo yoonsoo@example.com abcdef\n",
      "Taeho taeho@example.com 123abc\n",
      "Lisa lisa@example.com abc123\n"
     ]
    }
   ],
   "source": [
    "# 인스턴스를 만들고, 초기값을 설정해주는 명령\n",
    "user1 = User()\n",
    "user1.initialize(\"Young\", \"young@example.com\", \"123456\")\n",
    "user2 = User()\n",
    "user2.initialize(\"Yoonsoo\", \"yoonsoo@example.com\", \"abcdef\")\n",
    "user3 = User()\n",
    "user3.initialize(\"Taeho\", \"taeho@example.com\", \"123abc\")\n",
    "user4 = User()\n",
    "user4.initialize(\"Lisa\", \"lisa@example.com\", \"abc123\")\n",
    "\n",
    "print(user1.name, user1.email, user1.password)\n",
    "print(user2.name, user2.email, user2.password)\n",
    "print(user3.name, user3.email, user3.password)\n",
    "print(user4.name, user4.email, user4.password)"
   ]
  },
  {
   "cell_type": "markdown",
   "id": "01e68e89-ebe2-41bd-95c8-30690f9de7fa",
   "metadata": {},
   "source": [
    "## \\_\\_init\\_\\_"
   ]
  },
  {
   "cell_type": "markdown",
   "id": "289c0955-8189-4cf0-ad75-f3dfdcd773f6",
   "metadata": {},
   "source": [
    "위에서 initialize() 메소드로 초기값을 설정해주었다.\\\n",
    "파이썬에선 이럴 필요없이 클래스 안에 `__init__` 메소드를 써주면 초기값 설정을 할 수 있다.\\\n",
    "`__something__` 같은 형태, `__`로 둘러싸인 모양을 magic method 또는 special method라고 한다. 이러한 메소드는 특정 상황에서 자동으로 호출되는 메소드를 의미한다."
   ]
  },
  {
   "cell_type": "code",
   "execution_count": 39,
   "id": "0ee30670-ec8b-4919-bc4a-2e073258939e",
   "metadata": {},
   "outputs": [
    {
     "name": "stdout",
     "output_type": "stream",
     "text": [
      "Young young@example.com 123456\n",
      "Yoonsoo yoonsoo@example.com abcdef\n",
      "Taeho taeho@example.com 123abc\n",
      "Lisa lisa@example.com abc123\n"
     ]
    }
   ],
   "source": [
    "class User:\n",
    "    def __init__(self, name, email, password):\n",
    "        self.name = name\n",
    "        self.email = email\n",
    "        self.password = password\n",
    "        \n",
    "user1 = User(\"Young\", \"young@example.com\", \"123456\")\n",
    "user2 = User(\"Yoonsoo\", \"yoonsoo@example.com\", \"abcdef\")\n",
    "user3 = User(\"Taeho\", \"taeho@example.com\", \"123abc\")\n",
    "user4 = User(\"Lisa\", \"lisa@example.com\", \"abc123\")\n",
    "\n",
    "print(user1.name, user1.email, user1.password)\n",
    "print(user2.name, user2.email, user2.password)\n",
    "print(user3.name, user3.email, user3.password)\n",
    "print(user4.name, user4.email, user4.password)"
   ]
  },
  {
   "cell_type": "markdown",
   "id": "70dbb85f-ebc0-4885-a31e-7b51a47c904f",
   "metadata": {},
   "source": [
    "User(\"Young\", \"young@example.com\", \"123456\")를 실행하면\n",
    "- User 인스턴스가 생성된다.\n",
    "- 인스턴스가 생성될 때 `__init__`메소드가 자동으로 호출 된다.\n",
    "- (self, name, email, password)에서 self는 자기자신의 인스턴스, 나머진 순서대로 입력받는다.\n",
    "- 즉, init메소드를 사용하면 인스턴스 생성과 변수초기화까지 동시에 할 수 있다. 그래서 보통 클래스를 정의할 때 init메소드를 함께 작성한다."
   ]
  },
  {
   "cell_type": "markdown",
   "id": "71c6c458-98c6-4bf4-b7cc-33eaa21d07ae",
   "metadata": {},
   "source": [
    "## 실습과제\n",
    "\n",
    "회사 취직한 Jane은 User 클래스에 \"팔로우\" 기능을 추가하라는 지시를 받았습니다.\n",
    "\n",
    "팔로우 기능은 크게 2개의 동작을 해야 합니다.\n",
    "\n",
    "\"내가 팔로우하는 사람\" 목록에 그 사람을 추가하는 동작과\n",
    "상대방의 \"나를 팔로우하는 사람\" 목록에 나를 추가하는 동작\n",
    "팔로우 기능은 follow 메소드로 구현하려고 하는데요.    \n",
    "팔로우 기능을 만드는 김에\n",
    "\n",
    "follow 메소드 말고도\n",
    "유저가 팔로우하는 사람 수를 알려주는 num_following 메소드와\n",
    "유저를 팔로우하는 사람 수를 알려주는 num_followers 메소드도\n",
    "추가해봅시다.\n",
    "\n",
    "User 클래스에 이 메소드들을 모두 추가하고 나서 코드를 실행하면 아래와 같은 실행 결과가 나와야 합니다.\n",
    "\n",
    "```bash\n",
    "Young 2 2\n",
    "Yoonsoo 1 3\n",
    "Taeho 2 0\n",
    "Lisa 1 1\n",
    "```"
   ]
  },
  {
   "cell_type": "code",
   "execution_count": 41,
   "id": "3d4ff778-6023-4eaf-8959-57269e1d402c",
   "metadata": {},
   "outputs": [
    {
     "name": "stdout",
     "output_type": "stream",
     "text": [
      "Young 0 2\n",
      "Yoonsoo 0 3\n",
      "Taeho 0 0\n",
      "Lisa 0 1\n"
     ]
    }
   ],
   "source": [
    "class User:\n",
    "    # 인스턴스 변수 설정\n",
    "    def __init__(self, name, email, password):\n",
    "        self.name = name\n",
    "        self.email = email\n",
    "        self.password = password\n",
    "\n",
    "        self.following_list = []    # 이 유저가 팔로우하는 유저 리스트\n",
    "        self.followers_list = []    # 이 유저를 팔로우하는 유저 리스트\n",
    "\n",
    "    # 팔로우\n",
    "    def follow(self, another_user):\n",
    "        if another_user not in self.following_list:\n",
    "            self.following_list.append(another_user)\n",
    "        else:\n",
    "            print('이미 팔로우 중입니다.')\n",
    "\n",
    "    # 내가 몇 명을 팔로우하는지 리턴\n",
    "    def num_following(self):\n",
    "        return len(self.following_list)\n",
    "\n",
    "    # 나를 몇 명이 팔로우하는지 리턴\n",
    "    def num_followers(self):\n",
    "        return len(self.followers_list)\n",
    "\n",
    "# 유저들 생성\n",
    "user1 = User(\"Young\", \"young@codeit.kr\", \"123456\")\n",
    "user2 = User(\"Yoonsoo\", \"yoonsoo@codeit.kr\", \"abcdef\")\n",
    "user3 = User(\"Taeho\", \"taeho@codeit.kr\", \"123abc\")\n",
    "user4 = User(\"Lisa\", \"lisa@codeit.kr\", \"abc123\")\n",
    "\n",
    "# 유저마다 서로 관심 있는 유저를 팔로우\n",
    "user1.follow(user2)\n",
    "user1.follow(user3)\n",
    "user2.follow(user1)\n",
    "user2.follow(user3)\n",
    "user2.follow(user4)\n",
    "user4.follow(user1)\n",
    "\n",
    "# 유저 이름, 자신의 팔로워 수, 자신이 팔로우하는 사람 수를 출력합니다\n",
    "print(user1.name, user1.num_followers(), user1.num_following())\n",
    "print(user2.name, user2.num_followers(), user2.num_following())\n",
    "print(user3.name, user3.num_followers(), user3.num_following())\n",
    "print(user4.name, user4.num_followers(), user4.num_following())"
   ]
  },
  {
   "cell_type": "markdown",
   "id": "b9573cd3-7079-4e85-870a-c3dcf31966eb",
   "metadata": {},
   "source": [
    "## \\_\\_str\\_\\_\n",
    "- print함수로 호출할 때 자동으로 호출되어 리턴해주는 메소드"
   ]
  },
  {
   "cell_type": "code",
   "execution_count": 43,
   "id": "cc68b5b2-eca3-47f2-b57b-016f31d9189b",
   "metadata": {},
   "outputs": [],
   "source": [
    "class User:\n",
    "    def __init__(self, name, email, pw):\n",
    "        self.name = name\n",
    "        self.email = email\n",
    "        self.pw = pw\n",
    "        \n",
    "    def say_hello(self):\n",
    "        print(f'안녕하세요. 저는 {self.name}입니다.')\n",
    "        \n",
    "    def __str__(self):\n",
    "        return f'사용자 : {self.name}, 이메일 : {self.email}, 비밀번호: *******'"
   ]
  },
  {
   "cell_type": "code",
   "execution_count": 44,
   "id": "6b2abeb8-ea01-40e5-a5cf-99624dc03394",
   "metadata": {},
   "outputs": [
    {
     "name": "stdout",
     "output_type": "stream",
     "text": [
      "사용자 : 제이제이, 이메일 : jj@example.com, 비밀번호: *******\n",
      "사용자 : 케이케이, 이메일 : kk@example.com, 비밀번호: *******\n"
     ]
    }
   ],
   "source": [
    "user1  = User('제이제이', 'jj@example.com', '123456')\n",
    "user2 = User('케이케이', 'kk@example.com', '1q2w3e4r')\n",
    "\n",
    "print(user1)\n",
    "print(user2)"
   ]
  },
  {
   "cell_type": "code",
   "execution_count": null,
   "id": "aa78cba6-c90b-45a5-828b-252fb9784de8",
   "metadata": {},
   "outputs": [],
   "source": []
  }
 ],
 "metadata": {
  "kernelspec": {
   "display_name": "Python3 BASE",
   "language": "python",
   "name": "python3"
  },
  "language_info": {
   "codemirror_mode": {
    "name": "ipython",
    "version": 3
   },
   "file_extension": ".py",
   "mimetype": "text/x-python",
   "name": "python",
   "nbconvert_exporter": "python",
   "pygments_lexer": "ipython3",
   "version": "3.9.12"
  }
 },
 "nbformat": 4,
 "nbformat_minor": 5
}
