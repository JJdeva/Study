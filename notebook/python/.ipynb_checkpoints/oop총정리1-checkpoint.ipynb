{
 "cells": [
  {
   "cell_type": "markdown",
   "id": "c311b273-3114-44c8-8f44-6a35cd0afc54",
   "metadata": {},
   "source": [
    "# OOP\n",
    "OOP (Object-Oriented Programming)"
   ]
  },
  {
   "cell_type": "markdown",
   "id": "618115bd-3542-48a3-8d53-522e735155ce",
   "metadata": {},
   "source": [
    "- 객체지향 프로그래밍\n",
    "- 데이터 처리를 하는 메소드들을 하나의 프로그램으로 설계해서 연동하는 객체(object)를 중심으로 프로그램을 짜는 언어를 말함\n",
    "- 파이썬은 대화식(interactive) 인터프리터(interpreter) 객체 지향(object oriented) 프로그래밍 언어\n",
    "- 파이썬의 모든 것은 객체다."
   ]
  },
  {
   "cell_type": "markdown",
   "id": "ebf97be8-3bbe-4a26-9905-6e02e0b2c6eb",
   "metadata": {},
   "source": [
    "## 클래스와 객체란?"
   ]
  },
  {
   "cell_type": "markdown",
   "id": "ebcf6b8b-0c4b-44ea-99fd-7f3842919bb3",
   "metadata": {},
   "source": [
    "- 클래스는 객체 지향 프로그램의 기본적인 사용자 정의 데이터형(user defined data type)\n",
    "- 클래스는 객체를 정의한 것으로 실세계에서 존재하는 사물이나 개념의 속성과 기능을 모델링해서 추상화시키는 과정을 말함\n",
    "- 객체는 자신 고유의 속성(attribute)을 가지며 클래스에서 정의한 행위(behavior)를 수행할 수 있음\n",
    "- 객체의 행위는 클래스에 정의된 행위에 대한 정의를 공유함으로써 메모리를 경제적으로 사용한다.\n",
    "- 객체는 클래스의 인스턴스이며 정의된 클래스를 사용해서 실제로 메모리에 생성되어 메모리에 로딩된 상태를 말한다.\n",
    "- 객체는 클래스의 타입으로 선언되었을 때를 의미하는 것이고, 그 객체 메모리에 할당되어 실제 사용될 때 인스턴스라고 한다."
   ]
  },
  {
   "cell_type": "markdown",
   "id": "102757f5-17e3-470d-8284-58edb60ffdfa",
   "metadata": {},
   "source": [
    "## 구조\n",
    "- 객체 = 속성(attributes) + 행위(behaviors)\n",
    "- 클래스 = 변수(variables) + 메소드(methods)"
   ]
  },
  {
   "cell_type": "markdown",
   "id": "55310851-6faa-4aaf-adc1-7abf420ffd23",
   "metadata": {},
   "source": [
    "- 객체는 멤버 변수를 가지고 있으면서 그들의 동작을 수행하는 함수들을 가진다. 이 함수들을 메소드라 부른다.\n",
    "- 메소드는 객체를 사용하기 위해 필요한 모든 이벤트들을 처리하는 함수다."
   ]
  },
  {
   "cell_type": "code",
   "execution_count": null,
   "id": "2784b9bf-f8b1-4783-9fba-9d4d3c7d8365",
   "metadata": {},
   "outputs": [],
   "source": []
  },
  {
   "cell_type": "code",
   "execution_count": null,
   "id": "228c9a7f-4b72-42e6-9bbd-51e9352b6b5f",
   "metadata": {},
   "outputs": [],
   "source": []
  },
  {
   "cell_type": "code",
   "execution_count": null,
   "id": "41d65fa2-5303-4cb5-be92-ffdaab6dde18",
   "metadata": {},
   "outputs": [],
   "source": []
  },
  {
   "cell_type": "code",
   "execution_count": null,
   "id": "1eea8b0c-b778-44f0-9af2-62a3f4d18a8d",
   "metadata": {},
   "outputs": [],
   "source": []
  },
  {
   "cell_type": "markdown",
   "id": "f654d0c1-bde6-4138-97c9-08dc24ab1a98",
   "metadata": {},
   "source": [
    "OOP 특징\n",
    "- 클래스 : 사용자 자료형 (변수 + 메소드)\n",
    "- 캡슐화 : 은닉된 멤버변수에게 오픈된 메소드가 값 전달 및 변경하는 구조\n",
    "- 상속 : 클래스의 기능을 확장, 선조클래스가 1개일 때는 단일상속, 1more(+)일 때 다중상속\n",
    "    - 정규패턴 (`+`: 1more(1개 또는 여러개) / `*` : 0more(없거나 여러개거나), `...` : 0more)\n",
    "- 다형성 : 다양한 형태의 설질로 이루어진 클래스의 동적 바인딩 구조"
   ]
  },
  {
   "cell_type": "markdown",
   "id": "74d02ca5-92dd-4e6a-b212-dfe16d44b4a3",
   "metadata": {},
   "source": [
    "자료형 선언 -> 객체 생성 -> 멤버 호출"
   ]
  },
  {
   "cell_type": "markdown",
   "id": "ec867460-e8ca-4822-9064-4541a71b7c5d",
   "metadata": {},
   "source": [
    "class 선언\n",
    "```python\n",
    "class 클래스이름(상속클래스명):\n",
    "    <클래스 변수 선언>\n",
    "    def 클래스함수(self, ...):\n",
    "        <수행할 문장>\n",
    "```\n",
    "클래스 내부에 선언되는 매개인자는 첫번째 자리에 self(자기 자신)를 쓴다."
   ]
  },
  {
   "cell_type": "markdown",
   "id": "80e04f7d-f939-4de1-b9a2-ac7aa2917062",
   "metadata": {},
   "source": [
    "1. 자료형, 클래스 선언\n",
    "    - 값을 받아서 저장하고 추가하는 클래스를 만들려고 한다.\n",
    "    - 값을 받아 저장하는 멤버를 가진 메소드를 empty()라고 하고 값을 받아 추가하는 메소드를 add()라고 명명하자"
   ]
  },
  {
   "cell_type": "code",
   "execution_count": 1,
   "id": "c44d7932-146f-49fb-9e89-d334e6994eff",
   "metadata": {},
   "outputs": [],
   "source": [
    "# 기본적으로 object클래스를 기본상속 받는다.\n",
    "class Test: # class Test(object): 와 동일\n",
    "    def empty(self):\n",
    "        self.data = []\n",
    "    def add(self, x):\n",
    "        self.data.append(x)"
   ]
  },
  {
   "cell_type": "markdown",
   "id": "cceba23c-2acb-4380-8200-165447cf3162",
   "metadata": {},
   "source": [
    "2. 객체 생성\n",
    "    - Test 클래스가 선언 및 정의가 되면 클래스 객체 생성을 통한 인스턴스를 만든다.\n",
    "    - `클래스 변수 = 클래스명()` -> 생성자를 호출하면서 객체를 생성"
   ]
  },
  {
   "cell_type": "markdown",
   "id": "9b2bfc2c-fee3-4040-b5c7-fc35df981a25",
   "metadata": {},
   "source": [
    "my01의 변수에 Test라는 클래스의 객체를 생성하게 되면 메모리에 Test 클래스와 같은 자료형이 생성되어 메모리에 공간이 확보되고, 확보된 공간의 주소가 my01에 할당 연산자를 통해 대입되어 참조된다.\\\n",
    "my02의 변수에 Test라는 클래스의 객체를 생성하게 되면 메모리에 Test 클래스와 같은 자료형이 생성되어 메모리에 공간이 확보되고, 확보된 공간의 주소가 my01에 할당 연산자를 통해 대입되어 참조된다."
   ]
  },
  {
   "cell_type": "code",
   "execution_count": 3,
   "id": "3a52d3db-7273-469c-81f8-d4a692fe28b1",
   "metadata": {},
   "outputs": [],
   "source": [
    "my01 = Test()\n",
    "my02 = Test()"
   ]
  },
  {
   "cell_type": "markdown",
   "id": "fe532b2c-712e-42d4-9fab-5c5f3ccc0c96",
   "metadata": {},
   "source": [
    "3. 멤버 호출\n",
    "    - my01.empty()\n",
    "    - my02.empty()"
   ]
  },
  {
   "cell_type": "code",
   "execution_count": 5,
   "id": "d87f643c-a794-42c8-a974-4dfb7abd0672",
   "metadata": {},
   "outputs": [],
   "source": [
    "# 빈 리스트를 생성\n",
    "my01.empty()\n",
    "my02.empty()"
   ]
  },
  {
   "cell_type": "code",
   "execution_count": 6,
   "id": "7d19ea64-931e-4e0a-b11d-4e439b9b2b51",
   "metadata": {},
   "outputs": [
    {
     "name": "stdout",
     "output_type": "stream",
     "text": [
      "[1, 2, 3, 4, 5]\n",
      "[]\n"
     ]
    }
   ],
   "source": [
    "for i in range(1,6):\n",
    "    my01.add(i)\n",
    "print(my01.data)\n",
    "print(my02.data)"
   ]
  },
  {
   "cell_type": "code",
   "execution_count": 7,
   "id": "487773ec-cac4-4c55-a405-f37d20325da3",
   "metadata": {},
   "outputs": [
    {
     "name": "stdout",
     "output_type": "stream",
     "text": [
      "<__main__.Test object at 0x107824f70>\n",
      "<__main__.Test object at 0x1078249a0>\n",
      "4420947824\n",
      "4420946336\n"
     ]
    }
   ],
   "source": [
    "print(my01)\n",
    "print(my02)\n",
    "print(id(my01))\n",
    "print(id(my02))"
   ]
  },
  {
   "cell_type": "code",
   "execution_count": null,
   "id": "cc7ea803-e385-4af8-8a83-e6a3878e851e",
   "metadata": {},
   "outputs": [],
   "source": []
  }
 ],
 "metadata": {
  "kernelspec": {
   "display_name": "Python3 BASE",
   "language": "python",
   "name": "python3"
  },
  "language_info": {
   "codemirror_mode": {
    "name": "ipython",
    "version": 3
   },
   "file_extension": ".py",
   "mimetype": "text/x-python",
   "name": "python",
   "nbconvert_exporter": "python",
   "pygments_lexer": "ipython3",
   "version": "3.9.12"
  }
 },
 "nbformat": 4,
 "nbformat_minor": 5
}
