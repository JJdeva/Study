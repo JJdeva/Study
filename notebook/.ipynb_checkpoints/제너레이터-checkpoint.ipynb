{
 "cells": [
  {
   "cell_type": "markdown",
   "id": "40f53a82-067c-458f-b650-4448dae782d8",
   "metadata": {},
   "source": [
    "# 제너레이터(generator)"
   ]
  },
  {
   "cell_type": "markdown",
   "id": "24876e9a-cdce-410a-9ffe-33891f01d7ff",
   "metadata": {},
   "source": [
    "## 메모리 효율이 높은 이터러블 객체\n",
    "- 리스트나 튜플처럼 for 문에서 사용할 수 있는 <u>이터러블 객체</u>\n",
    "- 리스트나 튜플은 모든 요소를 메모리에 유지하기 때문에 요소가 많아질수록 메모리 사용량이 커지는 단점이 있음\n",
    "- 제너레이터는 다음 요소가 필요한 순간에 새로운 요소를 생성해서 리턴한다.\n",
    "- 즉, <u>요소 수와 관계없이 메모리 사용량을 적게 유지함</u>"
   ]
  },
  {
   "cell_type": "markdown",
   "id": "0637fe1b-049f-4e17-8e4f-7a946f87f9b9",
   "metadata": {},
   "source": [
    "## 예시\n",
    "값을 계속해서 무한히 반환하는 제너레이터 `inf`를 만들어보자.\n",
    "- 특징은 `yield` 식이 있고 이게 제너레이터의 표시다.\n",
    "- 무한히 반환하는 이 작업은 모든 요소를 메모리에 저장하는 리스트나 튜플로는 불가능하다.<br>무한개의 요소를 가지고 있는 리스트나 튜플을 만들 수 없기에"
   ]
  },
  {
   "cell_type": "code",
   "execution_count": 1,
   "id": "3006b0e0-7762-48d2-b91a-32bf7c0d46f6",
   "metadata": {},
   "outputs": [],
   "source": [
    "def inf(n):\n",
    "    while True:\n",
    "        yield n"
   ]
  },
  {
   "cell_type": "code",
   "execution_count": 2,
   "id": "3bd96cd9-c6fb-4269-96f7-6c16dd5954fb",
   "metadata": {},
   "outputs": [],
   "source": [
    "# for i in inf(3):\n",
    "#     print(i)"
   ]
  },
  {
   "cell_type": "markdown",
   "id": "c69a5baf-0ee5-4d66-a100-5dd3f2c62efe",
   "metadata": {},
   "source": [
    "# 구현"
   ]
  },
  {
   "cell_type": "markdown",
   "id": "e9e76113-dd6b-418f-964f-ad447fd9b896",
   "metadata": {},
   "source": [
    "## 1. 제너레이터 함수\n",
    "함수처럼 구현하면되는데 return 대신 yield를 쓴다."
   ]
  },
  {
   "cell_type": "code",
   "execution_count": 3,
   "id": "ae75614d-444c-4119-bc30-59ba370d3a6b",
   "metadata": {},
   "outputs": [],
   "source": [
    "def gen_function(n):\n",
    "    print('start')\n",
    "    while n:\n",
    "        print(f'yield: {n}')\n",
    "        yield n\n",
    "        n -= 1"
   ]
  },
  {
   "cell_type": "code",
   "execution_count": 9,
   "id": "90c46b7b-859f-40b8-8d60-e5ca120df867",
   "metadata": {},
   "outputs": [
    {
     "data": {
      "text/plain": [
       "<generator object gen_function at 0x103e61eb0>"
      ]
     },
     "execution_count": 9,
     "metadata": {},
     "output_type": "execute_result"
    }
   ],
   "source": [
    "gen = gen_function(3)\n",
    "gen"
   ]
  },
  {
   "cell_type": "markdown",
   "id": "770ffcc6-6f32-47fe-8407-3c7a1f53d3ed",
   "metadata": {},
   "source": [
    "제너레이터 함수의 리턴값은 **제너레이터 이터레이터(generator-iterator)** 라 불리는 **이터레이터(iterator)** 이다."
   ]
  },
  {
   "cell_type": "code",
   "execution_count": 10,
   "id": "dedba199-fb1e-407a-9557-e23c22c557bf",
   "metadata": {},
   "outputs": [
    {
     "name": "stdout",
     "output_type": "stream",
     "text": [
      "start\n",
      "yield: 3\n"
     ]
    },
    {
     "data": {
      "text/plain": [
       "3"
      ]
     },
     "execution_count": 10,
     "metadata": {},
     "output_type": "execute_result"
    }
   ],
   "source": [
    "next(gen)"
   ]
  },
  {
   "cell_type": "markdown",
   "id": "6c4f2b13-a517-4918-97ca-1a345b761e9c",
   "metadata": {},
   "source": [
    "위의 함수에 yield n까지만 실행되고 대기, 다음에 호출하면 n-=1을 실행하고 다시 yield까지 실행"
   ]
  },
  {
   "cell_type": "code",
   "execution_count": 11,
   "id": "0933c163-dfde-479f-a325-11fcf9fa1d96",
   "metadata": {},
   "outputs": [
    {
     "name": "stdout",
     "output_type": "stream",
     "text": [
      "yield: 2\n"
     ]
    },
    {
     "data": {
      "text/plain": [
       "2"
      ]
     },
     "execution_count": 11,
     "metadata": {},
     "output_type": "execute_result"
    }
   ],
   "source": [
    "next(gen)"
   ]
  },
  {
   "cell_type": "code",
   "execution_count": 12,
   "id": "899788e5-317e-443f-aeda-a584f472e7d1",
   "metadata": {},
   "outputs": [
    {
     "name": "stdout",
     "output_type": "stream",
     "text": [
      "yield: 1\n"
     ]
    },
    {
     "data": {
      "text/plain": [
       "1"
      ]
     },
     "execution_count": 12,
     "metadata": {},
     "output_type": "execute_result"
    }
   ],
   "source": [
    "next(gen)"
   ]
  },
  {
   "cell_type": "code",
   "execution_count": 13,
   "id": "cb10193c-4324-438e-aaca-a87715596054",
   "metadata": {},
   "outputs": [
    {
     "ename": "StopIteration",
     "evalue": "",
     "output_type": "error",
     "traceback": [
      "\u001b[0;31m---------------------------------------------------------------------------\u001b[0m",
      "\u001b[0;31mStopIteration\u001b[0m                             Traceback (most recent call last)",
      "Input \u001b[0;32mIn [13]\u001b[0m, in \u001b[0;36m<cell line: 1>\u001b[0;34m()\u001b[0m\n\u001b[0;32m----> 1\u001b[0m \u001b[38;5;28;43mnext\u001b[39;49m\u001b[43m(\u001b[49m\u001b[43mgen\u001b[49m\u001b[43m)\u001b[49m\n",
      "\u001b[0;31mStopIteration\u001b[0m: "
     ]
    }
   ],
   "source": [
    "next(gen)"
   ]
  },
  {
   "cell_type": "markdown",
   "id": "ff45aadb-a294-4f9d-81c2-b4fad3df9c69",
   "metadata": {},
   "source": [
    "- 이터레이터는 스페셜 메소드 `__next()__` 호출 시마다 함수 안의 처리가 다음 yield식까지 수행된다.\n",
    "- 호출자(여기선 next())에게 yield식에 전달한 값을 반환하고, 그 시점에서의 상태를 유지한 채 다음 행에서 처리를 중지함\n",
    "- 계속 `__next__()`가 호출되면 다음 행부터 처리를 시작하고 함수를 벗어나면 StopIteration 예외를 발생시킴"
   ]
  },
  {
   "cell_type": "markdown",
   "id": "a694941c-3c5a-4b97-84ce-50ab8ce2e07e",
   "metadata": {},
   "source": [
    "제너레이터 함수는 이터레이터를 반환하므로 for문, 컴프리헨션, 인수에 이터러블을 받는 함수 등에 사용할 수 있다."
   ]
  },
  {
   "cell_type": "code",
   "execution_count": 14,
   "id": "a74d32b0-6acf-4021-ae19-6446e2bde6d8",
   "metadata": {},
   "outputs": [
    {
     "name": "stdout",
     "output_type": "stream",
     "text": [
      "start\n",
      "yield: 3\n",
      "3\n",
      "yield: 2\n",
      "2\n",
      "yield: 1\n",
      "1\n"
     ]
    }
   ],
   "source": [
    "# for문에 사용\n",
    "for i in gen_function(3):\n",
    "    print(i)"
   ]
  },
  {
   "cell_type": "code",
   "execution_count": 16,
   "id": "24f966f4-c175-4147-8763-e696f5d50e00",
   "metadata": {},
   "outputs": [
    {
     "name": "stdout",
     "output_type": "stream",
     "text": [
      "start\n",
      "yield: 3\n",
      "yield: 2\n",
      "yield: 1\n"
     ]
    },
    {
     "data": {
      "text/plain": [
       "[3, 2, 1]"
      ]
     },
     "execution_count": 16,
     "metadata": {},
     "output_type": "execute_result"
    }
   ],
   "source": [
    "# 컴프리헨션에 사용\n",
    "[i for i in gen_function(3)]"
   ]
  },
  {
   "cell_type": "code",
   "execution_count": 17,
   "id": "4cf4a840-1354-4909-9473-b2b3b6505f7f",
   "metadata": {},
   "outputs": [
    {
     "name": "stdout",
     "output_type": "stream",
     "text": [
      "start\n",
      "yield: 5\n",
      "yield: 4\n",
      "yield: 3\n",
      "yield: 2\n",
      "yield: 1\n"
     ]
    },
    {
     "data": {
      "text/plain": [
       "5"
      ]
     },
     "execution_count": 17,
     "metadata": {},
     "output_type": "execute_result"
    }
   ],
   "source": [
    "# 이터러블을 받는 함수에 사용\n",
    "max(gen_function(5))"
   ]
  },
  {
   "cell_type": "markdown",
   "id": "0c4ecc0d-c66f-47df-98e6-a6096733cce5",
   "metadata": {},
   "source": [
    "## 2. 제너레이터 식"
   ]
  },
  {
   "cell_type": "markdown",
   "id": "5bfb47a0-e694-4c23-acc7-1c54e9701891",
   "metadata": {},
   "source": [
    "리스트나 튜플 등의 이터러블을 컴프리헨션을 이용해 제너레이터를 만들 수 있음<br>\n",
    "이를 제너레이터 식이라 부르며 정의 방법은 리스트컴프리헨션과 같으나 ()를 씀"
   ]
  },
  {
   "cell_type": "code",
   "execution_count": 20,
   "id": "c4fbe45e-fa37-4ae5-af83-bf47db9ede1c",
   "metadata": {},
   "outputs": [
    {
     "name": "stdout",
     "output_type": "stream",
     "text": [
      "[1, 2, 3, 4, 5]\n",
      "<generator object <genexpr> at 0x1049b29e0>\n"
     ]
    }
   ],
   "source": [
    "x = [1,2,3,4,5]\n",
    "\n",
    "# 리스트 컴프리헨션\n",
    "# 모든 요소가 메모리에 저장됨\n",
    "x_list = [i for i in x]\n",
    "print(x_list)\n",
    "\n",
    "# 제너레이터 객체를 반환함\n",
    "x_gen = (i for i in x)\n",
    "print(x_gen)"
   ]
  },
  {
   "cell_type": "markdown",
   "id": "d21d5e7f-1967-45a7-ad20-5fa5b106f6d9",
   "metadata": {},
   "source": [
    "리스트를 만들면 제너레이터의 마지막 요소까지 적용해 리스트를 생성"
   ]
  },
  {
   "cell_type": "code",
   "execution_count": 21,
   "id": "783788f1-b2be-42c6-b736-8cc3fc627368",
   "metadata": {},
   "outputs": [
    {
     "data": {
      "text/plain": [
       "[1, 2, 3, 4, 5]"
      ]
     },
     "execution_count": 21,
     "metadata": {},
     "output_type": "execute_result"
    }
   ],
   "source": [
    "list(x_gen)"
   ]
  },
  {
   "cell_type": "markdown",
   "id": "339222f4-c46a-41c9-ae9c-de0ef9eed747",
   "metadata": {},
   "source": [
    "함수 호출 시 전달한 아규먼트가 제너레이터 식 하나면 컴프리헨션의 ()를 생략할 수 있음"
   ]
  },
  {
   "cell_type": "code",
   "execution_count": 23,
   "id": "893a1449-7e4e-428c-a0a9-ab9b6c192a15",
   "metadata": {},
   "outputs": [
    {
     "data": {
      "text/plain": [
       "6"
      ]
     },
     "execution_count": 23,
     "metadata": {},
     "output_type": "execute_result"
    }
   ],
   "source": [
    "max(i+1 for i in x) # max((i+1 for i in x))와 같음"
   ]
  },
  {
   "cell_type": "markdown",
   "id": "83da2e2f-1800-465e-8234-9dcf023b6d6e",
   "metadata": {},
   "source": [
    "## 3. yield from 식"
   ]
  },
  {
   "cell_type": "markdown",
   "id": "7dccc412-acff-401f-b773-961ba5d47efe",
   "metadata": {},
   "source": [
    "제너레이터의 내부에서 추가로 제너레이터를 만들 때 사용"
   ]
  },
  {
   "cell_type": "markdown",
   "id": "364723a2-2050-407e-9c72-7ff92db06d0c",
   "metadata": {},
   "source": [
    "예시) 이터러블 안의 이터러블을 변환하는 제너레이터를 만들어보자"
   ]
  },
  {
   "cell_type": "code",
   "execution_count": 24,
   "id": "e692ae11-597a-452b-ae31-df5b35a54f8c",
   "metadata": {},
   "outputs": [
    {
     "data": {
      "text/plain": [
       "['c', 'o', 'd', 'i', 'n', 'g', 'f', 'u', 'n']"
      ]
     },
     "execution_count": 24,
     "metadata": {},
     "output_type": "execute_result"
    }
   ],
   "source": [
    "def chain(iterables):\n",
    "    for iterable in iterables:\n",
    "        for v in iterable:\n",
    "            yield v\n",
    "            \n",
    "iterables = ('coding', 'fun')\n",
    "list(chain(iterables))"
   ]
  },
  {
   "cell_type": "markdown",
   "id": "96f04b6c-e89e-4faa-81d5-a2f4d84adacc",
   "metadata": {},
   "source": [
    "위에 함수를 yield from 식을 조합해 제너레이터 식으로 치환할 수 있음"
   ]
  },
  {
   "cell_type": "code",
   "execution_count": 25,
   "id": "046e15fe-061b-4b88-89a2-615e8cf3a9b6",
   "metadata": {},
   "outputs": [
    {
     "data": {
      "text/plain": [
       "['c', 'o', 'd', 'i', 'n', 'g', 'f', 'u', 'n']"
      ]
     },
     "execution_count": 25,
     "metadata": {},
     "output_type": "execute_result"
    }
   ],
   "source": [
    "def chain(iterables):\n",
    "    for iterable in iterables:\n",
    "        yield from (v for v in iterable)\n",
    "        \n",
    "list(chain(iterables))"
   ]
  },
  {
   "cell_type": "code",
   "execution_count": null,
   "id": "0c2264de-3de3-485e-afe0-758d0d9531f1",
   "metadata": {},
   "outputs": [],
   "source": []
  }
 ],
 "metadata": {
  "kernelspec": {
   "display_name": "Python3 BASE",
   "language": "python",
   "name": "python3"
  },
  "language_info": {
   "codemirror_mode": {
    "name": "ipython",
    "version": 3
   },
   "file_extension": ".py",
   "mimetype": "text/x-python",
   "name": "python",
   "nbconvert_exporter": "python",
   "pygments_lexer": "ipython3",
   "version": "3.9.12"
  }
 },
 "nbformat": 4,
 "nbformat_minor": 5
}
