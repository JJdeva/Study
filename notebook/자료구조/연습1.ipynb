{
 "cells": [
  {
   "cell_type": "markdown",
   "id": "6f9391f5-13c6-43a2-84d0-678ad4c16eaf",
   "metadata": {},
   "source": [
    "## Binary tree"
   ]
  },
  {
   "cell_type": "code",
   "execution_count": 3,
   "id": "20ee1124-2915-47b3-8fd7-29f8a73049cd",
   "metadata": {},
   "outputs": [],
   "source": [
    "# 노드 클래스\n",
    "class Node:\n",
    "    def __init__(self, value):\n",
    "        self.value = value\n",
    "        self.left = None # 노드의 왼쪽\n",
    "        self.right = None # 노드의 오른쪽"
   ]
  },
  {
   "cell_type": "code",
   "execution_count": 4,
   "id": "9f26ac12-f119-408b-9edd-9893bf54a069",
   "metadata": {},
   "outputs": [],
   "source": [
    "# 노드 관리 클래스\n",
    "class NodeMgmt:\n",
    "    def __init__(self, head):\n",
    "        self.head = head # 맨처음은 root 노드\n",
    "        \n",
    "    def insert(self, value):\n",
    "        self.current_node = self.head # 순회할 현재 노드\n",
    "        while True:\n",
    "            if value < self.current_node.value"
   ]
  },
  {
   "cell_type": "code",
   "execution_count": null,
   "id": "1210398c-67c9-425c-98a0-ece097c608e7",
   "metadata": {},
   "outputs": [],
   "source": []
  }
 ],
 "metadata": {
  "kernelspec": {
   "display_name": "Python3 BASE",
   "language": "python",
   "name": "python3"
  },
  "language_info": {
   "codemirror_mode": {
    "name": "ipython",
    "version": 3
   },
   "file_extension": ".py",
   "mimetype": "text/x-python",
   "name": "python",
   "nbconvert_exporter": "python",
   "pygments_lexer": "ipython3",
   "version": "3.9.12"
  }
 },
 "nbformat": 4,
 "nbformat_minor": 5
}
