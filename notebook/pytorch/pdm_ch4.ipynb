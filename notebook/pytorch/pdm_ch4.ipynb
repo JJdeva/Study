{
 "cells": [
  {
   "cell_type": "code",
   "execution_count": null,
   "id": "12dd6429-7bcc-4214-bd8c-54425725d54b",
   "metadata": {},
   "outputs": [],
   "source": []
  }
 ],
 "metadata": {
  "kernelspec": {
   "display_name": "pytorch1.13 [conda env:torch113]",
   "language": "python",
   "name": "conda-env-torch113-py"
  },
  "language_info": {
   "codemirror_mode": {
    "name": "ipython",
    "version": 3
   },
   "file_extension": ".py",
   "mimetype": "text/x-python",
   "name": "python",
   "nbconvert_exporter": "python",
   "pygments_lexer": "ipython3",
   "version": "3.9.12"
  }
 },
 "nbformat": 4,
 "nbformat_minor": 5
}
