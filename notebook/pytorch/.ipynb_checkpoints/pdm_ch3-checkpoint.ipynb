{
 "cells": [
  {
   "cell_type": "markdown",
   "id": "d51f2730-e068-4e51-b666-564a04eeffba",
   "metadata": {},
   "source": [
    "# 3. 텐서 구조체"
   ]
  },
  {
   "cell_type": "markdown",
   "id": "916b6bc5-1b3c-479c-b676-a0a8acccc6bd",
   "metadata": {},
   "source": [
    "## 3.1 부동소수점 수의 세계"
   ]
  },
  {
   "cell_type": "markdown",
   "id": "e49df6c3-ef1b-4284-b892-308e5baf140e",
   "metadata": {},
   "source": [
    "- 신경망 안에서의 정보 처리는 결국 부동소수점 수로 나타냄\n",
    "- 그렇기에 실세계의 데이터를 신경망이 연산 가능하도록 인코딩 해야 함\n",
    "- 또 연산 후 사람이 이해할 수 있게 디코딩해야함"
   ]
  },
  {
   "cell_type": "markdown",
   "id": "a7e06e14-11cb-4bae-8eb2-f1e6f028bd1f",
   "metadata": {},
   "source": [
    "신경망의 중간 단계는 입력값의 특징을 잡고 부동소수점 수의 모음인 동시에 신경망에서 입력이 최종적으로 출력으로 표현되는 방법을 기술하기 위한 수단으로 데이터 구조를 잡아낸다.\\\n",
    "중간 표현값은 부동소수점 수로 이루어져 있고 입력을 특징짓는 동시에 데이터 구조를 잡아내어 신경망 출력과 어떻게 매핑되는지를 설명하는 데 중요한 역할을 한다."
   ]
  },
  {
   "cell_type": "markdown",
   "id": "baad2100-e811-4c25-97eb-eee44753d2cf",
   "metadata": {},
   "source": [
    "중간 표현값은 입력과 이전 층의 뉴런이 가진 가중치를 조합한 결과임"
   ]
  },
  {
   "cell_type": "markdown",
   "id": "ffe681de-5648-4ed1-962f-c4137966c135",
   "metadata": {},
   "source": [
    "파이토치에서는 데이터 처리와 저장을 위해 텐서(tensor)라는 기본 자료구조를 제공함\\\n",
    "또는 다차원 배열(multidimensional array)라고도 부른다."
   ]
  },
  {
   "cell_type": "markdown",
   "id": "c9d5b3df-64bb-4196-aea5-d85d52c2e33e",
   "metadata": {},
   "source": [
    "넘파이 배열과 다른점은 GPU 성능 최적화나 분산 실행, 연산 그래프 추적등의 기능을 추가적으로 제공한다."
   ]
  },
  {
   "cell_type": "markdown",
   "id": "ca61f279-bfb1-404a-893c-450d1277c971",
   "metadata": {},
   "source": [
    "부동소수점이란 : https://hellvelopment.tistory.com/66"
   ]
  },
  {
   "cell_type": "markdown",
   "id": "55754412-f465-4fb0-a41a-cfd3cd26aa00",
   "metadata": {},
   "source": [
    "이번장에서 다룰 내용\n",
    "- 파이토치 텐서 라이브러리(텐서API)\n",
    "- 텐서 조작 방법\n",
    "- 데이터가 저장되는 메모리\n",
    "- 엄청 큰 텐서에 대해 특정 연산을 어떻게 상수 시간안에 수행하는지\n",
    "- 넘파이와 연동\n",
    "- GPU 가속 기능"
   ]
  },
  {
   "cell_type": "markdown",
   "id": "4eb04ce9-8a21-4d24-bd4a-459818ed1d15",
   "metadata": {},
   "source": [
    "## 3.2 텐서: 다차원 배열"
   ]
  },
  {
   "cell_type": "markdown",
   "id": "8248deac-041e-47e5-b2c7-1a04db8c269a",
   "metadata": {},
   "source": [
    "### 3.2.1 파이썬 리스트에서 파이토치 텐서로\n",
    "- 파이썬 리스트를 이용해 배열을 만들 수 있음\n",
    "- 리스트 인덱싱, 슬라이싱으로 특정 값을 가져올 수 있음\n",
    "- 리스트보다 텐서를 이용하는게 이미지, 시계열 데이터, 시퀀스데이터 다룰 때 더 효율적임"
   ]
  },
  {
   "cell_type": "code",
   "execution_count": 2,
   "id": "88636478-323f-46d8-aa04-a156788d53e7",
   "metadata": {},
   "outputs": [
    {
     "data": {
      "text/plain": [
       "1.0"
      ]
     },
     "execution_count": 2,
     "metadata": {},
     "output_type": "execute_result"
    }
   ],
   "source": [
    "a = [1.0, 2.0, 1.0]\n",
    "a[0]"
   ]
  },
  {
   "cell_type": "markdown",
   "id": "8e5ea814-bd9c-4948-aada-a991d6e85884",
   "metadata": {},
   "source": [
    "### 3.2.2 첫 텐서 만들어보기"
   ]
  },
  {
   "cell_type": "code",
   "execution_count": 3,
   "id": "78a7da1a-4c3b-4440-87f3-0d6c71625056",
   "metadata": {},
   "outputs": [],
   "source": [
    "import torch"
   ]
  },
  {
   "cell_type": "code",
   "execution_count": 5,
   "id": "d24d3de8-8b88-4db0-a654-3494eab53ef1",
   "metadata": {},
   "outputs": [
    {
     "data": {
      "text/plain": [
       "tensor([1., 1., 1.])"
      ]
     },
     "execution_count": 5,
     "metadata": {},
     "output_type": "execute_result"
    }
   ],
   "source": [
    "# 값이 1인 크기3인 텐서 생성\n",
    "a = torch.ones(3)\n",
    "a"
   ]
  },
  {
   "cell_type": "code",
   "execution_count": 6,
   "id": "9f7d1b55-da77-4ed5-b4ac-1152b5cbd237",
   "metadata": {},
   "outputs": [
    {
     "data": {
      "text/plain": [
       "tensor(1.)"
      ]
     },
     "execution_count": 6,
     "metadata": {},
     "output_type": "execute_result"
    }
   ],
   "source": [
    "# 텐서 인덱싱\n",
    "a[1]"
   ]
  },
  {
   "cell_type": "code",
   "execution_count": 8,
   "id": "c9fc86a2-109c-452e-aad5-d18a415c737e",
   "metadata": {},
   "outputs": [
    {
     "data": {
      "text/plain": [
       "tensor([1., 1., 3.])"
      ]
     },
     "execution_count": 8,
     "metadata": {},
     "output_type": "execute_result"
    }
   ],
   "source": [
    "# 인덱스로 텐서 값 변경\n",
    "a[2] = 3\n",
    "a"
   ]
  },
  {
   "cell_type": "markdown",
   "id": "96a3c464-1c91-414d-8bc5-7fadf4fd976e",
   "metadata": {},
   "source": [
    "겉으로 보기엔 리스트와 동일하나 내부 동작은 완전 다르다."
   ]
  },
  {
   "cell_type": "markdown",
   "id": "03a9ea3c-f8e7-49cd-958b-a66c1428f773",
   "metadata": {},
   "source": [
    "### 3.2.3 텐서의 핵심"
   ]
  },
  {
   "cell_type": "markdown",
   "id": "e946c5f6-0386-43a4-8780-ff5f567f0f77",
   "metadata": {},
   "source": [
    "리스트, 튜플 같은 파이썬 객체는 각 요소들을 따로따로 메모리에 할당한다.\\\n",
    "토치텐서, 넘파이배열은 파이썬 객체가 아닌 unboxing된 C언어의 숫자 타입을 포함한 연속적인 메모리가 할당되고 이에 대한 뷰를 제공한다."
   ]
  },
  {
   "cell_type": "markdown",
   "id": "b3901279-b8cf-46f8-a5d1-e3e42af6a317",
   "metadata": {},
   "source": [
    "기본적으로는 float32 타입"
   ]
  },
  {
   "cell_type": "markdown",
   "id": "0cda6b17-40a7-4e9f-b7c5-c494f68820f8",
   "metadata": {},
   "source": [
    "예를 들어 100만개의 float타입 숫자를 1차원 텐서에 넣는다면 400만 바이트의 연속적인 공간과 메타데이터 공간을 조금 더 차지함"
   ]
  },
  {
   "cell_type": "markdown",
   "id": "c40a4a78-5f3b-473b-97a3-9223e8b0b185",
   "metadata": {},
   "source": [
    "## 3.3 텐서 인덱싱"
   ]
  },
  {
   "cell_type": "markdown",
   "id": "95540beb-db83-4fb7-a29e-4138339a9d52",
   "metadata": {},
   "source": [
    "일단 리스트의 인덱싱, 슬라이싱과 동일한 기능을 제공"
   ]
  },
  {
   "cell_type": "code",
   "execution_count": 33,
   "id": "1ed88114-e259-4c1d-8cbd-61347938df6f",
   "metadata": {},
   "outputs": [],
   "source": [
    "ts = torch.tensor([1,2,3,4,])"
   ]
  },
  {
   "cell_type": "code",
   "execution_count": 34,
   "id": "457b4ad0-c9b4-456b-8115-0ac85b4eefa7",
   "metadata": {},
   "outputs": [
    {
     "data": {
      "text/plain": [
       "torch.Size([4])"
      ]
     },
     "execution_count": 34,
     "metadata": {},
     "output_type": "execute_result"
    }
   ],
   "source": [
    "ts.shape"
   ]
  },
  {
   "cell_type": "code",
   "execution_count": 35,
   "id": "9376f06f-a548-4c63-9a8e-3cf570e54186",
   "metadata": {},
   "outputs": [],
   "source": [
    "# unsqueeze와 동일함. 1차원을 추가해줌\n",
    "ts = ts[None]"
   ]
  },
  {
   "cell_type": "code",
   "execution_count": 36,
   "id": "0ade3725-e9b5-4fb7-8341-05187b2df8ae",
   "metadata": {},
   "outputs": [
    {
     "data": {
      "text/plain": [
       "torch.Size([1, 4])"
      ]
     },
     "execution_count": 36,
     "metadata": {},
     "output_type": "execute_result"
    }
   ],
   "source": [
    "ts.shape"
   ]
  },
  {
   "cell_type": "markdown",
   "id": "3e0e3f5c-e356-4fc2-bf6d-ceff288813f2",
   "metadata": {},
   "source": [
    "chapter 4에서 파이토치의 고급 인덱싱(advanced indexing)을 더 알아볼 것이다."
   ]
  },
  {
   "cell_type": "markdown",
   "id": "0bfccf44-7d6a-47fa-abea-e7b253ecdf43",
   "metadata": {},
   "source": [
    "## 3.4 이름이 있는 텐서\n",
    "**이름 지정해주는 건 아직 실험중인 단계라 정식으로 사용하기는 무리가 있다. 정식 출시를 기다리라는데 언제...?**"
   ]
  },
  {
   "cell_type": "markdown",
   "id": "5fabe5da-74c0-4980-aeaf-957c672cd8bb",
   "metadata": {},
   "source": [
    "img_t 3차원 이미지  텐서를 생각해보자. \\\n",
    "이미지 데이터를 흑백으로 변환한다고 하면 여러 색상별 가중치를 보고 하나의 밝기 값을 뽑는 과정이 된다."
   ]
  },
  {
   "cell_type": "code",
   "execution_count": 38,
   "id": "40589406-ce98-4abb-b1d0-83189e30af92",
   "metadata": {},
   "outputs": [],
   "source": [
    "# 이미지 텐서\n",
    "img_t = torch.randn(3, 5, 5) # channel, row, column\n",
    "# 가중치 텐서\n",
    "weights = torch.tensor([0.2126, 0.7152, 0.0722])\n",
    "# 배치 텐서\n",
    "batch_t = torch.randn(2, 3, 5, 5)"
   ]
  },
  {
   "cell_type": "code",
   "execution_count": 48,
   "id": "c62fe80d-49f4-4cba-8ae0-7259403a21ed",
   "metadata": {},
   "outputs": [
    {
     "data": {
      "text/plain": [
       "tensor([[[-0.3883, -1.0083,  1.3245,  0.2293,  0.3178],\n",
       "         [ 0.5003, -1.4504,  0.1546, -1.3273,  0.3341],\n",
       "         [-0.9918,  0.8049,  0.5150,  0.4946,  1.4373],\n",
       "         [ 0.8230,  2.1907, -0.9102,  0.2400,  0.0719],\n",
       "         [ 0.3621,  0.9015, -0.0172, -0.7824,  2.0650]],\n",
       "\n",
       "        [[ 0.1006, -0.5752, -0.6353, -1.1582, -2.1753],\n",
       "         [ 1.9616, -0.2886,  0.6062, -0.4683,  0.9523],\n",
       "         [ 0.3351,  0.6980, -0.8549,  0.0943, -0.5400],\n",
       "         [ 0.0685,  0.4749,  0.2053, -0.2325, -0.7056],\n",
       "         [-0.4542, -0.1584, -1.5266,  0.1898,  0.6956]],\n",
       "\n",
       "        [[-0.9123, -0.3582,  0.5612,  0.5559, -1.3900],\n",
       "         [ 2.0849, -1.3065, -0.0174, -1.3082,  0.2484],\n",
       "         [-0.0049,  0.1084, -1.2007, -0.1550,  1.1284],\n",
       "         [ 2.3679,  1.4098, -1.1287,  0.1188, -0.6370],\n",
       "         [ 0.5963, -1.0513,  0.9985,  0.7952,  0.2859]]])"
      ]
     },
     "execution_count": 48,
     "metadata": {},
     "output_type": "execute_result"
    }
   ],
   "source": [
    "img_t"
   ]
  },
  {
   "cell_type": "markdown",
   "id": "30315515-dc1e-4aec-a03a-fa219ea3ebba",
   "metadata": {},
   "source": [
    "dimension\\\n",
    "(3, 5, 5)차원이면\n",
    "- dim=0 : 1번째 차원 (3)   == dim=-3\n",
    "- dim=1 : 2번째 차원 (5)  == dim=-2\n",
    "- dim=2 : 3번째 차원 (5)  == dim=-1"
   ]
  },
  {
   "cell_type": "code",
   "execution_count": 51,
   "id": "1ebac335-14b6-4622-bc85-ecc8401a6eb0",
   "metadata": {},
   "outputs": [
    {
     "data": {
      "text/plain": [
       "(torch.Size([5, 5]), torch.Size([2, 5, 5]))"
      ]
     },
     "execution_count": 51,
     "metadata": {},
     "output_type": "execute_result"
    }
   ],
   "source": [
    "img_gray_naive = img_t.mean(-3)\n",
    "batch_gray_naive = batch_t.mean(-3)\n",
    "img_gray_naive.shape, batch_gray_naive.shape"
   ]
  },
  {
   "cell_type": "code",
   "execution_count": 55,
   "id": "ebf757dc-da26-4ebe-897a-8940c819eada",
   "metadata": {},
   "outputs": [
    {
     "data": {
      "text/plain": [
       "(torch.Size([2, 3, 5, 5]), torch.Size([2, 3, 5, 5]), torch.Size([3, 1, 1]))"
      ]
     },
     "execution_count": 55,
     "metadata": {},
     "output_type": "execute_result"
    }
   ],
   "source": [
    "unsqueezed_weights = weights.unsqueeze(-1).unsqueeze_(-1)\n",
    "img_weights = (img_t * unsqueezed_weights)\n",
    "batch_weights = (batch_t * unsqueezed_weights)\n",
    "img_gray_weighted = img_weights.sum(-3)\n",
    "batch_gray_weighted = batch_weights.sum(-3)\n",
    "batch_weights.shape, batch_t.shape, unsqueezed_weights.shape"
   ]
  },
  {
   "cell_type": "markdown",
   "id": "c52ff254-dbc7-4e81-af2c-cba9309c9d88",
   "metadata": {},
   "source": [
    "einsum() 함수\n",
    "- 차원별로 이름을 부여해주는 함수\n",
    "- 파이썬에서는 점 세 개(...)로 변수명 없이 합을 구하는 브로드캐스팅을 사용함\n",
    "- 인수가 복잡함"
   ]
  },
  {
   "cell_type": "markdown",
   "id": "c713d16b-e00a-4501-babf-b094e51646e4",
   "metadata": {},
   "source": [
    "결론은 텐서가 많아지고 연산을 통해 또 다른 텐서가 생기고 하다보면 차원이랑 텐서명하고 막 헷갈려 미쳐돌아가기 시작함\\\n",
    "--> 이름을 부여해주자"
   ]
  },
  {
   "cell_type": "markdown",
   "id": "fcd3ad60-1033-4170-8137-e1b0d9eb99d3",
   "metadata": {},
   "source": [
    "tensor, rand같은 텐서 팩토리 함수에 이름으로 사용할 문자열 리스트를 names 인자로 전달할 수 있다.\\\n",
    "https://pytorch.org/docs/stable/named_tensor.html"
   ]
  },
  {
   "cell_type": "code",
   "execution_count": 74,
   "id": "9e3fc90d-6639-4bcd-8192-5f6857a71e38",
   "metadata": {},
   "outputs": [
    {
     "data": {
      "text/plain": [
       "tensor([0.2126, 0.7152, 0.0722], names=('channels',))"
      ]
     },
     "execution_count": 74,
     "metadata": {},
     "output_type": "execute_result"
    }
   ],
   "source": [
    "# names 키워드인자를 지정가능 (torch 1.3이상부터)\n",
    "weights_named = torch.tensor([0.2126, 0.7152, 0.0722], names=['channels'])\n",
    "weights_named"
   ]
  },
  {
   "cell_type": "markdown",
   "id": "6753ece5-2ba0-4de0-8f38-17f8fca0395f",
   "metadata": {},
   "source": [
    "- 텐서를 먼저 만들고 나중에 이름을 지정하려면 `refine_names`함수 사용\n",
    "- 텐서 접근 시 인덱싱하듯이 생략 부호 ...을 사용하면 다른 차원은 건드리지 않는다.\n",
    "- rename함수로도 이름 변경 가능, 이름 지울려면 None을 준다."
   ]
  },
  {
   "cell_type": "code",
   "execution_count": 80,
   "id": "7c2bcbbc-b3cd-4711-86e3-e14711933dbd",
   "metadata": {},
   "outputs": [
    {
     "name": "stdout",
     "output_type": "stream",
     "text": [
      "img named:  torch.Size([3, 5, 5]) ('channels', 'rows', 'columns')\n",
      "batch named:  torch.Size([2, 3, 5, 5]) (None, 'channels', 'rows', 'columns')\n"
     ]
    }
   ],
   "source": [
    "img_named = img_t.refine_names(..., 'channels', 'rows', 'columns')\n",
    "batch_named = batch_t.refine_names(..., 'channels', 'rows', 'columns')\n",
    "print('img named: ', img_named.shape, img_named.names)\n",
    "print('batch named: ', batch_named.shape, batch_named.names)"
   ]
  },
  {
   "cell_type": "markdown",
   "id": "a5fd08ff-b44e-4b7d-b79b-be9383f322c4",
   "metadata": {},
   "source": [
    "텐서 연산을 하기위해서는 텐서간 차원이 같거나 혹은 한쪽이 1차원이라서 브로드캐스팅 될 수 있는지 따져봐야한다.\\\n",
    "이때 이름을 지정해주면 파이토치가 알아서 판단해서 체크해준다.\\\n",
    "차원을 자동으로 정렬해주니는 않아서 align_as 함수를 써서 빠진 차원은 채워주고, 존재하는 차원은 올바른 순서로 바꿔줘야한다."
   ]
  },
  {
   "cell_type": "code",
   "execution_count": 81,
   "id": "3b5eca8c-a5a1-40e3-8a2b-865b1d57ad95",
   "metadata": {},
   "outputs": [],
   "source": [
    "weights_aligned = weights_named.align_as(img_named)"
   ]
  },
  {
   "cell_type": "code",
   "execution_count": 82,
   "id": "4f55a612-88f0-4d0a-922d-fbb13ec82191",
   "metadata": {},
   "outputs": [
    {
     "data": {
      "text/plain": [
       "(torch.Size([3, 1, 1]), ('channels', 'rows', 'columns'))"
      ]
     },
     "execution_count": 82,
     "metadata": {},
     "output_type": "execute_result"
    }
   ],
   "source": [
    "weights_aligned.shape, weights_aligned.names"
   ]
  },
  {
   "cell_type": "markdown",
   "id": "d064f6da-d1a3-4d8a-b936-fdbc8244a164",
   "metadata": {},
   "source": [
    "차원에 이름을 지정해주었기때문에 dim인자가 있는 함수들에도 차원 이름을 넣어줄 수 있다."
   ]
  },
  {
   "cell_type": "code",
   "execution_count": 86,
   "id": "8e514def-fd88-48fa-b5ea-400ee76dac6d",
   "metadata": {},
   "outputs": [
    {
     "data": {
      "text/plain": [
       "(torch.Size([5, 5]), ('rows', 'columns'))"
      ]
     },
     "execution_count": 86,
     "metadata": {},
     "output_type": "execute_result"
    }
   ],
   "source": [
    "gray_named = (img_named * weights_aligned).sum(dim='channels')\n",
    "gray_named.shape, gray_named.names"
   ]
  },
  {
   "cell_type": "code",
   "execution_count": 99,
   "id": "2cf16bbd-b35d-4930-90c4-ee9ae8c1e88e",
   "metadata": {},
   "outputs": [
    {
     "ename": "RuntimeError",
     "evalue": "Error when attempting to broadcast dims ['channels', 'rows', 'columns'] and dims ['channels']: dim 'columns' and dim 'channels' are at the same position from the right but do not match.",
     "output_type": "error",
     "traceback": [
      "\u001b[0;31m---------------------------------------------------------------------------\u001b[0m",
      "\u001b[0;31mRuntimeError\u001b[0m                              Traceback (most recent call last)",
      "Input \u001b[0;32mIn [99]\u001b[0m, in \u001b[0;36m<cell line: 1>\u001b[0;34m()\u001b[0m\n\u001b[0;32m----> 1\u001b[0m gray_named \u001b[38;5;241m=\u001b[39m (\u001b[43mimg_named\u001b[49m\u001b[43m[\u001b[49m\u001b[38;5;241;43m.\u001b[39;49m\u001b[38;5;241;43m.\u001b[39;49m\u001b[38;5;241;43m.\u001b[39;49m\u001b[43m,\u001b[49m\u001b[43m \u001b[49m\u001b[43m:\u001b[49m\u001b[38;5;241;43m3\u001b[39;49m\u001b[43m]\u001b[49m\u001b[43m \u001b[49m\u001b[38;5;241;43m*\u001b[39;49m\u001b[43m \u001b[49m\u001b[43mweights_named\u001b[49m)\u001b[38;5;241m.\u001b[39msum(\u001b[38;5;124m'\u001b[39m\u001b[38;5;124mchannels\u001b[39m\u001b[38;5;124m'\u001b[39m)\n",
      "\u001b[0;31mRuntimeError\u001b[0m: Error when attempting to broadcast dims ['channels', 'rows', 'columns'] and dims ['channels']: dim 'columns' and dim 'channels' are at the same position from the right but do not match."
     ]
    }
   ],
   "source": [
    "# 이름이 다른 차원을 결합하려면 오류가 발생\n",
    "gray_named = (img_named[..., :3] * weights_named).sum('channels')"
   ]
  },
  {
   "cell_type": "markdown",
   "id": "e24f40dc-4d2a-40df-bf82-40b98c9acdad",
   "metadata": {},
   "source": [
    "이름 삭제도 가능하다."
   ]
  },
  {
   "cell_type": "code",
   "execution_count": 104,
   "id": "10c59757-dcb7-42d8-bcd3-16f21ad0667a",
   "metadata": {},
   "outputs": [
    {
     "data": {
      "text/plain": [
       "('rows', 'columns')"
      ]
     },
     "execution_count": 104,
     "metadata": {},
     "output_type": "execute_result"
    }
   ],
   "source": [
    "gray_named.names"
   ]
  },
  {
   "cell_type": "code",
   "execution_count": 106,
   "id": "136d940b-7d02-4c83-b738-1a0c6de33deb",
   "metadata": {},
   "outputs": [
    {
     "data": {
      "text/plain": [
       "(torch.Size([5, 5]), (None, None))"
      ]
     },
     "execution_count": 106,
     "metadata": {},
     "output_type": "execute_result"
    }
   ],
   "source": [
    "gray_plain = gray_named.rename(None)\n",
    "gray_plain.shape, gray_plain.names"
   ]
  },
  {
   "cell_type": "code",
   "execution_count": 107,
   "id": "e104afb2-c010-44cc-b6b9-4a2dd0afcd99",
   "metadata": {},
   "outputs": [
    {
     "data": {
      "text/plain": [
       "tensor([[-7.6493e-02, -6.5160e-01, -1.3227e-01, -7.3948e-01, -1.5886e+00],\n",
       "        [ 1.6598e+00, -6.0908e-01,  4.6519e-01, -7.1159e-01,  7.7004e-01],\n",
       "        [ 2.8466e-02,  6.7819e-01, -5.8859e-01,  1.6137e-01,  8.1711e-04],\n",
       "        [ 3.9495e-01,  9.0721e-01, -1.2816e-01, -1.0667e-01, -5.3537e-01],\n",
       "        [-2.0479e-01,  2.4347e-03, -1.0234e+00,  2.6836e-02,  9.5717e-01]])"
      ]
     },
     "execution_count": 107,
     "metadata": {},
     "output_type": "execute_result"
    }
   ],
   "source": [
    "gray_plain"
   ]
  },
  {
   "cell_type": "markdown",
   "id": "c8d71828-f861-406c-8ea0-b3302b456161",
   "metadata": {},
   "source": [
    "## 3.5 텐서 요소 타입"
   ]
  },
  {
   "cell_type": "markdown",
   "id": "9e41879c-0aac-457a-ac3e-c8992e46e3be",
   "metadata": {},
   "source": [
    "파이썬의 데이터 타입은 텐서의 타입으로는 좋지 않다."
   ]
  },
  {
   "cell_type": "markdown",
   "id": "93544154-2f42-4312-8832-4d74e33ebd40",
   "metadata": {},
   "source": [
    "- 파이썬의 숫자는 객체이다.\n",
    "    - 보통 32비트 부동소수점을 쓰는데 파이썬은 참조 카운터까지 만들어 부동소수점 수를 완전한 파이썬 객체로 반환한다.\n",
    "    - boxing이라 부르는 이 연산은 수를 소량만 저장하는 경우라면 큰 문제가 없지만, 수백만 개가 넘어가면 상당히 비효율적이다.\n",
    "- 파이썬 리스트는 연속된 객체의 컬렉션이다.\n",
    "- 파이썬 인터프리터는 최적화를 거치는 컴파일된 코드보다 느리다.\n",
    "    - 다량의 숫자 데이터 모음에 대한 수학적 연산을 수행하는 일은 C같은 저수준 컴파일을 통해 최적화된 바이너리 코드가 훨씬 빠르다."
   ]
  },
  {
   "cell_type": "markdown",
   "id": "c94a00ef-7288-4908-87c0-c1bbe0b88834",
   "metadata": {},
   "source": [
    "넘파이나 토치 텐서같은 전용 데이터 구조를 만든 후 숫자 데이터 연산은 저수준 언어로 효율을 높이도록 구현하고 동시에 고차원 API로 이런 구현을 래핑하여 편리성을 더한다."
   ]
  },
  {
   "cell_type": "markdown",
   "id": "b9cfe2e4-b116-4ca4-98f4-e9a9188059fd",
   "metadata": {},
   "source": [
    "성능 최적화를 위해 텐서 내의 모든 객체는 같은 타입의 숫자여야 하고 파이토치는 실행 중 이런 숫자 타입을 계속 추적하고 있어야 한다."
   ]
  },
  {
   "cell_type": "markdown",
   "id": "162ad6d2-e32a-4ca5-9035-45ae865796bc",
   "metadata": {},
   "source": [
    "### 3.5.1 dtype으로 숫자 타입 지정하기"
   ]
  },
  {
   "cell_type": "markdown",
   "id": "a679c0cd-e9f0-4551-85f1-3567236f9f27",
   "metadata": {},
   "source": [
    "텐서를 만들 때 키워드 인자로 dtype을 지정해 줄 수 있다."
   ]
  },
  {
   "cell_type": "markdown",
   "id": "be644598-ce71-42e9-ad4a-4a647ff43e4d",
   "metadata": {},
   "source": [
    "| 타입 | 설명 |\n",
    "| :-- | :-- |\n",
    "| torch.float32 or torch.float | 32비트 단정밀도 부동소수점 |\n",
    "| torch.float64 or torch.double | 64비트 배정밀도 부동소수점 |\n",
    "| torch.float16 or torch.half | 16비트 반정밀도 부동소수점 |\n",
    "| torch.int8 | 부호 있는 8비트 정수 |\n",
    "| torch.uint8 | 부호 없는 8비트 정수 |\n",
    "| torch.int16 or torch.short | 부호 있는 16비트 정수 |\n",
    "| torch.int32 or torch.int | 부호 있는 32비트 정수 |\n",
    "| torch.int64 or torch.long | 부호 있는 64비트 정수 | \n",
    "| torch.bool | 불리언 |\n",
    "\n",
    "텐서의 default dtype은 float32 또는 int64이다."
   ]
  },
  {
   "cell_type": "markdown",
   "id": "1f59e5fe-8f68-49ec-a0f1-dfe12a6e0713",
   "metadata": {},
   "source": [
    "### 3.5.2 모든 경우에 사용하는 dtype"
   ]
  },
  {
   "cell_type": "markdown",
   "id": "53248601-5334-4f6d-81ed-7bd1622ccbf6",
   "metadata": {},
   "source": [
    "신경망 연산은 대부분 float32를 쓴다.\\\n",
    "float64를 써봐야 모델 정확도 개선도 미미하고, 더 많은 메모리와 시간만 낭비한다.\\\n",
    "반정밀도는 표준 CPU 구현은 찾기 힘들지만 최신 GPU에는 내부에 구현되어 있다. 필요하다면 약간의 정확도를 희생해서 정밀도를 반으로 떨어뜨려 신경망이 차지하는 공간을 줄이는 방식도 가능하다."
   ]
  },
  {
   "cell_type": "markdown",
   "id": "24e6d055-9839-4514-93ad-02d76e79c808",
   "metadata": {},
   "source": [
    "### 3.5.3 텐서의 dtype 속성 관리"
   ]
  },
  {
   "cell_type": "markdown",
   "id": "fdaa2691-e0d0-41c2-96a0-bdfb663d9385",
   "metadata": {},
   "source": [
    "dtype지정해 텐서 만들기"
   ]
  },
  {
   "cell_type": "code",
   "execution_count": 114,
   "id": "aca05dce-f8da-42b6-94aa-66d55588c8f3",
   "metadata": {},
   "outputs": [],
   "source": [
    "double_points = torch.ones(10, 2, dtype=torch.double)\n",
    "short_points = torch.tensor([[1,2], [3,4]], dtype=torch.short)"
   ]
  },
  {
   "cell_type": "code",
   "execution_count": 115,
   "id": "7b1bdb99-9c9e-4009-aaf6-36f19b5bc4fa",
   "metadata": {},
   "outputs": [
    {
     "data": {
      "text/plain": [
       "(tensor([[1., 1.],\n",
       "         [1., 1.],\n",
       "         [1., 1.],\n",
       "         [1., 1.],\n",
       "         [1., 1.],\n",
       "         [1., 1.],\n",
       "         [1., 1.],\n",
       "         [1., 1.],\n",
       "         [1., 1.],\n",
       "         [1., 1.]], dtype=torch.float64),\n",
       " torch.Size([10, 2]),\n",
       " torch.float64)"
      ]
     },
     "execution_count": 115,
     "metadata": {},
     "output_type": "execute_result"
    }
   ],
   "source": [
    "double_points, double_points.shape, double_points.dtype"
   ]
  },
  {
   "cell_type": "code",
   "execution_count": 116,
   "id": "cbb26799-bc57-44a2-941c-73a8abff41d0",
   "metadata": {},
   "outputs": [
    {
     "data": {
      "text/plain": [
       "(tensor([[1, 2],\n",
       "         [3, 4]], dtype=torch.int16),\n",
       " torch.Size([2, 2]),\n",
       " torch.int16)"
      ]
     },
     "execution_count": 116,
     "metadata": {},
     "output_type": "execute_result"
    }
   ],
   "source": [
    "short_points, short_points.shape, short_points.dtype"
   ]
  },
  {
   "cell_type": "markdown",
   "id": "3c749137-3ca9-466d-b930-d5e3f8dd5c59",
   "metadata": {},
   "source": [
    "형변환 (캐스팅 메소드 사용)"
   ]
  },
  {
   "cell_type": "code",
   "execution_count": 117,
   "id": "a77f3efe-49d9-4ccb-8e91-151959b405f4",
   "metadata": {},
   "outputs": [],
   "source": [
    "double_points = torch.zeros(10, 2).double()\n",
    "short_points = torch.ones(10, 2).short()"
   ]
  },
  {
   "cell_type": "code",
   "execution_count": 118,
   "id": "b6ed2be2-267c-4f44-a6ac-b164df063ec8",
   "metadata": {},
   "outputs": [
    {
     "data": {
      "text/plain": [
       "(tensor([[0., 0.],\n",
       "         [0., 0.],\n",
       "         [0., 0.],\n",
       "         [0., 0.],\n",
       "         [0., 0.],\n",
       "         [0., 0.],\n",
       "         [0., 0.],\n",
       "         [0., 0.],\n",
       "         [0., 0.],\n",
       "         [0., 0.]], dtype=torch.float64),\n",
       " torch.Size([10, 2]),\n",
       " torch.float64)"
      ]
     },
     "execution_count": 118,
     "metadata": {},
     "output_type": "execute_result"
    }
   ],
   "source": [
    "double_points, double_points.shape, double_points.dtype"
   ]
  },
  {
   "cell_type": "code",
   "execution_count": 119,
   "id": "ed638dbc-1da7-4837-b6b1-1fae5030426f",
   "metadata": {},
   "outputs": [
    {
     "data": {
      "text/plain": [
       "(tensor([[1, 1],\n",
       "         [1, 1],\n",
       "         [1, 1],\n",
       "         [1, 1],\n",
       "         [1, 1],\n",
       "         [1, 1],\n",
       "         [1, 1],\n",
       "         [1, 1],\n",
       "         [1, 1],\n",
       "         [1, 1]], dtype=torch.int16),\n",
       " torch.Size([10, 2]),\n",
       " torch.int16)"
      ]
     },
     "execution_count": 119,
     "metadata": {},
     "output_type": "execute_result"
    }
   ],
   "source": [
    "short_points, short_points.shape, short_points.dtype"
   ]
  },
  {
   "cell_type": "markdown",
   "id": "d7d14144-d0ae-4716-ae92-091fe57071b6",
   "metadata": {},
   "source": [
    "to메소드를 이용한 형변환\n",
    "- to메소드를 이용하면 타입 외에도 추가적인 인자를 지정할 수 있다."
   ]
  },
  {
   "cell_type": "code",
   "execution_count": 122,
   "id": "4ba98140-2496-464b-8536-331a1d50272f",
   "metadata": {},
   "outputs": [],
   "source": [
    "double_points = torch.zeros(10, 2).to(torch.double)\n",
    "short_points = torch.ones(10, 2).to(dtype=torch.short)"
   ]
  },
  {
   "cell_type": "markdown",
   "id": "9a7f01ec-010c-4c15-b312-0a91236edca4",
   "metadata": {},
   "source": [
    "여러가지 타입끼리 연산되면 가장 큰 타입으로 자동으로 형변환되어 만들어진다.\\\n",
    "16비트 정수와 64비트 부동소수점끼리하면 float64로 바뀜"
   ]
  },
  {
   "cell_type": "markdown",
   "id": "cdc92efb-ee7e-49e7-8a4b-4f048fe885a4",
   "metadata": {},
   "source": [
    "# 3.6 텐서 API"
   ]
  },
  {
   "cell_type": "markdown",
   "id": "9006aa37-612b-4796-89cf-d836d359aa1f",
   "metadata": {},
   "source": [
    "대부분의 텐서 연산들은 torch모듈에 있음\\\n",
    "대부분이 텐서 객체의 메소드처럼 호출 할 수 있다."
   ]
  },
  {
   "cell_type": "markdown",
   "id": "0cad2cca-e6d6-4190-b1c0-bbba270a06c3",
   "metadata": {},
   "source": [
    "torch모듈의 메소드로 쓸 수도 있고 tensor객체의 메소드로도 쓸 수 있고"
   ]
  },
  {
   "cell_type": "markdown",
   "id": "d9fbb6ac-016c-4682-8499-7c89f277316f",
   "metadata": {},
   "source": [
    "https://pytorch.org/docs/stable/index.html"
   ]
  },
  {
   "cell_type": "markdown",
   "id": "ae56a8c3-588d-4f5a-9868-921e29efe906",
   "metadata": {},
   "source": [
    "## 3.7 텐서를 저장소 관점에서 머릿속에 그려보기"
   ]
  },
  {
   "cell_type": "markdown",
   "id": "c4ec7c06-86be-4eaa-a399-7b4a061e2e6b",
   "metadata": {},
   "source": [
    "텐서 내부 값은 실제로는 torch.Storage 인스턴스로 관리하며 연속적인 메모리 조각으로 할당된 상태다.\\\n",
    "저장 공간을 나타내는 Storage객체의 뷰 역할을 하는게 tensor객체"
   ]
  },
  {
   "cell_type": "markdown",
   "id": "6b85ba06-3f20-4ac6-b5f4-59558c6b0e12",
   "metadata": {},
   "source": [
    "### 3.7.1 저장 공간 인덱싱\n",
    "`.storage` 프로퍼티로 접근가능"
   ]
  },
  {
   "cell_type": "code",
   "execution_count": 125,
   "id": "5370e217-4d89-4d7f-80ab-9aff6c196bdd",
   "metadata": {},
   "outputs": [
    {
     "data": {
      "text/plain": [
       " 4.0\n",
       " 1.0\n",
       " 5.0\n",
       " 3.0\n",
       " 2.0\n",
       " 1.0\n",
       "[torch.storage.TypedStorage(dtype=torch.float32, device=cpu) of size 6]"
      ]
     },
     "execution_count": 125,
     "metadata": {},
     "output_type": "execute_result"
    }
   ],
   "source": [
    "points = torch.tensor([[4.0, 1.0], [5.0, 3.0], [2.0, 1.0]])\n",
    "points.storage()"
   ]
  },
  {
   "cell_type": "markdown",
   "id": "a3882816-6a7a-4802-bad9-ed708e95eb99",
   "metadata": {},
   "source": [
    "3x2 텐서를 만들었지만 실제로는 크기6인 배열 공간임. 텐서는 주어진 차원 쌍이 실제로 어느 공간에 해당하는지를 알 뿐"
   ]
  },
  {
   "cell_type": "markdown",
   "id": "8fee80a1-3ccc-4fae-8708-90afd2b1d573",
   "metadata": {},
   "source": [
    "### 3.7.2 저장된 값을 수정하기: 텐서 내부 연산"
   ]
  },
  {
   "cell_type": "markdown",
   "id": "a8c71b83-3cb9-41dd-9671-490e2a36ec24",
   "metadata": {},
   "source": [
    "zero_() : 텐서의 모든 요소를 0으로 바꿈\n",
    "\n",
    "---\n",
    "\n",
    "method_() : `_`이 붙으면 연산의 결과로 새 텐서가 넘어오는 대신 기존 텐서의 내용이 바뀌는 연산\\\n",
    "밑줄이 없는 메소드들은 원래 텐서는 그대로 두고 새로운 텐서를 만들어 넘겨준다."
   ]
  },
  {
   "cell_type": "code",
   "execution_count": 129,
   "id": "bb6234a0-d380-444e-869f-89407bdb26d3",
   "metadata": {},
   "outputs": [
    {
     "data": {
      "text/plain": [
       "tensor([[1., 1., 1.],\n",
       "        [1., 1., 1.]])"
      ]
     },
     "execution_count": 129,
     "metadata": {},
     "output_type": "execute_result"
    }
   ],
   "source": [
    "a = torch.ones(2,3)\n",
    "a"
   ]
  },
  {
   "cell_type": "code",
   "execution_count": 127,
   "id": "b587052b-dfdc-46d5-92d7-5240a9409b56",
   "metadata": {},
   "outputs": [
    {
     "data": {
      "text/plain": [
       "tensor([[0., 0., 0.],\n",
       "        [0., 0., 0.]])"
      ]
     },
     "execution_count": 127,
     "metadata": {},
     "output_type": "execute_result"
    }
   ],
   "source": [
    "a.zero_()"
   ]
  },
  {
   "cell_type": "code",
   "execution_count": 128,
   "id": "9505f943-b5e6-4997-bf7d-611612937908",
   "metadata": {},
   "outputs": [
    {
     "data": {
      "text/plain": [
       "tensor([[0., 0., 0.],\n",
       "        [0., 0., 0.]])"
      ]
     },
     "execution_count": 128,
     "metadata": {},
     "output_type": "execute_result"
    }
   ],
   "source": [
    "a"
   ]
  },
  {
   "cell_type": "markdown",
   "id": "c9ec1443-dfaf-4e7f-99e9-57c04cb8adf6",
   "metadata": {},
   "source": [
    "## 3.8 텐서 메타데이터: 사이즈, 오프셋, 스트라이드"
   ]
  },
  {
   "cell_type": "markdown",
   "id": "7ff0336b-8e48-4908-9c1b-bbebb30efd8f",
   "metadata": {},
   "source": [
    "저장 공간을 인덱스로 접근하기 위해 텐서는 저장 공간에 포함된 몇 가지 명확한 정보, 즉 사이즈(size), 오프셋(offset), 스트라이드(stride)에 의존한다."
   ]
  },
  {
   "cell_type": "code",
   "execution_count": null,
   "id": "0288a83d-7b1a-4611-a805-147525047833",
   "metadata": {},
   "outputs": [],
   "source": []
  },
  {
   "cell_type": "code",
   "execution_count": null,
   "id": "cd9f81a0-d169-416a-9a8a-a82f98660f73",
   "metadata": {},
   "outputs": [],
   "source": []
  },
  {
   "cell_type": "code",
   "execution_count": null,
   "id": "a79da5fa-169e-4318-9ac1-eb7bcec02587",
   "metadata": {},
   "outputs": [],
   "source": []
  }
 ],
 "metadata": {
  "kernelspec": {
   "display_name": "pytorch1.13 [conda env:torch113]",
   "language": "python",
   "name": "conda-env-torch113-py"
  },
  "language_info": {
   "codemirror_mode": {
    "name": "ipython",
    "version": 3
   },
   "file_extension": ".py",
   "mimetype": "text/x-python",
   "name": "python",
   "nbconvert_exporter": "python",
   "pygments_lexer": "ipython3",
   "version": "3.9.12"
  }
 },
 "nbformat": 4,
 "nbformat_minor": 5
}
