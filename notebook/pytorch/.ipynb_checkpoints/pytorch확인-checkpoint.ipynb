{
 "cells": [
  {
   "cell_type": "markdown",
   "id": "8743703d-4bf9-49c4-bedd-d77d67898d3a",
   "metadata": {},
   "source": [
    "# Pytorch GPU 가속"
   ]
  },
  {
   "cell_type": "code",
   "execution_count": 3,
   "id": "f98b203f-1b16-42ce-8b64-41b9a8552f14",
   "metadata": {},
   "outputs": [],
   "source": [
    "import torch"
   ]
  },
  {
   "cell_type": "markdown",
   "id": "b545cbd0-4cbf-479f-9b6d-6d3440f1f50a",
   "metadata": {},
   "source": [
    "## torch 버전확인"
   ]
  },
  {
   "cell_type": "code",
   "execution_count": 4,
   "id": "7617a17c-9dba-475c-96fb-9459581221ed",
   "metadata": {},
   "outputs": [
    {
     "data": {
      "text/plain": [
       "'1.13.0.dev20220815'"
      ]
     },
     "execution_count": 4,
     "metadata": {},
     "output_type": "execute_result"
    }
   ],
   "source": [
    "torch.__version__"
   ]
  },
  {
   "cell_type": "markdown",
   "id": "ceb33918-97e7-4876-a698-dd18e691f6b3",
   "metadata": {},
   "source": [
    "## 사용 가능 여부"
   ]
  },
  {
   "cell_type": "code",
   "execution_count": 7,
   "id": "469f43eb-a85d-4255-a092-5e0d8562d80d",
   "metadata": {},
   "outputs": [
    {
     "name": "stdout",
     "output_type": "stream",
     "text": [
      "PyTorch version:1.13.0.dev20220815\n",
      "\n",
      "MPS 장치를 지원하도록 build 되었는지: True\n",
      "\n",
      "MPS 장치가 사용 가능한지: True\n",
      "\n",
      "macOS-12.5-arm64-arm-64bit\n"
     ]
    }
   ],
   "source": [
    "print (f\"PyTorch version:{torch.__version__}\") # 1.12.1 이상\n",
    "print(f\"\\nMPS 장치를 지원하도록 build 되었는지: {torch.backends.mps.is_built()}\") # True 여야 합니다.\n",
    "print(f\"\\nMPS 장치가 사용 가능한지: {torch.backends.mps.is_available()}\\n\") # True 여야 합니다.\n",
    "!python -c 'import platform;print(platform.platform())'"
   ]
  },
  {
   "cell_type": "markdown",
   "id": "53b0c764-b729-43a1-a62f-af112766198f",
   "metadata": {},
   "source": [
    "## device - gpu로 보내기"
   ]
  },
  {
   "cell_type": "code",
   "execution_count": 8,
   "id": "5a0a452c-6bc0-4e64-b5fa-330991ab9828",
   "metadata": {},
   "outputs": [],
   "source": [
    "device = torch.device('mps:0' if torch.backends.mps.is_available() else 'cpu')"
   ]
  },
  {
   "cell_type": "code",
   "execution_count": 9,
   "id": "97cc15ff-c759-462b-a69e-aa61b94ac199",
   "metadata": {},
   "outputs": [
    {
     "name": "stdout",
     "output_type": "stream",
     "text": [
      "mps:0\n"
     ]
    }
   ],
   "source": [
    "print(device)"
   ]
  }
 ],
 "metadata": {
  "kernelspec": {
   "display_name": "pytorch1.13 [conda env:torch113]",
   "language": "python",
   "name": "conda-env-torch113-py"
  },
  "language_info": {
   "codemirror_mode": {
    "name": "ipython",
    "version": 3
   },
   "file_extension": ".py",
   "mimetype": "text/x-python",
   "name": "python",
   "nbconvert_exporter": "python",
   "pygments_lexer": "ipython3",
   "version": "3.9.12"
  }
 },
 "nbformat": 4,
 "nbformat_minor": 5
}
