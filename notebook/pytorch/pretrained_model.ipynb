{
 "cells": [
  {
   "cell_type": "markdown",
   "id": "255437e6-5eed-486c-9ae2-8b0d3f9d1024",
   "metadata": {},
   "source": []
  },
  {
   "cell_type": "markdown",
   "id": "57ead181-6945-412e-8063-62d89c9dd1f2",
   "metadata": {},
   "source": [
    "사전 훈련된 신경망을 이용해 이미지 인식을 해보자"
   ]
  },
  {
   "cell_type": "code",
   "execution_count": null,
   "id": "a527e3a3-2014-4d49-9aea-6f78b422270b",
   "metadata": {},
   "outputs": [],
   "source": []
  }
 ],
 "metadata": {
  "kernelspec": {
   "display_name": "pytorch1.13 [conda env:torch113]",
   "language": "python",
   "name": "conda-env-torch113-py"
  },
  "language_info": {
   "codemirror_mode": {
    "name": "ipython",
    "version": 3
   },
   "file_extension": ".py",
   "mimetype": "text/x-python",
   "name": "python",
   "nbconvert_exporter": "python",
   "pygments_lexer": "ipython3",
   "version": "3.9.12"
  }
 },
 "nbformat": 4,
 "nbformat_minor": 5
}
