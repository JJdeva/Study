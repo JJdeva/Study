{
 "cells": [
  {
   "cell_type": "markdown",
   "metadata": {},
   "source": [
    "# 선형대수"
   ]
  },
  {
   "cell_type": "code",
   "execution_count": 1,
   "metadata": {},
   "outputs": [],
   "source": [
    "import numpy as np"
   ]
  },
  {
   "cell_type": "markdown",
   "metadata": {},
   "source": [
    "### numpy.linalg. 함수\n",
    "- diag : 대각행렬 만드는 것\n",
    "- dot : 행렬 곱\n",
    "- trace : 대각합\n",
    "- det : 행렬식\n",
    "- eig : 고윳값\n",
    "- inv : 역행렬\n",
    "- pinv : 무어-펜로즈 유사역원 역행렬 구함\n",
    "- qr : QR 분해 계산\n",
    "- svd : 특잇값 분해(SVD) 계산\n",
    "- solve : A가 정방 행렬 일때 Ax = b 를 만족하는 x를 구함\n",
    "- lstsq : Ax = b 를 만족하는 최소제곱해를 구함"
   ]
  },
  {
   "cell_type": "markdown",
   "metadata": {},
   "source": []
  },
  {
   "cell_type": "markdown",
   "metadata": {},
   "source": [
    "# 난수 생성"
   ]
  },
  {
   "cell_type": "markdown",
   "metadata": {},
   "source": [
    "### np.random 이용\n",
    "- "
   ]
  },
  {
   "cell_type": "code",
   "execution_count": null,
   "metadata": {},
   "outputs": [],
   "source": []
  }
 ],
 "metadata": {
  "kernelspec": {
   "display_name": "Python 3",
   "language": "python",
   "name": "python3"
  },
  "language_info": {
   "codemirror_mode": {
    "name": "ipython",
    "version": 3
   },
   "file_extension": ".py",
   "mimetype": "text/x-python",
   "name": "python",
   "nbconvert_exporter": "python",
   "pygments_lexer": "ipython3",
   "version": "3.7.6"
  }
 },
 "nbformat": 4,
 "nbformat_minor": 4
}
