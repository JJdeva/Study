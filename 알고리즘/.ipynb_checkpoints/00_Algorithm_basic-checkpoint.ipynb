{
 "cells": [
  {
   "cell_type": "markdown",
   "metadata": {},
   "source": [
    "# Algorithm : 알고리즘이란?\n",
    "어떤 문제를 해결하기 위한 자세한 방법"
   ]
  },
  {
   "cell_type": "markdown",
   "metadata": {},
   "source": [
    "## 좋은 알고리즘?\n",
    "1. 문제를 해결하는 것\n",
    "2. 문제를 더 잘 해결하는 것"
   ]
  },
  {
   "cell_type": "markdown",
   "metadata": {},
   "source": [
    "## 컴퓨터 알고리즘이란?\n",
    "컴퓨터가 어떤 문제를 해결하기 위해 이해할 수 있는 방식으로 정리되어 있는 방법"
   ]
  },
  {
   "cell_type": "markdown",
   "metadata": {},
   "source": [
    "### 빠르고, 효율적인 알고리즘을 찾기 위해 노력해야한다\n",
    "- 개발자의 실력을 나타내는 척도 중 하나 (레벨업을 위해 계속 필수적으로 공부해야함)\n",
    "- 결국 취업을 위해선 잘해야 한다 (실력 검증의 방법)"
   ]
  },
  {
   "cell_type": "code",
   "execution_count": null,
   "metadata": {},
   "outputs": [],
   "source": []
  }
 ],
 "metadata": {
  "kernelspec": {
   "display_name": "Python 3",
   "language": "python",
   "name": "python3"
  },
  "language_info": {
   "codemirror_mode": {
    "name": "ipython",
    "version": 3
   },
   "file_extension": ".py",
   "mimetype": "text/x-python",
   "name": "python",
   "nbconvert_exporter": "python",
   "pygments_lexer": "ipython3",
   "version": "3.8.3"
  }
 },
 "nbformat": 4,
 "nbformat_minor": 4
}
