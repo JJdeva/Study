{
 "cells": [
  {
   "cell_type": "markdown",
   "id": "1a00d2b4-465d-4a79-b49f-a38bcfab8bdc",
   "metadata": {},
   "source": [
    "# 데이터 조회 프로그램"
   ]
  },
  {
   "cell_type": "code",
   "execution_count": 1,
   "id": "9f65d710-6268-4d97-a29e-d62c7d4e7591",
   "metadata": {},
   "outputs": [],
   "source": [
    "import MySQLdb"
   ]
  },
  {
   "cell_type": "code",
   "execution_count": 2,
   "id": "f360c5c3-7c90-48bf-a14a-395bccb48e89",
   "metadata": {},
   "outputs": [],
   "source": [
    "conn, cur = None, None\n",
    "data1, data2, data3, data4 = \"\", \"\", \"\", \"\"\n",
    "row = None"
   ]
  },
  {
   "cell_type": "code",
   "execution_count": 36,
   "id": "57accf3f-b82d-4fc5-b5d1-69a569cf1f98",
   "metadata": {},
   "outputs": [],
   "source": [
    "conn = MySQLdb.connect(host=\"127.0.0.1\", user=\"myuser\", password=\"qwer1234\", db=\"hanbitDB\", charset=\"utf8\")\n",
    "cur = conn.cursor()"
   ]
  },
  {
   "cell_type": "code",
   "execution_count": 37,
   "id": "b4c5b720-5d2c-4b36-a86d-38473608450f",
   "metadata": {},
   "outputs": [
    {
     "data": {
      "text/plain": [
       "5"
      ]
     },
     "execution_count": 37,
     "metadata": {},
     "output_type": "execute_result"
    }
   ],
   "source": [
    "cur.execute(\"SELECT * FROM userTable;\")"
   ]
  },
  {
   "cell_type": "code",
   "execution_count": 38,
   "id": "9ef5cd4e-9bb6-4d36-97b8-70a55b88e32e",
   "metadata": {},
   "outputs": [
    {
     "name": "stdout",
     "output_type": "stream",
     "text": [
      "사용자ID      사용자이름      이메일                출생년도\n",
      "------------------------------------------------------------\n",
      "john         John Bann      john@naver.com       1990\n",
      "kim          kim Chi        kim@daum.net         1992\n",
      "lee          Lee Pal        lee@paran.com        1988\n",
      "park         Park Su        park@gmail.com       1980\n",
      "su           Su Ji          suji@hanbit.com      1994\n"
     ]
    }
   ],
   "source": [
    "print(\"사용자ID      사용자이름      이메일                출생년도\")\n",
    "print(\"------------------------------------------------------------\")\n",
    "\n",
    "while True:\n",
    "    row = cur.fetchone()\n",
    "    if row == None:\n",
    "        break\n",
    "    data1 = row[0]\n",
    "    data2 = row[1]\n",
    "    data3 = row[2]\n",
    "    data4 = row[3]\n",
    "    print(f\"{data1:5s}        {data2:15s}{data3:20s} {data4:d}\")"
   ]
  },
  {
   "cell_type": "code",
   "execution_count": 39,
   "id": "dacb9bdd-0ff4-45a8-aefb-b6c27d599e39",
   "metadata": {},
   "outputs": [],
   "source": [
    "conn.close()"
   ]
  },
  {
   "cell_type": "markdown",
   "id": "a4b57eea-583d-4a65-86d9-c5a4a73d061b",
   "metadata": {},
   "source": [
    "- SELECT문은 입력이나 변경사항이 없으므로 commit을 해줄 필요가 없다\n",
    "- fetchone으로 한 레코드씩 불러오는데 튜플형식으로 가져온다."
   ]
  },
  {
   "cell_type": "code",
   "execution_count": null,
   "id": "be517e3e-5af4-4e0a-8974-12977994219c",
   "metadata": {},
   "outputs": [],
   "source": []
  }
 ],
 "metadata": {
  "kernelspec": {
   "display_name": "Python3 BASE",
   "language": "python",
   "name": "python3"
  },
  "language_info": {
   "codemirror_mode": {
    "name": "ipython",
    "version": 3
   },
   "file_extension": ".py",
   "mimetype": "text/x-python",
   "name": "python",
   "nbconvert_exporter": "python",
   "pygments_lexer": "ipython3",
   "version": "3.9.12"
  }
 },
 "nbformat": 4,
 "nbformat_minor": 5
}
