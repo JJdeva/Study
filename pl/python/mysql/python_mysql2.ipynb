{
 "cells": [
  {
   "cell_type": "markdown",
   "id": "d575e7be-d75c-4160-aaa4-412d91b860a8",
   "metadata": {},
   "source": [
    "# 데이터 입력 프로그램"
   ]
  },
  {
   "cell_type": "code",
   "execution_count": 1,
   "id": "e0bbc746-c51e-4043-940b-950a34847ea9",
   "metadata": {},
   "outputs": [],
   "source": [
    "import MySQLdb"
   ]
  },
  {
   "cell_type": "markdown",
   "id": "164a6a3e-1735-4bb9-bffc-7f72babc8bd9",
   "metadata": {},
   "source": [
    "사용자가 반복해서 데이터를 입력하는 코드 작성"
   ]
  },
  {
   "cell_type": "code",
   "execution_count": 2,
   "id": "ff280d4a-5c84-49d8-9a7e-0dabb2817575",
   "metadata": {},
   "outputs": [],
   "source": [
    "conn, cur = None, None\n",
    "data1, data2, data3, data4 = \"\", \"\", \"\", \"\"\n",
    "sql = \"\""
   ]
  },
  {
   "cell_type": "code",
   "execution_count": 3,
   "id": "e0cc2467-07ec-42ae-a8a1-8a44dcb2613a",
   "metadata": {},
   "outputs": [],
   "source": [
    "conn = MySQLdb.connect(host=\"127.0.0.1\", user=\"myuser\", password=\"qwer1234\", db=\"hanbitDB\", charset=\"utf8\")"
   ]
  },
  {
   "cell_type": "code",
   "execution_count": 5,
   "id": "9e6c835e-408c-416d-8003-677787d2103d",
   "metadata": {},
   "outputs": [],
   "source": [
    "cur = conn.cursor()"
   ]
  },
  {
   "cell_type": "code",
   "execution_count": 7,
   "id": "8a6bd67b-584f-464f-a77c-c54f85e34d7e",
   "metadata": {},
   "outputs": [
    {
     "name": "stdin",
     "output_type": "stream",
     "text": [
      "사용자 ID ==>  su\n",
      "사용자 이름 ==>  Su Ji\n",
      "사용자 이메일 ==>  suji@hanbit.com\n",
      "사용자 출생년도 ==>  1994\n",
      "사용자 ID ==>  \n"
     ]
    }
   ],
   "source": [
    "while True:\n",
    "    data1 = input(\"사용자 ID ==> \")\n",
    "    if data1 == \"\":\n",
    "        break;\n",
    "    data2 = input(\"사용자 이름 ==> \")\n",
    "    data3 = input(\"사용자 이메일 ==> \")\n",
    "    data4 = input(\"사용자 출생년도 ==> \")\n",
    "    sql = f\"INSERT INTO userTable VALUES ('{data1}', '{data2}', '{data3}', {data4})\"\n",
    "    cur.execute(sql)\n",
    "    \n",
    "conn.commit()\n",
    "conn.close()"
   ]
  },
  {
   "cell_type": "code",
   "execution_count": null,
   "id": "cabc12b5-ad34-434b-b7f5-05be03296089",
   "metadata": {},
   "outputs": [],
   "source": []
  }
 ],
 "metadata": {
  "kernelspec": {
   "display_name": "Python3 BASE",
   "language": "python",
   "name": "python3"
  },
  "language_info": {
   "codemirror_mode": {
    "name": "ipython",
    "version": 3
   },
   "file_extension": ".py",
   "mimetype": "text/x-python",
   "name": "python",
   "nbconvert_exporter": "python",
   "pygments_lexer": "ipython3",
   "version": "3.9.12"
  }
 },
 "nbformat": 4,
 "nbformat_minor": 5
}
