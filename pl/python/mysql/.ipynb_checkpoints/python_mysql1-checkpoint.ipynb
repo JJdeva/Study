{
 "cells": [
  {
   "cell_type": "markdown",
   "id": "878313a3-c5db-451a-9fbf-a55dc2bb853d",
   "metadata": {},
   "source": [
    "# MySQL 파이썬"
   ]
  },
  {
   "cell_type": "code",
   "execution_count": 9,
   "id": "44ce3aac-6c94-4aa5-9e6b-2213eeb8086f",
   "metadata": {},
   "outputs": [],
   "source": [
    "# !pip install mysqlclient"
   ]
  },
  {
   "cell_type": "markdown",
   "id": "10824034-2f04-44c8-b9e9-6f217284d0aa",
   "metadata": {},
   "source": [
    "## mysqlclient 임포트"
   ]
  },
  {
   "cell_type": "code",
   "execution_count": 2,
   "id": "ebceb14d-d776-47f0-bcac-c8072347a1c9",
   "metadata": {},
   "outputs": [],
   "source": [
    "import MySQLdb"
   ]
  },
  {
   "cell_type": "markdown",
   "id": "eced5e08-e496-45f6-8bc0-9f8f31488e36",
   "metadata": {},
   "source": [
    "## db와 연결"
   ]
  },
  {
   "cell_type": "code",
   "execution_count": 3,
   "id": "22729a58-ff6a-4b59-92df-4c5742a900e3",
   "metadata": {},
   "outputs": [],
   "source": [
    "conn = MySQLdb.connect(host='127.0.0.1', user='myuser', password='qwer1234', db='hanbitDB', charset='utf8')"
   ]
  },
  {
   "cell_type": "markdown",
   "id": "37a005c9-313a-40e1-89b2-56db918b332e",
   "metadata": {},
   "source": [
    "## 커서 객체 생성"
   ]
  },
  {
   "cell_type": "code",
   "execution_count": 5,
   "id": "e403e0ef-37da-49a4-8506-da7d83d3e39e",
   "metadata": {},
   "outputs": [],
   "source": [
    "cursor = conn.cursor()"
   ]
  },
  {
   "cell_type": "markdown",
   "id": "1ebbcd45-566c-42a0-a148-763b3507760c",
   "metadata": {},
   "source": [
    "## execute로 명령내리기"
   ]
  },
  {
   "cell_type": "code",
   "execution_count": 7,
   "id": "a0b9958b-7a68-4d1e-8003-7b612926a01b",
   "metadata": {},
   "outputs": [
    {
     "data": {
      "text/plain": [
       "1"
      ]
     },
     "execution_count": 7,
     "metadata": {},
     "output_type": "execute_result"
    }
   ],
   "source": [
    "# 데이터 입력\n",
    "cursor.execute(\"INSERT INTO userTable VALUES ('john', 'John Bann', 'john@naver.com', 1990)\")\n",
    "cursor.execute(\"INSERT INTO userTable VALUES ('kim', 'kim Chi', 'kim@daum.net', 1992)\")\n",
    "cursor.execute(\"INSERT INTO userTable VALUES ('lee', 'Lee Pal', 'lee@paran.com', 1988)\")\n",
    "cursor.execute(\"INSERT INTO userTable VALUES ('park', 'Park Su', 'park@gmail.com', 1980)\")"
   ]
  },
  {
   "cell_type": "markdown",
   "id": "6e019e29-ef30-447e-97f9-4494c3c1eaf5",
   "metadata": {},
   "source": [
    "## 변경사항 커밋하기"
   ]
  },
  {
   "cell_type": "code",
   "execution_count": 8,
   "id": "559169f7-afde-4e9f-bcdd-dd3b9895a8c4",
   "metadata": {},
   "outputs": [],
   "source": [
    "conn.commit()"
   ]
  },
  {
   "cell_type": "markdown",
   "id": "7c8aef1e-e5e3-4085-91a8-6c4e65a0b7c7",
   "metadata": {},
   "source": [
    "## db연결 끊기\n",
    "다쓴 db는 꼭 연결을 끊어줘야한다."
   ]
  },
  {
   "cell_type": "code",
   "execution_count": 12,
   "id": "370f36a8-c39e-4b40-ab34-f341db892cae",
   "metadata": {},
   "outputs": [],
   "source": [
    "# db 연결 끊기\n",
    "conn.close()"
   ]
  },
  {
   "cell_type": "code",
   "execution_count": null,
   "id": "5f03f157-cc3b-4cb7-a828-e919951bb750",
   "metadata": {},
   "outputs": [],
   "source": [
    " "
   ]
  }
 ],
 "metadata": {
  "kernelspec": {
   "display_name": "Python3 BASE",
   "language": "python",
   "name": "python3"
  },
  "language_info": {
   "codemirror_mode": {
    "name": "ipython",
    "version": 3
   },
   "file_extension": ".py",
   "mimetype": "text/x-python",
   "name": "python",
   "nbconvert_exporter": "python",
   "pygments_lexer": "ipython3",
   "version": "3.9.12"
  }
 },
 "nbformat": 4,
 "nbformat_minor": 5
}
