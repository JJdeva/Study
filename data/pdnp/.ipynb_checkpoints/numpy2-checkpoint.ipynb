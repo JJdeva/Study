{
 "cells": [
  {
   "cell_type": "code",
   "execution_count": 2,
   "id": "e2671d78-4881-4ed3-ae34-241eb34c5edb",
   "metadata": {},
   "outputs": [],
   "source": [
    "import numpy as np"
   ]
  },
  {
   "cell_type": "markdown",
   "id": "85935e35-57cb-4b50-8bf3-c5df99b2251e",
   "metadata": {},
   "source": [
    "중앙값(median)\n",
    "- 숫자 사이의 절반에 위치하는 값"
   ]
  },
  {
   "cell_type": "markdown",
   "id": "eb5d4f0d-9d31-4d10-bdd9-e953598c8533",
   "metadata": {},
   "source": [
    "평균(mean)\n",
    "$$ m = \\frac{\\sum_{i=1}^{N} x_N}{N} $$"
   ]
  },
  {
   "cell_type": "code",
   "execution_count": null,
   "id": "cb68b3f0-f9a0-4963-9ced-cc2e91d6bed7",
   "metadata": {},
   "outputs": [],
   "source": []
  },
  {
   "cell_type": "code",
   "execution_count": null,
   "id": "369180f3-0941-48e3-8b6e-07b5505a35ca",
   "metadata": {},
   "outputs": [],
   "source": []
  },
  {
   "cell_type": "markdown",
   "id": "7e792cda-fb04-4901-8377-ec5c142c702a",
   "metadata": {},
   "source": [
    "# 배열 연산"
   ]
  },
  {
   "cell_type": "markdown",
   "id": "81cf413c-a882-408b-9efe-add22ab84062",
   "metadata": {},
   "source": [
    "## axis\n",
    "- axis = 0 : 열\n",
    "- axis = 1 : 행"
   ]
  },
  {
   "cell_type": "code",
   "execution_count": 5,
   "id": "1f553ee0-f315-46e7-b88a-2dd5d2bed33c",
   "metadata": {},
   "outputs": [],
   "source": [
    "x = np.array([4, 1, 2, 5, 1, 12, 11, 9, 2, 15, 1, 16])"
   ]
  },
  {
   "cell_type": "code",
   "execution_count": 19,
   "id": "2b708589-3e82-43c5-94d5-5dbf7d0c84bf",
   "metadata": {},
   "outputs": [
    {
     "data": {
      "text/plain": [
       "12"
      ]
     },
     "execution_count": 19,
     "metadata": {},
     "output_type": "execute_result"
    }
   ],
   "source": [
    "len(x)"
   ]
  },
  {
   "cell_type": "code",
   "execution_count": 16,
   "id": "7ae8b8e6-bbd6-46ae-88df-2ac0a7489cf6",
   "metadata": {},
   "outputs": [
    {
     "data": {
      "text/plain": [
       "array([ 1,  1,  1,  2,  2,  4,  5,  9, 11, 12, 15, 16])"
      ]
     },
     "execution_count": 16,
     "metadata": {},
     "output_type": "execute_result"
    }
   ],
   "source": [
    "np.sort(x)"
   ]
  },
  {
   "cell_type": "code",
   "execution_count": 7,
   "id": "f793e511-ed67-43ae-8b61-28b9630dfeca",
   "metadata": {},
   "outputs": [
    {
     "data": {
      "text/plain": [
       "1.0"
      ]
     },
     "execution_count": 7,
     "metadata": {},
     "output_type": "execute_result"
    }
   ],
   "source": [
    "np.percentile(x, 0)"
   ]
  },
  {
   "cell_type": "code",
   "execution_count": 29,
   "id": "a126125c-fdad-4449-8190-d564a590c3f9",
   "metadata": {},
   "outputs": [
    {
     "data": {
      "text/plain": [
       "2.6666666666666665"
      ]
     },
     "execution_count": 29,
     "metadata": {},
     "output_type": "execute_result"
    }
   ],
   "source": [
    "2/0.75"
   ]
  },
  {
   "cell_type": "code",
   "execution_count": 34,
   "id": "407826c4-7a25-4b9d-912f-ed1385d0b628",
   "metadata": {},
   "outputs": [
    {
     "data": {
      "text/plain": [
       "1.75"
      ]
     },
     "execution_count": 34,
     "metadata": {},
     "output_type": "execute_result"
    }
   ],
   "source": [
    "index = 2.75\n",
    "l = int(index)\n",
    "r = l + 1\n",
    "i, j = x[l], x[r]\n",
    "fraction = index - int(index)\n",
    "i + (j - 1) * fraction"
   ]
  },
  {
   "cell_type": "code",
   "execution_count": 21,
   "id": "6377ff42-058e-469b-912b-18336ea604a9",
   "metadata": {},
   "outputs": [
    {
     "data": {
      "text/plain": [
       "1.75"
      ]
     },
     "execution_count": 21,
     "metadata": {},
     "output_type": "execute_result"
    }
   ],
   "source": [
    "np.percentile(x, 25, interpolation='linear')"
   ]
  },
  {
   "cell_type": "code",
   "execution_count": 20,
   "id": "da03615f-60cb-463c-a7ce-d760ee9a38d4",
   "metadata": {},
   "outputs": [
    {
     "data": {
      "text/plain": [
       "4.5"
      ]
     },
     "execution_count": 20,
     "metadata": {},
     "output_type": "execute_result"
    }
   ],
   "source": [
    "np.percentile(x, 50, interpolation='')"
   ]
  },
  {
   "cell_type": "code",
   "execution_count": 10,
   "id": "95eca24d-8c46-4281-8c91-e11aca466b28",
   "metadata": {},
   "outputs": [
    {
     "data": {
      "text/plain": [
       "11.25"
      ]
     },
     "execution_count": 10,
     "metadata": {},
     "output_type": "execute_result"
    }
   ],
   "source": [
    "np.percentile(x, 75)"
   ]
  },
  {
   "cell_type": "code",
   "execution_count": null,
   "id": "a27d8483-5559-4e79-b5c4-7900a7e2e57b",
   "metadata": {},
   "outputs": [],
   "source": [
    "np.percentilae()"
   ]
  },
  {
   "cell_type": "code",
   "execution_count": null,
   "id": "7f418cb8-39b1-4d05-9ce4-11be297b7828",
   "metadata": {},
   "outputs": [],
   "source": []
  },
  {
   "cell_type": "code",
   "execution_count": null,
   "id": "9a687360-f98f-4a77-94f1-35627b31eba8",
   "metadata": {},
   "outputs": [],
   "source": []
  },
  {
   "cell_type": "code",
   "execution_count": null,
   "id": "66b9bb43-6bc3-48ae-8de7-03ff8052ea18",
   "metadata": {},
   "outputs": [],
   "source": []
  },
  {
   "cell_type": "code",
   "execution_count": null,
   "id": "22f5c6bf-575b-48d9-8816-51dcf315dab1",
   "metadata": {},
   "outputs": [],
   "source": []
  },
  {
   "cell_type": "code",
   "execution_count": null,
   "id": "93d12c1c-ed5f-4eae-b216-40cef714fa00",
   "metadata": {},
   "outputs": [],
   "source": []
  },
  {
   "cell_type": "code",
   "execution_count": null,
   "id": "4ccfc1d1-f37c-451c-8ee0-efa7488a7ae8",
   "metadata": {},
   "outputs": [],
   "source": []
  },
  {
   "cell_type": "code",
   "execution_count": null,
   "id": "969a78c9-15fc-4b01-99f7-e917f58337d3",
   "metadata": {},
   "outputs": [],
   "source": []
  },
  {
   "cell_type": "code",
   "execution_count": null,
   "id": "0629682f-8181-46a9-911e-f6f8247f4be1",
   "metadata": {},
   "outputs": [],
   "source": []
  },
  {
   "cell_type": "code",
   "execution_count": null,
   "id": "fdb839cc-39fc-47d7-93dc-1fb642de6517",
   "metadata": {},
   "outputs": [],
   "source": []
  }
 ],
 "metadata": {
  "kernelspec": {
   "display_name": "Python3 BASE",
   "language": "python",
   "name": "python3"
  },
  "language_info": {
   "codemirror_mode": {
    "name": "ipython",
    "version": 3
   },
   "file_extension": ".py",
   "mimetype": "text/x-python",
   "name": "python",
   "nbconvert_exporter": "python",
   "pygments_lexer": "ipython3",
   "version": "3.9.12"
  }
 },
 "nbformat": 4,
 "nbformat_minor": 5
}
