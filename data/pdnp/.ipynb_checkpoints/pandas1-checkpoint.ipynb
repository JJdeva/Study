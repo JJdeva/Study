{
 "cells": [
  {
   "cell_type": "code",
   "execution_count": 1,
   "id": "4b6cb57f-041e-4d5f-bfde-e9f2b26b21a5",
   "metadata": {},
   "outputs": [],
   "source": [
    "import pandas as pd"
   ]
  },
  {
   "cell_type": "code",
   "execution_count": 3,
   "id": "b7b3fad0-2cec-40b2-92ae-836c4256a503",
   "metadata": {},
   "outputs": [],
   "source": [
    "tup_data = ('이름임', '2022-11-08', 100, True)\n",
    "sr = pd.Series(tup_data, index=['이름', '날짜', '숫자', '부울'])"
   ]
  },
  {
   "cell_type": "code",
   "execution_count": 4,
   "id": "768c7e77-6698-46ea-b949-dbafdcb29e2d",
   "metadata": {},
   "outputs": [
    {
     "name": "stdout",
     "output_type": "stream",
     "text": [
      "이름           이름임\n",
      "날짜    2022-11-08\n",
      "숫자           100\n",
      "부울          True\n",
      "dtype: object\n"
     ]
    }
   ],
   "source": [
    "print(sr)"
   ]
  },
  {
   "cell_type": "markdown",
   "id": "796c8437-26c2-4eea-aa8b-681a2173c6f8",
   "metadata": {},
   "source": []
  },
  {
   "cell_type": "markdown",
   "id": "0f81c3f7-39aa-45d3-9e0b-e7928ffb8d37",
   "metadata": {},
   "source": [
    "인덱싱"
   ]
  },
  {
   "cell_type": "code",
   "execution_count": 5,
   "id": "9cdf0b89-8aa2-43fd-a8e2-edeb305b9ccd",
   "metadata": {},
   "outputs": [
    {
     "data": {
      "text/plain": [
       "'이름임'"
      ]
     },
     "execution_count": 5,
     "metadata": {},
     "output_type": "execute_result"
    }
   ],
   "source": [
    "sr['이름']"
   ]
  },
  {
   "cell_type": "code",
   "execution_count": 6,
   "id": "3f06f666-4cb8-4589-9762-734ae74bbe30",
   "metadata": {},
   "outputs": [
    {
     "data": {
      "text/plain": [
       "'이름임'"
      ]
     },
     "execution_count": 6,
     "metadata": {},
     "output_type": "execute_result"
    }
   ],
   "source": [
    "sr[0]"
   ]
  },
  {
   "cell_type": "code",
   "execution_count": 7,
   "id": "562257f3-c95d-4634-bd6e-128eab7ddef6",
   "metadata": {},
   "outputs": [
    {
     "data": {
      "text/plain": [
       "이름    이름임\n",
       "숫자    100\n",
       "dtype: object"
      ]
     },
     "execution_count": 7,
     "metadata": {},
     "output_type": "execute_result"
    }
   ],
   "source": [
    "sr[['이름', '숫자']]"
   ]
  },
  {
   "cell_type": "markdown",
   "id": "5fa0434b-6576-4f87-b269-d0713df099be",
   "metadata": {},
   "source": []
  },
  {
   "cell_type": "markdown",
   "id": "11c5bf78-fa77-4862-bc43-fb820f1ab046",
   "metadata": {},
   "source": [
    "슬라이싱\n",
    "- 숫자형 인덱스로 슬리이싱하면 끝은 포함 X\n",
    "- 문자열 인덱스로 슬라이싱하면 끝도 포함 O"
   ]
  },
  {
   "cell_type": "code",
   "execution_count": 12,
   "id": "b022f454-9d62-47de-bbc7-91c477895337",
   "metadata": {},
   "outputs": [
    {
     "data": {
      "text/plain": [
       "이름           이름임\n",
       "날짜    2022-11-08\n",
       "dtype: object"
      ]
     },
     "execution_count": 12,
     "metadata": {},
     "output_type": "execute_result"
    }
   ],
   "source": [
    "sr[0:2] # 2는 포함되지 않음"
   ]
  },
  {
   "cell_type": "code",
   "execution_count": 13,
   "id": "5a5f4604-b2d9-4988-b5d7-a2dcbc452e3f",
   "metadata": {},
   "outputs": [
    {
     "data": {
      "text/plain": [
       "날짜    2022-11-08\n",
       "숫자           100\n",
       "dtype: object"
      ]
     },
     "execution_count": 13,
     "metadata": {},
     "output_type": "execute_result"
    }
   ],
   "source": [
    "sr['날짜':'숫자'] # 숫자도 포함"
   ]
  },
  {
   "cell_type": "markdown",
   "id": "f2d46fdc-07bb-4251-8131-12b60d8bca15",
   "metadata": {},
   "source": [
    "# 데이터 프레임"
   ]
  },
  {
   "cell_type": "markdown",
   "id": "38cd0ba9-d30a-4e40-8d5c-6927c9184ed2",
   "metadata": {},
   "source": [
    "DataFrame은 Serieses의 집합"
   ]
  },
  {
   "cell_type": "markdown",
   "id": "cc9b0e5e-dd23-4683-a8b4-f7d82926a3c9",
   "metadata": {},
   "source": [
    "데이터프레임을 생성하기 위해 여러 시리즈 필요\\\n",
    "여러 시리즈 = 여러 열"
   ]
  },
  {
   "cell_type": "code",
   "execution_count": null,
   "id": "f4bbb576-50c9-480c-8149-528b123c7629",
   "metadata": {},
   "outputs": [],
   "source": []
  },
  {
   "cell_type": "markdown",
   "id": "d3b03c5c-f73a-4657-aa81-9b3f52324723",
   "metadata": {},
   "source": [
    "인덱스 이름과 열 이름 직접 지정\\\n",
    "딕셔너리로 데이터프레임을 생성할 경우 키가 열 이름, 값이 각각 데이터에 위치\\\n",
    "직접 데이터프레임을 만들 경우 리스트가 그대로 행의 자리로 들어감"
   ]
  },
  {
   "cell_type": "code",
   "execution_count": 14,
   "id": "e6743a70-1fb0-4377-af57-7a05ec416d3a",
   "metadata": {},
   "outputs": [],
   "source": [
    "df = pd.DataFrame([[22, '남', '인천대'], [24, '여', '부산대']], index=['규석', '다미'], columns=['나이', '성별', '대학'])"
   ]
  },
  {
   "cell_type": "code",
   "execution_count": 15,
   "id": "1397ae52-50f1-403e-97c9-0c2be7ee79de",
   "metadata": {},
   "outputs": [
    {
     "data": {
      "text/html": [
       "<div>\n",
       "<style scoped>\n",
       "    .dataframe tbody tr th:only-of-type {\n",
       "        vertical-align: middle;\n",
       "    }\n",
       "\n",
       "    .dataframe tbody tr th {\n",
       "        vertical-align: top;\n",
       "    }\n",
       "\n",
       "    .dataframe thead th {\n",
       "        text-align: right;\n",
       "    }\n",
       "</style>\n",
       "<table border=\"1\" class=\"dataframe\">\n",
       "  <thead>\n",
       "    <tr style=\"text-align: right;\">\n",
       "      <th></th>\n",
       "      <th>나이</th>\n",
       "      <th>성별</th>\n",
       "      <th>대학</th>\n",
       "    </tr>\n",
       "  </thead>\n",
       "  <tbody>\n",
       "    <tr>\n",
       "      <th>규석</th>\n",
       "      <td>22</td>\n",
       "      <td>남</td>\n",
       "      <td>인천대</td>\n",
       "    </tr>\n",
       "    <tr>\n",
       "      <th>다미</th>\n",
       "      <td>24</td>\n",
       "      <td>여</td>\n",
       "      <td>부산대</td>\n",
       "    </tr>\n",
       "  </tbody>\n",
       "</table>\n",
       "</div>"
      ],
      "text/plain": [
       "    나이 성별   대학\n",
       "규석  22  남  인천대\n",
       "다미  24  여  부산대"
      ]
     },
     "execution_count": 15,
     "metadata": {},
     "output_type": "execute_result"
    }
   ],
   "source": [
    "df"
   ]
  },
  {
   "cell_type": "code",
   "execution_count": 16,
   "id": "eef308fc-0ce6-4bf5-ac0b-bcf8e24cc87f",
   "metadata": {},
   "outputs": [
    {
     "data": {
      "text/plain": [
       "(Index(['규석', '다미'], dtype='object'),\n",
       " Index(['나이', '성별', '대학'], dtype='object'))"
      ]
     },
     "execution_count": 16,
     "metadata": {},
     "output_type": "execute_result"
    }
   ],
   "source": [
    "df.index, df.columns"
   ]
  },
  {
   "cell_type": "code",
   "execution_count": null,
   "id": "0e555d11-2401-4037-b7ba-926a3e4f905c",
   "metadata": {},
   "outputs": [],
   "source": []
  },
  {
   "cell_type": "markdown",
   "id": "4680c6c1-3ce2-4c02-84fc-a75fa9637166",
   "metadata": {},
   "source": [
    "행 인덱스와 열 이름 변경"
   ]
  },
  {
   "cell_type": "code",
   "execution_count": 17,
   "id": "7c8cd50c-32e4-4bca-8201-289ae0a0a8e6",
   "metadata": {},
   "outputs": [],
   "source": [
    "df = pd.DataFrame([[22, '남', '인천대'], [24, '여', '부산대']], index=['규석', '다미'], columns=['나이', '성별', '대학'])"
   ]
  },
  {
   "cell_type": "code",
   "execution_count": 19,
   "id": "82899be7-5d49-4afa-9709-fd099fae4e88",
   "metadata": {},
   "outputs": [],
   "source": [
    "df.rename(index={'규석':'학생1', '다미':'학생2'}, inplace=True)\n",
    "df.rename(columns={'나이':'연령', '성별':'남여', '대학':'학교'}, inplace=True)"
   ]
  },
  {
   "cell_type": "code",
   "execution_count": 20,
   "id": "14b521fc-46cb-481c-9ced-0a2af5284aef",
   "metadata": {},
   "outputs": [
    {
     "data": {
      "text/html": [
       "<div>\n",
       "<style scoped>\n",
       "    .dataframe tbody tr th:only-of-type {\n",
       "        vertical-align: middle;\n",
       "    }\n",
       "\n",
       "    .dataframe tbody tr th {\n",
       "        vertical-align: top;\n",
       "    }\n",
       "\n",
       "    .dataframe thead th {\n",
       "        text-align: right;\n",
       "    }\n",
       "</style>\n",
       "<table border=\"1\" class=\"dataframe\">\n",
       "  <thead>\n",
       "    <tr style=\"text-align: right;\">\n",
       "      <th></th>\n",
       "      <th>연령</th>\n",
       "      <th>남여</th>\n",
       "      <th>학교</th>\n",
       "    </tr>\n",
       "  </thead>\n",
       "  <tbody>\n",
       "    <tr>\n",
       "      <th>학생1</th>\n",
       "      <td>22</td>\n",
       "      <td>남</td>\n",
       "      <td>인천대</td>\n",
       "    </tr>\n",
       "    <tr>\n",
       "      <th>학생2</th>\n",
       "      <td>24</td>\n",
       "      <td>여</td>\n",
       "      <td>부산대</td>\n",
       "    </tr>\n",
       "  </tbody>\n",
       "</table>\n",
       "</div>"
      ],
      "text/plain": [
       "     연령 남여   학교\n",
       "학생1  22  남  인천대\n",
       "학생2  24  여  부산대"
      ]
     },
     "execution_count": 20,
     "metadata": {},
     "output_type": "execute_result"
    }
   ],
   "source": [
    "df"
   ]
  },
  {
   "cell_type": "markdown",
   "id": "35a2d2ca-2ef8-4dfa-8df1-20bdea23ce2e",
   "metadata": {},
   "source": []
  },
  {
   "cell_type": "markdown",
   "id": "870ca6eb-fc5b-4adf-902a-937e9896c77d",
   "metadata": {},
   "source": [
    "행 제거, 열 제거"
   ]
  },
  {
   "cell_type": "code",
   "execution_count": 25,
   "id": "503ff5fb-1711-45ad-8e28-e0384403c0d2",
   "metadata": {},
   "outputs": [],
   "source": [
    "dic = {'국어' : [90, 80, 70], '수학':[75, 85, 85],  '영어':[95, 100, 95]}"
   ]
  },
  {
   "cell_type": "code",
   "execution_count": 26,
   "id": "f7d8c5ab-9ada-4ecc-9e07-0dace842810f",
   "metadata": {},
   "outputs": [],
   "source": [
    "df= pd.DataFrame(dic, index=['학생1', '학생2', '학생3'])"
   ]
  },
  {
   "cell_type": "code",
   "execution_count": 30,
   "id": "b096055d-9f55-437b-a374-fbe02dedfa3f",
   "metadata": {},
   "outputs": [],
   "source": [
    "df2 = df.copy()\n",
    "df3 = df.copy()"
   ]
  },
  {
   "cell_type": "markdown",
   "id": "6775c381-0ee8-4d37-a74b-4204169ff523",
   "metadata": {},
   "source": [
    "drop()함수"
   ]
  },
  {
   "cell_type": "code",
   "execution_count": 34,
   "id": "15e1270c-4956-484e-9945-bd9d1e3318a6",
   "metadata": {},
   "outputs": [],
   "source": [
    "df2.drop('학생3', inplace=True)"
   ]
  },
  {
   "cell_type": "code",
   "execution_count": 38,
   "id": "752e39aa-4951-4713-af5f-5b6cf7ea0587",
   "metadata": {},
   "outputs": [
    {
     "data": {
      "text/html": [
       "<div>\n",
       "<style scoped>\n",
       "    .dataframe tbody tr th:only-of-type {\n",
       "        vertical-align: middle;\n",
       "    }\n",
       "\n",
       "    .dataframe tbody tr th {\n",
       "        vertical-align: top;\n",
       "    }\n",
       "\n",
       "    .dataframe thead th {\n",
       "        text-align: right;\n",
       "    }\n",
       "</style>\n",
       "<table border=\"1\" class=\"dataframe\">\n",
       "  <thead>\n",
       "    <tr style=\"text-align: right;\">\n",
       "      <th></th>\n",
       "      <th>국어</th>\n",
       "      <th>수학</th>\n",
       "      <th>영어</th>\n",
       "    </tr>\n",
       "  </thead>\n",
       "  <tbody>\n",
       "    <tr>\n",
       "      <th>학생1</th>\n",
       "      <td>90</td>\n",
       "      <td>75</td>\n",
       "      <td>95</td>\n",
       "    </tr>\n",
       "    <tr>\n",
       "      <th>학생2</th>\n",
       "      <td>80</td>\n",
       "      <td>85</td>\n",
       "      <td>100</td>\n",
       "    </tr>\n",
       "  </tbody>\n",
       "</table>\n",
       "</div>"
      ],
      "text/plain": [
       "     국어  수학   영어\n",
       "학생1  90  75   95\n",
       "학생2  80  85  100"
      ]
     },
     "execution_count": 38,
     "metadata": {},
     "output_type": "execute_result"
    }
   ],
   "source": [
    "df2"
   ]
  },
  {
   "cell_type": "code",
   "execution_count": 41,
   "id": "0475c5a0-510b-4d86-a2d3-d66d421bd505",
   "metadata": {},
   "outputs": [
    {
     "data": {
      "text/html": [
       "<div>\n",
       "<style scoped>\n",
       "    .dataframe tbody tr th:only-of-type {\n",
       "        vertical-align: middle;\n",
       "    }\n",
       "\n",
       "    .dataframe tbody tr th {\n",
       "        vertical-align: top;\n",
       "    }\n",
       "\n",
       "    .dataframe thead th {\n",
       "        text-align: right;\n",
       "    }\n",
       "</style>\n",
       "<table border=\"1\" class=\"dataframe\">\n",
       "  <thead>\n",
       "    <tr style=\"text-align: right;\">\n",
       "      <th></th>\n",
       "      <th>수학</th>\n",
       "      <th>영어</th>\n",
       "    </tr>\n",
       "  </thead>\n",
       "  <tbody>\n",
       "    <tr>\n",
       "      <th>학생1</th>\n",
       "      <td>75</td>\n",
       "      <td>95</td>\n",
       "    </tr>\n",
       "    <tr>\n",
       "      <th>학생2</th>\n",
       "      <td>85</td>\n",
       "      <td>100</td>\n",
       "    </tr>\n",
       "    <tr>\n",
       "      <th>학생3</th>\n",
       "      <td>85</td>\n",
       "      <td>95</td>\n",
       "    </tr>\n",
       "  </tbody>\n",
       "</table>\n",
       "</div>"
      ],
      "text/plain": [
       "     수학   영어\n",
       "학생1  75   95\n",
       "학생2  85  100\n",
       "학생3  85   95"
      ]
     },
     "execution_count": 41,
     "metadata": {},
     "output_type": "execute_result"
    }
   ],
   "source": [
    "df3.drop(columns='국어')"
   ]
  },
  {
   "cell_type": "code",
   "execution_count": 44,
   "id": "a9bf6148-2ec2-445c-8c1c-bdeac524d403",
   "metadata": {},
   "outputs": [
    {
     "ename": "TypeError",
     "evalue": "'Index' object is not callable",
     "output_type": "error",
     "traceback": [
      "\u001b[0;31m---------------------------------------------------------------------------\u001b[0m",
      "\u001b[0;31mTypeError\u001b[0m                                 Traceback (most recent call last)",
      "Input \u001b[0;32mIn [44]\u001b[0m, in \u001b[0;36m<cell line: 1>\u001b[0;34m()\u001b[0m\n\u001b[0;32m----> 1\u001b[0m \u001b[43mdf\u001b[49m\u001b[38;5;241;43m.\u001b[39;49m\u001b[43mcolumns\u001b[49m\u001b[43m(\u001b[49m\u001b[43mindex\u001b[49m\u001b[38;5;241;43m=\u001b[39;49m\u001b[38;5;124;43m'\u001b[39;49m\u001b[38;5;124;43m수학\u001b[39;49m\u001b[38;5;124;43m'\u001b[39;49m\u001b[43m)\u001b[49m\n",
      "\u001b[0;31mTypeError\u001b[0m: 'Index' object is not callable"
     ]
    }
   ],
   "source": []
  },
  {
   "cell_type": "code",
   "execution_count": null,
   "id": "b24d8bef-a9ac-4261-8240-6fed46af9879",
   "metadata": {},
   "outputs": [],
   "source": []
  },
  {
   "cell_type": "code",
   "execution_count": null,
   "id": "fc8a3b26-2264-4513-b084-adaa4c592544",
   "metadata": {},
   "outputs": [],
   "source": []
  },
  {
   "cell_type": "code",
   "execution_count": null,
   "id": "80ef3784-e9fb-42b1-870f-3c28abd945f2",
   "metadata": {},
   "outputs": [],
   "source": []
  },
  {
   "cell_type": "code",
   "execution_count": null,
   "id": "9b9457a1-31c9-4d93-b4da-4d14dbdcfc14",
   "metadata": {},
   "outputs": [],
   "source": []
  },
  {
   "cell_type": "code",
   "execution_count": 61,
   "id": "a4b68de0-7250-4b87-b4e5-765bb3a1e53d",
   "metadata": {},
   "outputs": [],
   "source": [
    "exam_data = {\n",
    "    '이름': ['학생1', '학생2', '학생3', '학생4', '학생5'],\n",
    "    '국어': [90, 80, 70, 60, 50],\n",
    "    '수학': [75, 85,85, 90, 100],\n",
    "    '영어': [95, 100, 95, 90, 90]\n",
    "}\n",
    "exam_data2 = {\n",
    "    '국어': [90, 80, 70, 60, 50],\n",
    "    '수학': [75, 85,85, 90, 100],\n",
    "    '영어': [95, 100, 95, 90, 90]\n",
    "}\n",
    "df = pd.DataFrame(exam_data)\n",
    "df2 = pd.DataFrame(exam_data2, index=['학생1', '학생2', '학생3', '학생4', '학생5'])"
   ]
  },
  {
   "cell_type": "markdown",
   "id": "7efa22bb-af8b-43ab-a42e-b6f330f2a5ea",
   "metadata": {},
   "source": [
    "단일 원소 선택"
   ]
  },
  {
   "cell_type": "code",
   "execution_count": 66,
   "id": "60b667a5-c445-4364-b56a-74ce291aa120",
   "metadata": {},
   "outputs": [],
   "source": [
    "# 기준행 잡기\n",
    "df.set_index('이름', inplace=True)\n",
    "df2.set_index('국어', inplace=True)"
   ]
  },
  {
   "cell_type": "code",
   "execution_count": 67,
   "id": "0f1cbebd-c416-4a06-839c-9cac72d23ce3",
   "metadata": {},
   "outputs": [
    {
     "data": {
      "text/html": [
       "<div>\n",
       "<style scoped>\n",
       "    .dataframe tbody tr th:only-of-type {\n",
       "        vertical-align: middle;\n",
       "    }\n",
       "\n",
       "    .dataframe tbody tr th {\n",
       "        vertical-align: top;\n",
       "    }\n",
       "\n",
       "    .dataframe thead th {\n",
       "        text-align: right;\n",
       "    }\n",
       "</style>\n",
       "<table border=\"1\" class=\"dataframe\">\n",
       "  <thead>\n",
       "    <tr style=\"text-align: right;\">\n",
       "      <th></th>\n",
       "      <th>국어</th>\n",
       "      <th>수학</th>\n",
       "      <th>영어</th>\n",
       "    </tr>\n",
       "    <tr>\n",
       "      <th>이름</th>\n",
       "      <th></th>\n",
       "      <th></th>\n",
       "      <th></th>\n",
       "    </tr>\n",
       "  </thead>\n",
       "  <tbody>\n",
       "    <tr>\n",
       "      <th>학생1</th>\n",
       "      <td>90</td>\n",
       "      <td>75</td>\n",
       "      <td>95</td>\n",
       "    </tr>\n",
       "    <tr>\n",
       "      <th>학생2</th>\n",
       "      <td>80</td>\n",
       "      <td>85</td>\n",
       "      <td>100</td>\n",
       "    </tr>\n",
       "    <tr>\n",
       "      <th>학생3</th>\n",
       "      <td>70</td>\n",
       "      <td>85</td>\n",
       "      <td>95</td>\n",
       "    </tr>\n",
       "    <tr>\n",
       "      <th>학생4</th>\n",
       "      <td>60</td>\n",
       "      <td>90</td>\n",
       "      <td>90</td>\n",
       "    </tr>\n",
       "    <tr>\n",
       "      <th>학생5</th>\n",
       "      <td>50</td>\n",
       "      <td>100</td>\n",
       "      <td>90</td>\n",
       "    </tr>\n",
       "  </tbody>\n",
       "</table>\n",
       "</div>"
      ],
      "text/plain": [
       "     국어   수학   영어\n",
       "이름               \n",
       "학생1  90   75   95\n",
       "학생2  80   85  100\n",
       "학생3  70   85   95\n",
       "학생4  60   90   90\n",
       "학생5  50  100   90"
      ]
     },
     "execution_count": 67,
     "metadata": {},
     "output_type": "execute_result"
    }
   ],
   "source": [
    "df"
   ]
  },
  {
   "cell_type": "code",
   "execution_count": 68,
   "id": "b427c024-fe48-4c59-a21d-a1b78c77ee47",
   "metadata": {},
   "outputs": [
    {
     "data": {
      "text/html": [
       "<div>\n",
       "<style scoped>\n",
       "    .dataframe tbody tr th:only-of-type {\n",
       "        vertical-align: middle;\n",
       "    }\n",
       "\n",
       "    .dataframe tbody tr th {\n",
       "        vertical-align: top;\n",
       "    }\n",
       "\n",
       "    .dataframe thead th {\n",
       "        text-align: right;\n",
       "    }\n",
       "</style>\n",
       "<table border=\"1\" class=\"dataframe\">\n",
       "  <thead>\n",
       "    <tr style=\"text-align: right;\">\n",
       "      <th></th>\n",
       "      <th>수학</th>\n",
       "      <th>영어</th>\n",
       "    </tr>\n",
       "    <tr>\n",
       "      <th>국어</th>\n",
       "      <th></th>\n",
       "      <th></th>\n",
       "    </tr>\n",
       "  </thead>\n",
       "  <tbody>\n",
       "    <tr>\n",
       "      <th>90</th>\n",
       "      <td>75</td>\n",
       "      <td>95</td>\n",
       "    </tr>\n",
       "    <tr>\n",
       "      <th>80</th>\n",
       "      <td>85</td>\n",
       "      <td>100</td>\n",
       "    </tr>\n",
       "    <tr>\n",
       "      <th>70</th>\n",
       "      <td>85</td>\n",
       "      <td>95</td>\n",
       "    </tr>\n",
       "    <tr>\n",
       "      <th>60</th>\n",
       "      <td>90</td>\n",
       "      <td>90</td>\n",
       "    </tr>\n",
       "    <tr>\n",
       "      <th>50</th>\n",
       "      <td>100</td>\n",
       "      <td>90</td>\n",
       "    </tr>\n",
       "  </tbody>\n",
       "</table>\n",
       "</div>"
      ],
      "text/plain": [
       "     수학   영어\n",
       "국어          \n",
       "90   75   95\n",
       "80   85  100\n",
       "70   85   95\n",
       "60   90   90\n",
       "50  100   90"
      ]
     },
     "execution_count": 68,
     "metadata": {},
     "output_type": "execute_result"
    }
   ],
   "source": [
    "df2"
   ]
  },
  {
   "cell_type": "code",
   "execution_count": null,
   "id": "3fa65283-c5ea-40d8-b8f6-b605d8df9e63",
   "metadata": {},
   "outputs": [],
   "source": []
  }
 ],
 "metadata": {
  "kernelspec": {
   "display_name": "Python3 BASE",
   "language": "python",
   "name": "python3"
  },
  "language_info": {
   "codemirror_mode": {
    "name": "ipython",
    "version": 3
   },
   "file_extension": ".py",
   "mimetype": "text/x-python",
   "name": "python",
   "nbconvert_exporter": "python",
   "pygments_lexer": "ipython3",
   "version": "3.9.12"
  }
 },
 "nbformat": 4,
 "nbformat_minor": 5
}
